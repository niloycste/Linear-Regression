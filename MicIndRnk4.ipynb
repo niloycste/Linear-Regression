{
 "cells": [
  {
   "cell_type": "code",
   "execution_count": 1,
   "metadata": {},
   "outputs": [],
   "source": [
    "import pandas as pd\n",
    "data_df=pd.read_csv(r\"C:\\Users\\Niloy\\Linear Regression\\MicIndRnk4.csv\",header=None)"
   ]
  },
  {
   "cell_type": "code",
   "execution_count": 2,
   "metadata": {},
   "outputs": [],
   "source": [
    "data_df.columns=['independant A','independant B','independant C','independant D','independant E','independant F','independant G','independant H','independant I','independant J ','independant K','independant L','Dependant M']"
   ]
  },
  {
   "cell_type": "code",
   "execution_count": 3,
   "metadata": {},
   "outputs": [
    {
     "data": {
      "text/html": [
       "<div>\n",
       "<style scoped>\n",
       "    .dataframe tbody tr th:only-of-type {\n",
       "        vertical-align: middle;\n",
       "    }\n",
       "\n",
       "    .dataframe tbody tr th {\n",
       "        vertical-align: top;\n",
       "    }\n",
       "\n",
       "    .dataframe thead th {\n",
       "        text-align: right;\n",
       "    }\n",
       "</style>\n",
       "<table border=\"1\" class=\"dataframe\">\n",
       "  <thead>\n",
       "    <tr style=\"text-align: right;\">\n",
       "      <th></th>\n",
       "      <th>independant A</th>\n",
       "      <th>independant B</th>\n",
       "      <th>independant C</th>\n",
       "      <th>independant D</th>\n",
       "      <th>independant E</th>\n",
       "      <th>independant F</th>\n",
       "      <th>independant G</th>\n",
       "      <th>independant H</th>\n",
       "      <th>independant I</th>\n",
       "      <th>independant J</th>\n",
       "      <th>independant K</th>\n",
       "      <th>independant L</th>\n",
       "      <th>Dependant M</th>\n",
       "    </tr>\n",
       "  </thead>\n",
       "  <tbody>\n",
       "    <tr>\n",
       "      <td>0</td>\n",
       "      <td>271235.250</td>\n",
       "      <td>45519.00</td>\n",
       "      <td>4174.00</td>\n",
       "      <td>4614.25</td>\n",
       "      <td>45533.000</td>\n",
       "      <td>1428.250</td>\n",
       "      <td>30728.833</td>\n",
       "      <td>26.50</td>\n",
       "      <td>27.00</td>\n",
       "      <td>45651.40</td>\n",
       "      <td>3489.80</td>\n",
       "      <td>45614.25</td>\n",
       "      <td>45651.40</td>\n",
       "    </tr>\n",
       "    <tr>\n",
       "      <td>1</td>\n",
       "      <td>250852.333</td>\n",
       "      <td>57541.50</td>\n",
       "      <td>2640.75</td>\n",
       "      <td>6040.80</td>\n",
       "      <td>42060.000</td>\n",
       "      <td>1903.250</td>\n",
       "      <td>39245.250</td>\n",
       "      <td>1007.50</td>\n",
       "      <td>808.00</td>\n",
       "      <td>40974.25</td>\n",
       "      <td>3136.00</td>\n",
       "      <td>41000.00</td>\n",
       "      <td>40974.25</td>\n",
       "    </tr>\n",
       "    <tr>\n",
       "      <td>2</td>\n",
       "      <td>299250.250</td>\n",
       "      <td>56498.50</td>\n",
       "      <td>3326.50</td>\n",
       "      <td>4768.00</td>\n",
       "      <td>56495.333</td>\n",
       "      <td>1903.250</td>\n",
       "      <td>31914.500</td>\n",
       "      <td>482.00</td>\n",
       "      <td>481.75</td>\n",
       "      <td>56000.00</td>\n",
       "      <td>4284.00</td>\n",
       "      <td>56000.00</td>\n",
       "      <td>56000.00</td>\n",
       "    </tr>\n",
       "    <tr>\n",
       "      <td>3</td>\n",
       "      <td>167717.750</td>\n",
       "      <td>38888.25</td>\n",
       "      <td>1623.20</td>\n",
       "      <td>3932.00</td>\n",
       "      <td>23542.250</td>\n",
       "      <td>1168.750</td>\n",
       "      <td>26233.800</td>\n",
       "      <td>699.25</td>\n",
       "      <td>700.00</td>\n",
       "      <td>22920.00</td>\n",
       "      <td>1753.00</td>\n",
       "      <td>22777.50</td>\n",
       "      <td>22920.00</td>\n",
       "    </tr>\n",
       "    <tr>\n",
       "      <td>4</td>\n",
       "      <td>176597.000</td>\n",
       "      <td>40471.20</td>\n",
       "      <td>4604.75</td>\n",
       "      <td>4366.50</td>\n",
       "      <td>21794.250</td>\n",
       "      <td>1218.667</td>\n",
       "      <td>28977.250</td>\n",
       "      <td>756.50</td>\n",
       "      <td>1.00</td>\n",
       "      <td>21000.00</td>\n",
       "      <td>1599.75</td>\n",
       "      <td>21000.00</td>\n",
       "      <td>20916.25</td>\n",
       "    </tr>\n",
       "  </tbody>\n",
       "</table>\n",
       "</div>"
      ],
      "text/plain": [
       "   independant A  independant B  independant C  independant D  independant E  \\\n",
       "0     271235.250       45519.00        4174.00        4614.25      45533.000   \n",
       "1     250852.333       57541.50        2640.75        6040.80      42060.000   \n",
       "2     299250.250       56498.50        3326.50        4768.00      56495.333   \n",
       "3     167717.750       38888.25        1623.20        3932.00      23542.250   \n",
       "4     176597.000       40471.20        4604.75        4366.50      21794.250   \n",
       "\n",
       "   independant F  independant G  independant H  independant I  independant J   \\\n",
       "0       1428.250      30728.833          26.50          27.00        45651.40   \n",
       "1       1903.250      39245.250        1007.50         808.00        40974.25   \n",
       "2       1903.250      31914.500         482.00         481.75        56000.00   \n",
       "3       1168.750      26233.800         699.25         700.00        22920.00   \n",
       "4       1218.667      28977.250         756.50           1.00        21000.00   \n",
       "\n",
       "   independant K  independant L  Dependant M  \n",
       "0        3489.80       45614.25     45651.40  \n",
       "1        3136.00       41000.00     40974.25  \n",
       "2        4284.00       56000.00     56000.00  \n",
       "3        1753.00       22777.50     22920.00  \n",
       "4        1599.75       21000.00     20916.25  "
      ]
     },
     "execution_count": 3,
     "metadata": {},
     "output_type": "execute_result"
    }
   ],
   "source": [
    "data_df.head()"
   ]
  },
  {
   "cell_type": "code",
   "execution_count": 4,
   "metadata": {},
   "outputs": [],
   "source": [
    "x=data_df.drop(['Dependant M'],axis=1).values\n",
    "y=data_df['Dependant M'].values"
   ]
  },
  {
   "cell_type": "code",
   "execution_count": 5,
   "metadata": {},
   "outputs": [],
   "source": [
    "from sklearn.model_selection import train_test_split\n",
    "x_train, x_test, y_train, y_test= train_test_split(x,y,test_size=0.07,random_state=0)"
   ]
  },
  {
   "cell_type": "code",
   "execution_count": 6,
   "metadata": {},
   "outputs": [
    {
     "data": {
      "text/plain": [
       "LinearRegression(copy_X=True, fit_intercept=True, n_jobs=None, normalize=False)"
      ]
     },
     "execution_count": 6,
     "metadata": {},
     "output_type": "execute_result"
    }
   ],
   "source": [
    "from sklearn.linear_model import LinearRegression\n",
    "ml=LinearRegression()\n",
    "ml.fit(x_train,y_train)"
   ]
  },
  {
   "cell_type": "code",
   "execution_count": 7,
   "metadata": {},
   "outputs": [
    {
     "name": "stdout",
     "output_type": "stream",
     "text": [
      "[72756.05985265 24866.70871159 54697.99330498 57505.13486233\n",
      " 38961.61431802 16872.34795234 18387.01686882 49227.88982732\n",
      " 17136.89422974 14036.54052604 -2207.33641511 18121.98716162\n",
      " 21018.45571578 31798.4900537  19860.59529694 13806.4228322\n",
      " 50466.04687888 33139.31158276 29685.17857    63725.64449995\n",
      "  8079.01319987 45378.8231555  52288.35701977 31309.18372766\n",
      " 31223.98291572 60340.47538602 55482.37512002 45450.69095966\n",
      " 26530.56421928 53956.07804622 31714.93023297 28961.72946096\n",
      " 40011.24246296 46151.04130399  9372.96680372  6078.23322565\n",
      " 50525.75920765  6102.47591645 10471.8125795  67947.16494509\n",
      " 10143.53770479 31862.28337829 23183.48058765 48471.44162403\n",
      " 49695.82030702 47658.55537578 31308.55089543 33172.35502953\n",
      " 47027.52918816 43892.34105333 70948.853694   44163.33610876\n",
      " 63441.42070838 17166.04970841 52978.45471893  9721.5614596\n",
      " 38523.31297651 39669.3014767  25467.78813627 25227.24243287\n",
      " 17708.18518088 31568.64001575 29141.56625092   462.75048767\n",
      " 53150.20517928 31515.56361696 29451.89620367 41323.87099203\n",
      " 58807.42551327 83587.20964811 45616.26254309 52349.07380677\n",
      " 81389.00406894 71799.67756691 27347.9340423   2296.44288646]\n"
     ]
    }
   ],
   "source": [
    "y_pred=ml.predict(x_test)\n",
    "print(y_pred)"
   ]
  },
  {
   "cell_type": "code",
   "execution_count": 8,
   "metadata": {},
   "outputs": [
    {
     "data": {
      "text/plain": [
       "array([-1.72568554e-05,  3.12892053e-02,  1.08497952e-01,  1.52893492e-01,\n",
       "       -1.61283937e-01,  1.05765155e-01, -7.20777095e-02,  1.31246241e-01,\n",
       "        5.81389858e-02,  2.18280161e-01,  4.88224625e-01,  8.75647459e-01])"
      ]
     },
     "execution_count": 8,
     "metadata": {},
     "output_type": "execute_result"
    }
   ],
   "source": [
    "ml.coef_"
   ]
  },
  {
   "cell_type": "code",
   "execution_count": 9,
   "metadata": {},
   "outputs": [
    {
     "data": {
      "text/plain": [
       "-481.5908258826021"
      ]
     },
     "execution_count": 9,
     "metadata": {},
     "output_type": "execute_result"
    }
   ],
   "source": [
    "ml.intercept_"
   ]
  },
  {
   "cell_type": "code",
   "execution_count": 10,
   "metadata": {},
   "outputs": [
    {
     "data": {
      "text/plain": [
       "0.9275103261736983"
      ]
     },
     "execution_count": 10,
     "metadata": {},
     "output_type": "execute_result"
    }
   ],
   "source": [
    "from sklearn.metrics import r2_score\n",
    "r2_score(y_test,y_pred)\n",
    "    "
   ]
  },
  {
   "cell_type": "code",
   "execution_count": 12,
   "metadata": {},
   "outputs": [
    {
     "data": {
      "text/plain": [
       "Text(0.5, 1.0, 'Actual vs. Predicted')"
      ]
     },
     "execution_count": 12,
     "metadata": {},
     "output_type": "execute_result"
    },
    {
     "data": {
      "image/png": "[encoded data removed]",
      "text/plain": [
       "<Figure size 1080x720 with 1 Axes>"
      ]
     },
     "metadata": {
      "needs_background": "light"
     },
     "output_type": "display_data"
    }
   ],
   "source": [
    "import matplotlib.pyplot as plt\n",
    "plt.figure(figsize=(15,10))\n",
    "plt.scatter(y_test,y_pred)\n",
    "plt.xlabel(\"Actual\")\n",
    "plt.ylabel(\"Predicted\")\n",
    "plt.title(\"Actual vs. Predicted\")"
   ]
  },
  {
   "cell_type": "code",
   "execution_count": 13,
   "metadata": {},
   "outputs": [
    {
     "data": {
      "text/html": [
       "<div>\n",
       "<style scoped>\n",
       "    .dataframe tbody tr th:only-of-type {\n",
       "        vertical-align: middle;\n",
       "    }\n",
       "\n",
       "    .dataframe tbody tr th {\n",
       "        vertical-align: top;\n",
       "    }\n",
       "\n",
       "    .dataframe thead th {\n",
       "        text-align: right;\n",
       "    }\n",
       "</style>\n",
       "<table border=\"1\" class=\"dataframe\">\n",
       "  <thead>\n",
       "    <tr style=\"text-align: right;\">\n",
       "      <th></th>\n",
       "      <th>Actual Value</th>\n",
       "      <th>Predicted Value</th>\n",
       "      <th>Difference</th>\n",
       "    </tr>\n",
       "  </thead>\n",
       "  <tbody>\n",
       "    <tr>\n",
       "      <td>0</td>\n",
       "      <td>75000.00</td>\n",
       "      <td>72756.059853</td>\n",
       "      <td>2243.940147</td>\n",
       "    </tr>\n",
       "    <tr>\n",
       "      <td>1</td>\n",
       "      <td>25000.00</td>\n",
       "      <td>24866.708712</td>\n",
       "      <td>133.291288</td>\n",
       "    </tr>\n",
       "    <tr>\n",
       "      <td>2</td>\n",
       "      <td>56000.00</td>\n",
       "      <td>54697.993305</td>\n",
       "      <td>1302.006695</td>\n",
       "    </tr>\n",
       "    <tr>\n",
       "      <td>3</td>\n",
       "      <td>58958.00</td>\n",
       "      <td>57505.134862</td>\n",
       "      <td>1452.865138</td>\n",
       "    </tr>\n",
       "    <tr>\n",
       "      <td>4</td>\n",
       "      <td>36924.75</td>\n",
       "      <td>38961.614318</td>\n",
       "      <td>-2036.864318</td>\n",
       "    </tr>\n",
       "    <tr>\n",
       "      <td>...</td>\n",
       "      <td>...</td>\n",
       "      <td>...</td>\n",
       "      <td>...</td>\n",
       "    </tr>\n",
       "    <tr>\n",
       "      <td>71</td>\n",
       "      <td>53704.25</td>\n",
       "      <td>52349.073807</td>\n",
       "      <td>1355.176193</td>\n",
       "    </tr>\n",
       "    <tr>\n",
       "      <td>72</td>\n",
       "      <td>85000.00</td>\n",
       "      <td>81389.004069</td>\n",
       "      <td>3610.995931</td>\n",
       "    </tr>\n",
       "    <tr>\n",
       "      <td>73</td>\n",
       "      <td>72673.00</td>\n",
       "      <td>71799.677567</td>\n",
       "      <td>873.322433</td>\n",
       "    </tr>\n",
       "    <tr>\n",
       "      <td>74</td>\n",
       "      <td>28000.00</td>\n",
       "      <td>27347.934042</td>\n",
       "      <td>652.065958</td>\n",
       "    </tr>\n",
       "    <tr>\n",
       "      <td>75</td>\n",
       "      <td>2943.75</td>\n",
       "      <td>2296.442886</td>\n",
       "      <td>647.307114</td>\n",
       "    </tr>\n",
       "  </tbody>\n",
       "</table>\n",
       "<p>76 rows × 3 columns</p>\n",
       "</div>"
      ],
      "text/plain": [
       "    Actual Value  Predicted Value   Difference\n",
       "0       75000.00     72756.059853  2243.940147\n",
       "1       25000.00     24866.708712   133.291288\n",
       "2       56000.00     54697.993305  1302.006695\n",
       "3       58958.00     57505.134862  1452.865138\n",
       "4       36924.75     38961.614318 -2036.864318\n",
       "..           ...              ...          ...\n",
       "71      53704.25     52349.073807  1355.176193\n",
       "72      85000.00     81389.004069  3610.995931\n",
       "73      72673.00     71799.677567   873.322433\n",
       "74      28000.00     27347.934042   652.065958\n",
       "75       2943.75      2296.442886   647.307114\n",
       "\n",
       "[76 rows x 3 columns]"
      ]
     },
     "execution_count": 13,
     "metadata": {},
     "output_type": "execute_result"
    }
   ],
   "source": [
    "pred_y_df=pd.DataFrame({\"Actual Value\":y_test,\"Predicted Value\":y_pred,\"Difference\":y_test-y_pred})\n",
    "pred_y_df[0:76]"
   ]
  },
  {
   "cell_type": "code",
   "execution_count": 14,
   "metadata": {},
   "outputs": [
    {
     "name": "stdout",
     "output_type": "stream",
     "text": [
      "Mean Absolute Error: 2205.64248177701\n",
      "Mean Squared Error: 31213776.359532613\n",
      "Root Mean Squared Error: 5586.929063406176\n"
     ]
    }
   ],
   "source": [
    "from sklearn import metrics\n",
    "import numpy as np\n",
    "print('Mean Absolute Error:', metrics.mean_absolute_error(y_test, y_pred))\n",
    "print('Mean Squared Error:', metrics.mean_squared_error(y_test, y_pred))\n",
    "RMSE= np.sqrt(metrics.mean_squared_error(y_test, y_pred))\n",
    "print('Root Mean Squared Error:',RMSE)"
   ]
  },
  {
   "cell_type": "code",
   "execution_count": 15,
   "metadata": {},
   "outputs": [
    {
     "data": {
      "text/plain": [
       "95401.0"
      ]
     },
     "execution_count": 15,
     "metadata": {},
     "output_type": "execute_result"
    }
   ],
   "source": [
    "y.max()"
   ]
  },
  {
   "cell_type": "code",
   "execution_count": 16,
   "metadata": {},
   "outputs": [
    {
     "data": {
      "text/plain": [
       "501.25"
      ]
     },
     "execution_count": 16,
     "metadata": {},
     "output_type": "execute_result"
    }
   ],
   "source": [
    "y.min()"
   ]
  },
  {
   "cell_type": "code",
   "execution_count": 17,
   "metadata": {},
   "outputs": [
    {
     "name": "stdout",
     "output_type": "stream",
     "text": [
      "0.058871904967148767\n"
     ]
    }
   ],
   "source": [
    "NRMSE=RMSE/(y.max()-y.min())\n",
    "print(NRMSE)"
   ]
  },
  {
   "cell_type": "code",
   "execution_count": null,
   "metadata": {},
   "outputs": [],
   "source": []
  }
 ],
 "metadata": {
  "kernelspec": {
   "display_name": "Python 3",
   "language": "python",
   "name": "python3"
  },
  "language_info": {
   "codemirror_mode": {
    "name": "ipython",
    "version": 3
   },
   "file_extension": ".py",
   "mimetype": "text/x-python",
   "name": "python",
   "nbconvert_exporter": "python",
   "pygments_lexer": "ipython3",
   "version": "3.7.4"
  }
 },
 "nbformat": 4,
 "nbformat_minor": 2
}
