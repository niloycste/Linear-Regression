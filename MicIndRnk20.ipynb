{
 "cells": [
  {
   "cell_type": "code",
   "execution_count": 1,
   "metadata": {},
   "outputs": [],
   "source": [
    "import pandas as pd\n",
    "data_df=pd.read_csv(r\"C:\\Users\\Niloy\\Linear Regression\\MicIndRnk20.csv\",header=None)"
   ]
  },
  {
   "cell_type": "code",
   "execution_count": 2,
   "metadata": {},
   "outputs": [],
   "source": [
    "data_df.columns=['independant A','independant B','independant C','independant D','independant E','independant F','independant G','independant H','independant I','independant J ','independant K','independant L','Dependant M']"
   ]
  },
  {
   "cell_type": "code",
   "execution_count": 3,
   "metadata": {},
   "outputs": [
    {
     "data": {
      "text/html": [
       "<div>\n",
       "<style scoped>\n",
       "    .dataframe tbody tr th:only-of-type {\n",
       "        vertical-align: middle;\n",
       "    }\n",
       "\n",
       "    .dataframe tbody tr th {\n",
       "        vertical-align: top;\n",
       "    }\n",
       "\n",
       "    .dataframe thead th {\n",
       "        text-align: right;\n",
       "    }\n",
       "</style>\n",
       "<table border=\"1\" class=\"dataframe\">\n",
       "  <thead>\n",
       "    <tr style=\"text-align: right;\">\n",
       "      <th></th>\n",
       "      <th>independant A</th>\n",
       "      <th>independant B</th>\n",
       "      <th>independant C</th>\n",
       "      <th>independant D</th>\n",
       "      <th>independant E</th>\n",
       "      <th>independant F</th>\n",
       "      <th>independant G</th>\n",
       "      <th>independant H</th>\n",
       "      <th>independant I</th>\n",
       "      <th>independant J</th>\n",
       "      <th>independant K</th>\n",
       "      <th>independant L</th>\n",
       "      <th>Dependant M</th>\n",
       "    </tr>\n",
       "  </thead>\n",
       "  <tbody>\n",
       "    <tr>\n",
       "      <td>0</td>\n",
       "      <td>268745.45</td>\n",
       "      <td>44898.30</td>\n",
       "      <td>4158.950</td>\n",
       "      <td>4720.05</td>\n",
       "      <td>45220.45</td>\n",
       "      <td>1415.60</td>\n",
       "      <td>30495.76</td>\n",
       "      <td>33.909</td>\n",
       "      <td>25.808</td>\n",
       "      <td>46238.850</td>\n",
       "      <td>3457.333</td>\n",
       "      <td>45169.70</td>\n",
       "      <td>45203.033</td>\n",
       "    </tr>\n",
       "    <tr>\n",
       "      <td>1</td>\n",
       "      <td>249781.15</td>\n",
       "      <td>58164.35</td>\n",
       "      <td>2636.095</td>\n",
       "      <td>6044.85</td>\n",
       "      <td>42489.85</td>\n",
       "      <td>1877.95</td>\n",
       "      <td>38797.65</td>\n",
       "      <td>999.750</td>\n",
       "      <td>807.300</td>\n",
       "      <td>41097.850</td>\n",
       "      <td>3127.100</td>\n",
       "      <td>41187.75</td>\n",
       "      <td>40665.700</td>\n",
       "    </tr>\n",
       "    <tr>\n",
       "      <td>2</td>\n",
       "      <td>291450.45</td>\n",
       "      <td>56723.30</td>\n",
       "      <td>3284.150</td>\n",
       "      <td>4720.05</td>\n",
       "      <td>56633.50</td>\n",
       "      <td>1877.95</td>\n",
       "      <td>32280.15</td>\n",
       "      <td>489.550</td>\n",
       "      <td>489.850</td>\n",
       "      <td>56816.182</td>\n",
       "      <td>4349.143</td>\n",
       "      <td>56797.75</td>\n",
       "      <td>57067.750</td>\n",
       "    </tr>\n",
       "    <tr>\n",
       "      <td>3</td>\n",
       "      <td>168168.95</td>\n",
       "      <td>39096.75</td>\n",
       "      <td>1652.200</td>\n",
       "      <td>3900.20</td>\n",
       "      <td>23875.55</td>\n",
       "      <td>1159.40</td>\n",
       "      <td>25737.55</td>\n",
       "      <td>731.350</td>\n",
       "      <td>673.750</td>\n",
       "      <td>22985.500</td>\n",
       "      <td>1752.800</td>\n",
       "      <td>22880.50</td>\n",
       "      <td>22915.500</td>\n",
       "    </tr>\n",
       "    <tr>\n",
       "      <td>4</td>\n",
       "      <td>176287.15</td>\n",
       "      <td>40978.60</td>\n",
       "      <td>4616.950</td>\n",
       "      <td>4456.80</td>\n",
       "      <td>21809.05</td>\n",
       "      <td>1235.13</td>\n",
       "      <td>28947.85</td>\n",
       "      <td>731.350</td>\n",
       "      <td>2.261</td>\n",
       "      <td>20337.000</td>\n",
       "      <td>1655.846</td>\n",
       "      <td>20417.00</td>\n",
       "      <td>20286.214</td>\n",
       "    </tr>\n",
       "  </tbody>\n",
       "</table>\n",
       "</div>"
      ],
      "text/plain": [
       "   independant A  independant B  independant C  independant D  independant E  \\\n",
       "0      268745.45       44898.30       4158.950        4720.05       45220.45   \n",
       "1      249781.15       58164.35       2636.095        6044.85       42489.85   \n",
       "2      291450.45       56723.30       3284.150        4720.05       56633.50   \n",
       "3      168168.95       39096.75       1652.200        3900.20       23875.55   \n",
       "4      176287.15       40978.60       4616.950        4456.80       21809.05   \n",
       "\n",
       "   independant F  independant G  independant H  independant I  independant J   \\\n",
       "0        1415.60       30495.76         33.909         25.808       46238.850   \n",
       "1        1877.95       38797.65        999.750        807.300       41097.850   \n",
       "2        1877.95       32280.15        489.550        489.850       56816.182   \n",
       "3        1159.40       25737.55        731.350        673.750       22985.500   \n",
       "4        1235.13       28947.85        731.350          2.261       20337.000   \n",
       "\n",
       "   independant K  independant L  Dependant M  \n",
       "0       3457.333       45169.70    45203.033  \n",
       "1       3127.100       41187.75    40665.700  \n",
       "2       4349.143       56797.75    57067.750  \n",
       "3       1752.800       22880.50    22915.500  \n",
       "4       1655.846       20417.00    20286.214  "
      ]
     },
     "execution_count": 3,
     "metadata": {},
     "output_type": "execute_result"
    }
   ],
   "source": [
    "data_df.head()\n"
   ]
  },
  {
   "cell_type": "code",
   "execution_count": 4,
   "metadata": {},
   "outputs": [],
   "source": [
    "x=data_df.drop(['Dependant M'],axis=1).values\n",
    "y=data_df['Dependant M'].values\n"
   ]
  },
  {
   "cell_type": "code",
   "execution_count": 5,
   "metadata": {},
   "outputs": [],
   "source": [
    "from sklearn.model_selection import train_test_split\n",
    "x_train, x_test, y_train, y_test= train_test_split(x,y,test_size=0.07,random_state=0)"
   ]
  },
  {
   "cell_type": "code",
   "execution_count": 6,
   "metadata": {},
   "outputs": [
    {
     "data": {
      "text/plain": [
       "LinearRegression(copy_X=True, fit_intercept=True, n_jobs=None, normalize=False)"
      ]
     },
     "execution_count": 6,
     "metadata": {},
     "output_type": "execute_result"
    }
   ],
   "source": [
    "from sklearn.linear_model import LinearRegression\n",
    "ml=LinearRegression()\n",
    "ml.fit(x_train,y_train)"
   ]
  },
  {
   "cell_type": "code",
   "execution_count": 7,
   "metadata": {},
   "outputs": [
    {
     "name": "stdout",
     "output_type": "stream",
     "text": [
      "[73422.05989258 24650.51714786 55295.18012444 58181.61630868\n",
      " 38710.43423627 17223.24615644 17767.1802563  49264.81286963\n",
      " 17247.57470028 14061.25094519  4030.65217743 18428.7110222\n",
      " 20991.02092819 32253.48781894 19277.73096743 13308.6871596\n",
      " 50595.80600043 32582.17752191 29689.91284724 63861.29727205\n",
      "  8679.82976948 45841.51762694 52635.9049623  31339.9960075\n",
      " 31201.88199618 60763.57833198 55630.24911718 45925.33847974\n",
      " 26916.73663866 53886.7638361  32095.57480683 28870.72889829\n",
      " 40113.72735471 46538.16561779  9308.37494449  7300.41552466\n",
      " 50573.74864596  5420.55769841 10733.59865813 67574.95004939\n",
      "  9589.50067966 32041.89554217 23167.87092133 48490.57548444\n",
      " 49302.67484229 47587.6431161  31270.40818026 33326.38633348\n",
      " 46787.13837679 44096.29809448 71964.66343721 44347.94964481\n",
      " 63525.43775363 17368.23219702 53282.7844931  10636.82966996\n",
      " 38037.42071716 39939.13879584 25735.08187224 25392.1245512\n",
      " 17708.35131263 31104.28069188 29584.47568265  1322.73100508\n",
      " 53293.55439727 31594.71879774 29354.44452689 41430.4337898\n",
      " 58401.55830387 87210.78668069 46032.4571264  52266.61865257\n",
      " 80014.73608473 70967.52324207 27402.1263373   1489.44059574]\n"
     ]
    }
   ],
   "source": [
    "y_pred=ml.predict(x_test)\n",
    "print(y_pred)"
   ]
  },
  {
   "cell_type": "code",
   "execution_count": 8,
   "metadata": {},
   "outputs": [
    {
     "data": {
      "text/plain": [
       "array([ 2.56314085e-04,  3.21543556e-02,  9.48248834e-02,  1.23316939e-01,\n",
       "        4.77629681e-02,  1.40478110e-01, -6.79752387e-02, -7.00417868e-02,\n",
       "        3.63969035e-02,  2.39638377e-02,  4.69993334e-01,  8.61916556e-01])"
      ]
     },
     "execution_count": 8,
     "metadata": {},
     "output_type": "execute_result"
    }
   ],
   "source": [
    "ml.coef_\n"
   ]
  },
  {
   "cell_type": "code",
   "execution_count": 9,
   "metadata": {},
   "outputs": [
    {
     "data": {
      "text/plain": [
       "-560.8342351022584"
      ]
     },
     "execution_count": 9,
     "metadata": {},
     "output_type": "execute_result"
    }
   ],
   "source": [
    "ml.intercept_"
   ]
  },
  {
   "cell_type": "code",
   "execution_count": 10,
   "metadata": {},
   "outputs": [
    {
     "data": {
      "text/plain": [
       "0.9296883696141168"
      ]
     },
     "execution_count": 10,
     "metadata": {},
     "output_type": "execute_result"
    }
   ],
   "source": [
    "from sklearn.metrics import r2_score\n",
    "r2_score(y_test,y_pred)\n",
    "    "
   ]
  },
  {
   "cell_type": "code",
   "execution_count": 12,
   "metadata": {},
   "outputs": [
    {
     "data": {
      "text/plain": [
       "Text(0.5, 1.0, 'Actual vs. Predicted')"
      ]
     },
     "execution_count": 12,
     "metadata": {},
     "output_type": "execute_result"
    },
    {
     "data": {
      "image/png": "[encoded data removed]",
      "text/plain": [
       "<Figure size 1080x720 with 1 Axes>"
      ]
     },
     "metadata": {
      "needs_background": "light"
     },
     "output_type": "display_data"
    }
   ],
   "source": [
    "import matplotlib.pyplot as plt\n",
    "plt.figure(figsize=(15,10))\n",
    "plt.scatter(y_test,y_pred)\n",
    "plt.xlabel(\"Actual\")\n",
    "plt.ylabel(\"Predicted\")\n",
    "plt.title(\"Actual vs. Predicted\")"
   ]
  },
  {
   "cell_type": "code",
   "execution_count": 13,
   "metadata": {},
   "outputs": [
    {
     "data": {
      "text/html": [
       "<div>\n",
       "<style scoped>\n",
       "    .dataframe tbody tr th:only-of-type {\n",
       "        vertical-align: middle;\n",
       "    }\n",
       "\n",
       "    .dataframe tbody tr th {\n",
       "        vertical-align: top;\n",
       "    }\n",
       "\n",
       "    .dataframe thead th {\n",
       "        text-align: right;\n",
       "    }\n",
       "</style>\n",
       "<table border=\"1\" class=\"dataframe\">\n",
       "  <thead>\n",
       "    <tr style=\"text-align: right;\">\n",
       "      <th></th>\n",
       "      <th>Actual Value</th>\n",
       "      <th>Predicted Value</th>\n",
       "      <th>Difference</th>\n",
       "    </tr>\n",
       "  </thead>\n",
       "  <tbody>\n",
       "    <tr>\n",
       "      <td>0</td>\n",
       "      <td>74837.136</td>\n",
       "      <td>73422.059893</td>\n",
       "      <td>1415.076107</td>\n",
       "    </tr>\n",
       "    <tr>\n",
       "      <td>1</td>\n",
       "      <td>24991.172</td>\n",
       "      <td>24650.517148</td>\n",
       "      <td>340.654852</td>\n",
       "    </tr>\n",
       "    <tr>\n",
       "      <td>2</td>\n",
       "      <td>57067.750</td>\n",
       "      <td>55295.180124</td>\n",
       "      <td>1772.569876</td>\n",
       "    </tr>\n",
       "    <tr>\n",
       "      <td>3</td>\n",
       "      <td>59811.774</td>\n",
       "      <td>58181.616309</td>\n",
       "      <td>1630.157691</td>\n",
       "    </tr>\n",
       "    <tr>\n",
       "      <td>4</td>\n",
       "      <td>36354.950</td>\n",
       "      <td>38710.434236</td>\n",
       "      <td>-2355.484236</td>\n",
       "    </tr>\n",
       "    <tr>\n",
       "      <td>...</td>\n",
       "      <td>...</td>\n",
       "      <td>...</td>\n",
       "      <td>...</td>\n",
       "    </tr>\n",
       "    <tr>\n",
       "      <td>71</td>\n",
       "      <td>53489.700</td>\n",
       "      <td>52266.618653</td>\n",
       "      <td>1223.081347</td>\n",
       "    </tr>\n",
       "    <tr>\n",
       "      <td>72</td>\n",
       "      <td>81775.700</td>\n",
       "      <td>80014.736085</td>\n",
       "      <td>1760.963915</td>\n",
       "    </tr>\n",
       "    <tr>\n",
       "      <td>73</td>\n",
       "      <td>74837.136</td>\n",
       "      <td>70967.523242</td>\n",
       "      <td>3869.612758</td>\n",
       "    </tr>\n",
       "    <tr>\n",
       "      <td>74</td>\n",
       "      <td>28508.350</td>\n",
       "      <td>27402.126337</td>\n",
       "      <td>1106.223663</td>\n",
       "    </tr>\n",
       "    <tr>\n",
       "      <td>75</td>\n",
       "      <td>1927.478</td>\n",
       "      <td>1489.440596</td>\n",
       "      <td>438.037404</td>\n",
       "    </tr>\n",
       "  </tbody>\n",
       "</table>\n",
       "<p>76 rows × 3 columns</p>\n",
       "</div>"
      ],
      "text/plain": [
       "    Actual Value  Predicted Value   Difference\n",
       "0      74837.136     73422.059893  1415.076107\n",
       "1      24991.172     24650.517148   340.654852\n",
       "2      57067.750     55295.180124  1772.569876\n",
       "3      59811.774     58181.616309  1630.157691\n",
       "4      36354.950     38710.434236 -2355.484236\n",
       "..           ...              ...          ...\n",
       "71     53489.700     52266.618653  1223.081347\n",
       "72     81775.700     80014.736085  1760.963915\n",
       "73     74837.136     70967.523242  3869.612758\n",
       "74     28508.350     27402.126337  1106.223663\n",
       "75      1927.478      1489.440596   438.037404\n",
       "\n",
       "[76 rows x 3 columns]"
      ]
     },
     "execution_count": 13,
     "metadata": {},
     "output_type": "execute_result"
    }
   ],
   "source": [
    "pred_y_df=pd.DataFrame({\"Actual Value\":y_test,\"Predicted Value\":y_pred,\"Difference\":y_test-y_pred})\n",
    "pred_y_df[0:76]"
   ]
  },
  {
   "cell_type": "code",
   "execution_count": 14,
   "metadata": {},
   "outputs": [
    {
     "name": "stdout",
     "output_type": "stream",
     "text": [
      "Mean Absolute Error: 2156.772857430215\n",
      "Mean Squared Error: 30679869.097264234\n",
      "Root Mean Squared Error: 5538.941153078288\n"
     ]
    }
   ],
   "source": [
    "from sklearn import metrics\n",
    "import numpy as np\n",
    "print('Mean Absolute Error:', metrics.mean_absolute_error(y_test, y_pred))\n",
    "print('Mean Squared Error:', metrics.mean_squared_error(y_test, y_pred))\n",
    "RMSE= np.sqrt(metrics.mean_squared_error(y_test, y_pred))\n",
    "print('Root Mean Squared Error:',RMSE)"
   ]
  },
  {
   "cell_type": "code",
   "execution_count": 15,
   "metadata": {},
   "outputs": [
    {
     "data": {
      "text/plain": [
       "89709.45"
      ]
     },
     "execution_count": 15,
     "metadata": {},
     "output_type": "execute_result"
    }
   ],
   "source": [
    "y.max()"
   ]
  },
  {
   "cell_type": "code",
   "execution_count": 16,
   "metadata": {},
   "outputs": [
    {
     "data": {
      "text/plain": [
       "1927.4779999999998"
      ]
     },
     "execution_count": 16,
     "metadata": {},
     "output_type": "execute_result"
    }
   ],
   "source": [
    "y.min()"
   ]
  },
  {
   "cell_type": "code",
   "execution_count": 17,
   "metadata": {},
   "outputs": [
    {
     "name": "stdout",
     "output_type": "stream",
     "text": [
      "0.06309884623095832\n"
     ]
    }
   ],
   "source": [
    "NRMSE=RMSE/(y.max()-y.min())\n",
    "print(NRMSE)"
   ]
  },
  {
   "cell_type": "code",
   "execution_count": null,
   "metadata": {},
   "outputs": [],
   "source": []
  }
 ],
 "metadata": {
  "kernelspec": {
   "display_name": "Python 3",
   "language": "python",
   "name": "python3"
  },
  "language_info": {
   "codemirror_mode": {
    "name": "ipython",
    "version": 3
   },
   "file_extension": ".py",
   "mimetype": "text/x-python",
   "name": "python",
   "nbconvert_exporter": "python",
   "pygments_lexer": "ipython3",
   "version": "3.7.4"
  }
 },
 "nbformat": 4,
 "nbformat_minor": 2
}
