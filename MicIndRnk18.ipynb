{
 "cells": [
  {
   "cell_type": "code",
   "execution_count": 1,
   "metadata": {},
   "outputs": [],
   "source": [
    "import pandas as pd\n",
    "data_df=pd.read_csv(r\"C:\\Users\\Niloy\\Linear Regression\\MicIndRnk18.csv\",header=None)"
   ]
  },
  {
   "cell_type": "code",
   "execution_count": 2,
   "metadata": {},
   "outputs": [],
   "source": [
    "data_df.columns=['independant A','independant B','independant C','independant D','independant E','independant F','independant G','independant H','independant I','independant J ','independant K','independant L','Dependant M']"
   ]
  },
  {
   "cell_type": "code",
   "execution_count": 3,
   "metadata": {},
   "outputs": [
    {
     "data": {
      "text/html": [
       "<div>\n",
       "<style scoped>\n",
       "    .dataframe tbody tr th:only-of-type {\n",
       "        vertical-align: middle;\n",
       "    }\n",
       "\n",
       "    .dataframe tbody tr th {\n",
       "        vertical-align: top;\n",
       "    }\n",
       "\n",
       "    .dataframe thead th {\n",
       "        text-align: right;\n",
       "    }\n",
       "</style>\n",
       "<table border=\"1\" class=\"dataframe\">\n",
       "  <thead>\n",
       "    <tr style=\"text-align: right;\">\n",
       "      <th></th>\n",
       "      <th>independant A</th>\n",
       "      <th>independant B</th>\n",
       "      <th>independant C</th>\n",
       "      <th>independant D</th>\n",
       "      <th>independant E</th>\n",
       "      <th>independant F</th>\n",
       "      <th>independant G</th>\n",
       "      <th>independant H</th>\n",
       "      <th>independant I</th>\n",
       "      <th>independant J</th>\n",
       "      <th>independant K</th>\n",
       "      <th>independant L</th>\n",
       "      <th>Dependant M</th>\n",
       "    </tr>\n",
       "  </thead>\n",
       "  <tbody>\n",
       "    <tr>\n",
       "      <td>0</td>\n",
       "      <td>270692.389</td>\n",
       "      <td>45866.056</td>\n",
       "      <td>4194.889</td>\n",
       "      <td>4641.056</td>\n",
       "      <td>45094.722</td>\n",
       "      <td>1423.778</td>\n",
       "      <td>31598.444</td>\n",
       "      <td>30.600</td>\n",
       "      <td>27.444</td>\n",
       "      <td>46358.722</td>\n",
       "      <td>3471.944</td>\n",
       "      <td>44938.917</td>\n",
       "      <td>44969.727</td>\n",
       "    </tr>\n",
       "    <tr>\n",
       "      <td>1</td>\n",
       "      <td>254293.333</td>\n",
       "      <td>58200.421</td>\n",
       "      <td>2629.167</td>\n",
       "      <td>6061.833</td>\n",
       "      <td>42519.905</td>\n",
       "      <td>1891.682</td>\n",
       "      <td>38847.167</td>\n",
       "      <td>1003.714</td>\n",
       "      <td>802.905</td>\n",
       "      <td>41003.167</td>\n",
       "      <td>3132.889</td>\n",
       "      <td>41003.056</td>\n",
       "      <td>40739.667</td>\n",
       "    </tr>\n",
       "    <tr>\n",
       "      <td>2</td>\n",
       "      <td>309928.056</td>\n",
       "      <td>56875.278</td>\n",
       "      <td>3277.773</td>\n",
       "      <td>4902.667</td>\n",
       "      <td>56399.111</td>\n",
       "      <td>1891.682</td>\n",
       "      <td>31598.444</td>\n",
       "      <td>459.944</td>\n",
       "      <td>488.722</td>\n",
       "      <td>56997.556</td>\n",
       "      <td>4360.000</td>\n",
       "      <td>55423.000</td>\n",
       "      <td>55353.556</td>\n",
       "    </tr>\n",
       "    <tr>\n",
       "      <td>3</td>\n",
       "      <td>168153.500</td>\n",
       "      <td>38873.111</td>\n",
       "      <td>1601.200</td>\n",
       "      <td>3902.944</td>\n",
       "      <td>23903.053</td>\n",
       "      <td>1144.278</td>\n",
       "      <td>25974.333</td>\n",
       "      <td>673.667</td>\n",
       "      <td>676.833</td>\n",
       "      <td>22922.778</td>\n",
       "      <td>1757.833</td>\n",
       "      <td>22867.222</td>\n",
       "      <td>22895.714</td>\n",
       "    </tr>\n",
       "    <tr>\n",
       "      <td>4</td>\n",
       "      <td>175347.389</td>\n",
       "      <td>40734.200</td>\n",
       "      <td>4611.789</td>\n",
       "      <td>4405.611</td>\n",
       "      <td>21990.611</td>\n",
       "      <td>1208.667</td>\n",
       "      <td>28871.889</td>\n",
       "      <td>753.000</td>\n",
       "      <td>2.261</td>\n",
       "      <td>20314.167</td>\n",
       "      <td>1583.722</td>\n",
       "      <td>20862.500</td>\n",
       "      <td>20252.419</td>\n",
       "    </tr>\n",
       "  </tbody>\n",
       "</table>\n",
       "</div>"
      ],
      "text/plain": [
       "   independant A  independant B  independant C  independant D  independant E  \\\n",
       "0     270692.389      45866.056       4194.889       4641.056      45094.722   \n",
       "1     254293.333      58200.421       2629.167       6061.833      42519.905   \n",
       "2     309928.056      56875.278       3277.773       4902.667      56399.111   \n",
       "3     168153.500      38873.111       1601.200       3902.944      23903.053   \n",
       "4     175347.389      40734.200       4611.789       4405.611      21990.611   \n",
       "\n",
       "   independant F  independant G  independant H  independant I  independant J   \\\n",
       "0       1423.778      31598.444         30.600         27.444       46358.722   \n",
       "1       1891.682      38847.167       1003.714        802.905       41003.167   \n",
       "2       1891.682      31598.444        459.944        488.722       56997.556   \n",
       "3       1144.278      25974.333        673.667        676.833       22922.778   \n",
       "4       1208.667      28871.889        753.000          2.261       20314.167   \n",
       "\n",
       "   independant K  independant L  Dependant M  \n",
       "0       3471.944      44938.917    44969.727  \n",
       "1       3132.889      41003.056    40739.667  \n",
       "2       4360.000      55423.000    55353.556  \n",
       "3       1757.833      22867.222    22895.714  \n",
       "4       1583.722      20862.500    20252.419  "
      ]
     },
     "execution_count": 3,
     "metadata": {},
     "output_type": "execute_result"
    }
   ],
   "source": [
    "data_df.head()\n"
   ]
  },
  {
   "cell_type": "code",
   "execution_count": 4,
   "metadata": {},
   "outputs": [],
   "source": [
    "x=data_df.drop(['Dependant M'],axis=1).values\n",
    "y=data_df['Dependant M'].values\n"
   ]
  },
  {
   "cell_type": "code",
   "execution_count": 5,
   "metadata": {},
   "outputs": [],
   "source": [
    "from sklearn.model_selection import train_test_split\n",
    "x_train, x_test, y_train, y_test= train_test_split(x,y,test_size=0.07,random_state=0)"
   ]
  },
  {
   "cell_type": "code",
   "execution_count": 6,
   "metadata": {},
   "outputs": [
    {
     "data": {
      "text/plain": [
       "LinearRegression(copy_X=True, fit_intercept=True, n_jobs=None, normalize=False)"
      ]
     },
     "execution_count": 6,
     "metadata": {},
     "output_type": "execute_result"
    }
   ],
   "source": [
    "from sklearn.linear_model import LinearRegression\n",
    "ml=LinearRegression()\n",
    "ml.fit(x_train,y_train)"
   ]
  },
  {
   "cell_type": "code",
   "execution_count": 7,
   "metadata": {},
   "outputs": [
    {
     "name": "stdout",
     "output_type": "stream",
     "text": [
      "[74920.93433618 24442.32043954 54004.9865759  56221.26794488\n",
      " 39231.04683188 16923.73930819 18309.06169235 48188.49224529\n",
      " 16824.05128192 13916.0247384   6153.08963583 18179.73737922\n",
      " 21270.93368808 31737.99665085 19644.49591829 13468.11049008\n",
      " 50467.73386297 33270.85732725 29784.9282105  63901.06124785\n",
      "  8959.7214257  45143.20769502 52465.97948658 31220.33281904\n",
      " 31093.4487485  60064.12707102 56283.16907562 45119.32073009\n",
      " 26457.94628575 53741.22758402 31650.45698314 27890.62630643\n",
      " 39893.63694409 45547.37699756  9395.9696086   6060.70911612\n",
      " 50424.15118446  5389.00999115 10978.82327354 68081.10773311\n",
      "  9899.02034211 32469.10314862 23175.05341536 48618.7445643\n",
      " 49432.00865926 47890.55580724 31069.65144677 33202.81496633\n",
      " 47303.70659719 43756.08840952 70991.07008971 43985.00860244\n",
      " 64007.2082543  17072.58371021 53243.48997449  9242.99604888\n",
      " 38570.86238648 39912.98627847 25310.31245567 25185.88668846\n",
      " 17417.9257274  31857.90816352 28204.32666744  1645.43130099\n",
      " 53260.83304188 31301.83504831 29412.37916672 41178.0316299\n",
      " 58565.28432798 81877.35414356 45198.4031345  52288.35260498\n",
      " 81184.16287238 71970.41841029 26800.80724674  1504.32671159]\n"
     ]
    }
   ],
   "source": [
    "y_pred=ml.predict(x_test)\n",
    "print(y_pred)"
   ]
  },
  {
   "cell_type": "code",
   "execution_count": 8,
   "metadata": {},
   "outputs": [
    {
     "data": {
      "text/plain": [
       "array([ 2.18738577e-05,  2.33948717e-02,  9.13482192e-02,  5.21626110e-03,\n",
       "        1.05229966e-01,  8.39069065e-02, -3.08994820e-02, -1.22993931e-01,\n",
       "        4.19968391e-02, -1.15029208e-02,  2.58250374e-01,  8.56681343e-01])"
      ]
     },
     "execution_count": 8,
     "metadata": {},
     "output_type": "execute_result"
    }
   ],
   "source": [
    "ml.coef_\n"
   ]
  },
  {
   "cell_type": "code",
   "execution_count": 9,
   "metadata": {},
   "outputs": [
    {
     "data": {
      "text/plain": [
       "-532.9287004070939"
      ]
     },
     "execution_count": 9,
     "metadata": {},
     "output_type": "execute_result"
    }
   ],
   "source": [
    "ml.intercept_"
   ]
  },
  {
   "cell_type": "code",
   "execution_count": 10,
   "metadata": {},
   "outputs": [
    {
     "data": {
      "text/plain": [
       "0.9273491668990185"
      ]
     },
     "execution_count": 10,
     "metadata": {},
     "output_type": "execute_result"
    }
   ],
   "source": [
    "from sklearn.metrics import r2_score\n",
    "r2_score(y_test,y_pred)\n",
    "    "
   ]
  },
  {
   "cell_type": "code",
   "execution_count": 12,
   "metadata": {},
   "outputs": [
    {
     "data": {
      "text/plain": [
       "Text(0.5, 1.0, 'Actual vs. Predicted')"
      ]
     },
     "execution_count": 12,
     "metadata": {},
     "output_type": "execute_result"
    },
    {
     "data": {
      "image/png": "[encoded data removed]",
      "text/plain": [
       "<Figure size 1080x720 with 1 Axes>"
      ]
     },
     "metadata": {
      "needs_background": "light"
     },
     "output_type": "display_data"
    }
   ],
   "source": [
    "import matplotlib.pyplot as plt\n",
    "plt.figure(figsize=(15,10))\n",
    "plt.scatter(y_test,y_pred)\n",
    "plt.xlabel(\"Actual\")\n",
    "plt.ylabel(\"Predicted\")\n",
    "plt.title(\"Actual vs. Predicted\")"
   ]
  },
  {
   "cell_type": "code",
   "execution_count": 13,
   "metadata": {},
   "outputs": [
    {
     "data": {
      "text/html": [
       "<div>\n",
       "<style scoped>\n",
       "    .dataframe tbody tr th:only-of-type {\n",
       "        vertical-align: middle;\n",
       "    }\n",
       "\n",
       "    .dataframe tbody tr th {\n",
       "        vertical-align: top;\n",
       "    }\n",
       "\n",
       "    .dataframe thead th {\n",
       "        text-align: right;\n",
       "    }\n",
       "</style>\n",
       "<table border=\"1\" class=\"dataframe\">\n",
       "  <thead>\n",
       "    <tr style=\"text-align: right;\">\n",
       "      <th></th>\n",
       "      <th>Actual Value</th>\n",
       "      <th>Predicted Value</th>\n",
       "      <th>Difference</th>\n",
       "    </tr>\n",
       "  </thead>\n",
       "  <tbody>\n",
       "    <tr>\n",
       "      <td>0</td>\n",
       "      <td>74837.136</td>\n",
       "      <td>74920.934336</td>\n",
       "      <td>-83.798336</td>\n",
       "    </tr>\n",
       "    <tr>\n",
       "      <td>1</td>\n",
       "      <td>25001.871</td>\n",
       "      <td>24442.320440</td>\n",
       "      <td>559.550560</td>\n",
       "    </tr>\n",
       "    <tr>\n",
       "      <td>2</td>\n",
       "      <td>55353.556</td>\n",
       "      <td>54004.986576</td>\n",
       "      <td>1348.569424</td>\n",
       "    </tr>\n",
       "    <tr>\n",
       "      <td>3</td>\n",
       "      <td>57677.056</td>\n",
       "      <td>56221.267945</td>\n",
       "      <td>1455.788055</td>\n",
       "    </tr>\n",
       "    <tr>\n",
       "      <td>4</td>\n",
       "      <td>36413.591</td>\n",
       "      <td>39231.046832</td>\n",
       "      <td>-2817.455832</td>\n",
       "    </tr>\n",
       "    <tr>\n",
       "      <td>...</td>\n",
       "      <td>...</td>\n",
       "      <td>...</td>\n",
       "      <td>...</td>\n",
       "    </tr>\n",
       "    <tr>\n",
       "      <td>71</td>\n",
       "      <td>53541.789</td>\n",
       "      <td>52288.352605</td>\n",
       "      <td>1253.436395</td>\n",
       "    </tr>\n",
       "    <tr>\n",
       "      <td>72</td>\n",
       "      <td>82114.273</td>\n",
       "      <td>81184.162872</td>\n",
       "      <td>930.110128</td>\n",
       "    </tr>\n",
       "    <tr>\n",
       "      <td>73</td>\n",
       "      <td>74837.136</td>\n",
       "      <td>71970.418410</td>\n",
       "      <td>2866.717590</td>\n",
       "    </tr>\n",
       "    <tr>\n",
       "      <td>74</td>\n",
       "      <td>28360.500</td>\n",
       "      <td>26800.807247</td>\n",
       "      <td>1559.692753</td>\n",
       "    </tr>\n",
       "    <tr>\n",
       "      <td>75</td>\n",
       "      <td>1607.778</td>\n",
       "      <td>1504.326712</td>\n",
       "      <td>103.451288</td>\n",
       "    </tr>\n",
       "  </tbody>\n",
       "</table>\n",
       "<p>76 rows × 3 columns</p>\n",
       "</div>"
      ],
      "text/plain": [
       "    Actual Value  Predicted Value   Difference\n",
       "0      74837.136     74920.934336   -83.798336\n",
       "1      25001.871     24442.320440   559.550560\n",
       "2      55353.556     54004.986576  1348.569424\n",
       "3      57677.056     56221.267945  1455.788055\n",
       "4      36413.591     39231.046832 -2817.455832\n",
       "..           ...              ...          ...\n",
       "71     53541.789     52288.352605  1253.436395\n",
       "72     82114.273     81184.162872   930.110128\n",
       "73     74837.136     71970.418410  2866.717590\n",
       "74     28360.500     26800.807247  1559.692753\n",
       "75      1607.778      1504.326712   103.451288\n",
       "\n",
       "[76 rows x 3 columns]"
      ]
     },
     "execution_count": 13,
     "metadata": {},
     "output_type": "execute_result"
    }
   ],
   "source": [
    "pred_y_df=pd.DataFrame({\"Actual Value\":y_test,\"Predicted Value\":y_pred,\"Difference\":y_test-y_pred})\n",
    "pred_y_df[0:76]"
   ]
  },
  {
   "cell_type": "code",
   "execution_count": 14,
   "metadata": {},
   "outputs": [
    {
     "name": "stdout",
     "output_type": "stream",
     "text": [
      "Mean Absolute Error: 2287.5652898598933\n",
      "Mean Squared Error: 31499821.101889282\n",
      "Root Mean Squared Error: 5612.470142627868\n"
     ]
    }
   ],
   "source": [
    "from sklearn import metrics\n",
    "import numpy as np\n",
    "print('Mean Absolute Error:', metrics.mean_absolute_error(y_test, y_pred))\n",
    "print('Mean Squared Error:', metrics.mean_squared_error(y_test, y_pred))\n",
    "RMSE= np.sqrt(metrics.mean_squared_error(y_test, y_pred))\n",
    "print('Root Mean Squared Error:',RMSE)"
   ]
  },
  {
   "cell_type": "code",
   "execution_count": 15,
   "metadata": {},
   "outputs": [
    {
     "data": {
      "text/plain": [
       "90177.16699999999"
      ]
     },
     "execution_count": 15,
     "metadata": {},
     "output_type": "execute_result"
    }
   ],
   "source": [
    "y.max()"
   ]
  },
  {
   "cell_type": "code",
   "execution_count": 16,
   "metadata": {},
   "outputs": [
    {
     "data": {
      "text/plain": [
       "1607.7779999999998"
      ]
     },
     "execution_count": 16,
     "metadata": {},
     "output_type": "execute_result"
    }
   ],
   "source": [
    "y.min()"
   ]
  },
  {
   "cell_type": "code",
   "execution_count": 17,
   "metadata": {},
   "outputs": [
    {
     "name": "stdout",
     "output_type": "stream",
     "text": [
      "0.06336805758734397\n"
     ]
    }
   ],
   "source": [
    "NRMSE=RMSE/(y.max()-y.min())\n",
    "print(NRMSE)"
   ]
  },
  {
   "cell_type": "code",
   "execution_count": null,
   "metadata": {},
   "outputs": [],
   "source": []
  }
 ],
 "metadata": {
  "kernelspec": {
   "display_name": "Python 3",
   "language": "python",
   "name": "python3"
  },
  "language_info": {
   "codemirror_mode": {
    "name": "ipython",
    "version": 3
   },
   "file_extension": ".py",
   "mimetype": "text/x-python",
   "name": "python",
   "nbconvert_exporter": "python",
   "pygments_lexer": "ipython3",
   "version": "3.7.4"
  }
 },
 "nbformat": 4,
 "nbformat_minor": 2
}
