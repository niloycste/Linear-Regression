{
 "cells": [
  {
   "cell_type": "code",
   "execution_count": 1,
   "metadata": {},
   "outputs": [],
   "source": [
    "import pandas as pd\n",
    "data_df=pd.read_csv(r\"C:\\Users\\Niloy\\Linear Regression\\MicIndRnk15.csv\",header=None)"
   ]
  },
  {
   "cell_type": "code",
   "execution_count": 3,
   "metadata": {},
   "outputs": [],
   "source": [
    "data_df.columns=['independant A','independant B','independant C','independant D','independant E','independant F','independant G','independant H','independant I','independant J ','independant K','independant L','Dependant M']"
   ]
  },
  {
   "cell_type": "code",
   "execution_count": 4,
   "metadata": {},
   "outputs": [
    {
     "data": {
      "text/html": [
       "<div>\n",
       "<style scoped>\n",
       "    .dataframe tbody tr th:only-of-type {\n",
       "        vertical-align: middle;\n",
       "    }\n",
       "\n",
       "    .dataframe tbody tr th {\n",
       "        vertical-align: top;\n",
       "    }\n",
       "\n",
       "    .dataframe thead th {\n",
       "        text-align: right;\n",
       "    }\n",
       "</style>\n",
       "<table border=\"1\" class=\"dataframe\">\n",
       "  <thead>\n",
       "    <tr style=\"text-align: right;\">\n",
       "      <th></th>\n",
       "      <th>independant A</th>\n",
       "      <th>independant B</th>\n",
       "      <th>independant C</th>\n",
       "      <th>independant D</th>\n",
       "      <th>independant E</th>\n",
       "      <th>independant F</th>\n",
       "      <th>independant G</th>\n",
       "      <th>independant H</th>\n",
       "      <th>independant I</th>\n",
       "      <th>independant J</th>\n",
       "      <th>independant K</th>\n",
       "      <th>independant L</th>\n",
       "      <th>Dependant M</th>\n",
       "    </tr>\n",
       "  </thead>\n",
       "  <tbody>\n",
       "    <tr>\n",
       "      <td>0</td>\n",
       "      <td>270153.200</td>\n",
       "      <td>45548.059</td>\n",
       "      <td>4182.933</td>\n",
       "      <td>4576.333</td>\n",
       "      <td>45205.333</td>\n",
       "      <td>1417.533</td>\n",
       "      <td>31015.467</td>\n",
       "      <td>28.000</td>\n",
       "      <td>28.933</td>\n",
       "      <td>45096.571</td>\n",
       "      <td>3449.722</td>\n",
       "      <td>45121.762</td>\n",
       "      <td>45134.579</td>\n",
       "    </tr>\n",
       "    <tr>\n",
       "      <td>1</td>\n",
       "      <td>249111.733</td>\n",
       "      <td>57547.933</td>\n",
       "      <td>2612.200</td>\n",
       "      <td>5981.133</td>\n",
       "      <td>41944.000</td>\n",
       "      <td>1925.375</td>\n",
       "      <td>39480.938</td>\n",
       "      <td>1013.500</td>\n",
       "      <td>804.300</td>\n",
       "      <td>41046.067</td>\n",
       "      <td>3138.125</td>\n",
       "      <td>41045.933</td>\n",
       "      <td>41003.667</td>\n",
       "    </tr>\n",
       "    <tr>\n",
       "      <td>2</td>\n",
       "      <td>298073.733</td>\n",
       "      <td>56479.333</td>\n",
       "      <td>3326.067</td>\n",
       "      <td>4785.533</td>\n",
       "      <td>56251.667</td>\n",
       "      <td>1925.375</td>\n",
       "      <td>31015.467</td>\n",
       "      <td>491.867</td>\n",
       "      <td>488.933</td>\n",
       "      <td>55614.267</td>\n",
       "      <td>4240.933</td>\n",
       "      <td>55507.600</td>\n",
       "      <td>55424.267</td>\n",
       "    </tr>\n",
       "    <tr>\n",
       "      <td>3</td>\n",
       "      <td>168443.733</td>\n",
       "      <td>39377.706</td>\n",
       "      <td>1655.333</td>\n",
       "      <td>3945.733</td>\n",
       "      <td>23442.200</td>\n",
       "      <td>1182.200</td>\n",
       "      <td>26473.533</td>\n",
       "      <td>675.647</td>\n",
       "      <td>698.467</td>\n",
       "      <td>22888.824</td>\n",
       "      <td>1750.588</td>\n",
       "      <td>22847.895</td>\n",
       "      <td>22895.714</td>\n",
       "    </tr>\n",
       "    <tr>\n",
       "      <td>4</td>\n",
       "      <td>177865.062</td>\n",
       "      <td>40975.500</td>\n",
       "      <td>4601.562</td>\n",
       "      <td>4387.667</td>\n",
       "      <td>21956.733</td>\n",
       "      <td>1233.133</td>\n",
       "      <td>28987.533</td>\n",
       "      <td>748.267</td>\n",
       "      <td>1.600</td>\n",
       "      <td>21094.133</td>\n",
       "      <td>1613.200</td>\n",
       "      <td>21035.000</td>\n",
       "      <td>20534.267</td>\n",
       "    </tr>\n",
       "  </tbody>\n",
       "</table>\n",
       "</div>"
      ],
      "text/plain": [
       "   independant A  independant B  independant C  independant D  independant E  \\\n",
       "0     270153.200      45548.059       4182.933       4576.333      45205.333   \n",
       "1     249111.733      57547.933       2612.200       5981.133      41944.000   \n",
       "2     298073.733      56479.333       3326.067       4785.533      56251.667   \n",
       "3     168443.733      39377.706       1655.333       3945.733      23442.200   \n",
       "4     177865.062      40975.500       4601.562       4387.667      21956.733   \n",
       "\n",
       "   independant F  independant G  independant H  independant I  independant J   \\\n",
       "0       1417.533      31015.467         28.000         28.933       45096.571   \n",
       "1       1925.375      39480.938       1013.500        804.300       41046.067   \n",
       "2       1925.375      31015.467        491.867        488.933       55614.267   \n",
       "3       1182.200      26473.533        675.647        698.467       22888.824   \n",
       "4       1233.133      28987.533        748.267          1.600       21094.133   \n",
       "\n",
       "   independant K  independant L  Dependant M  \n",
       "0       3449.722      45121.762    45134.579  \n",
       "1       3138.125      41045.933    41003.667  \n",
       "2       4240.933      55507.600    55424.267  \n",
       "3       1750.588      22847.895    22895.714  \n",
       "4       1613.200      21035.000    20534.267  "
      ]
     },
     "execution_count": 4,
     "metadata": {},
     "output_type": "execute_result"
    }
   ],
   "source": [
    "data_df.head()\n"
   ]
  },
  {
   "cell_type": "code",
   "execution_count": 5,
   "metadata": {},
   "outputs": [],
   "source": [
    "x=data_df.drop(['Dependant M'],axis=1).values\n",
    "y=data_df['Dependant M'].values\n"
   ]
  },
  {
   "cell_type": "code",
   "execution_count": 6,
   "metadata": {},
   "outputs": [],
   "source": [
    "from sklearn.model_selection import train_test_split\n",
    "x_train, x_test, y_train, y_test= train_test_split(x,y,test_size=0.07,random_state=0)"
   ]
  },
  {
   "cell_type": "code",
   "execution_count": 7,
   "metadata": {},
   "outputs": [
    {
     "data": {
      "text/plain": [
       "LinearRegression(copy_X=True, fit_intercept=True, n_jobs=None, normalize=False)"
      ]
     },
     "execution_count": 7,
     "metadata": {},
     "output_type": "execute_result"
    }
   ],
   "source": [
    "from sklearn.linear_model import LinearRegression\n",
    "ml=LinearRegression()\n",
    "ml.fit(x_train,y_train)"
   ]
  },
  {
   "cell_type": "code",
   "execution_count": 8,
   "metadata": {},
   "outputs": [
    {
     "name": "stdout",
     "output_type": "stream",
     "text": [
      "[73243.14514389 24652.17546633 53944.29473175 57718.07852481\n",
      " 38668.53246715 17076.79838714 18274.70940344 48790.64243375\n",
      " 16956.35427966 14174.61072297  3613.64323119 18039.84406496\n",
      " 21379.91924337 31719.1089859  19795.29784952 13725.45198537\n",
      " 50274.69000972 33174.79340712 29765.11482195 64560.63232596\n",
      "  8849.19508335 45249.46519292 52456.11928939 31311.88646774\n",
      " 31133.77580377 60116.62138243 56081.401843   44911.75470022\n",
      " 26454.47038794 53695.35288163 31681.89973179 28770.20875024\n",
      " 39964.73728022 45669.68727632  9215.43707083  6236.91109478\n",
      " 50287.66022324  6271.77073661 10368.97128549 68273.77553149\n",
      "  9701.79507576 31880.34529809 23061.01453089 48500.98119858\n",
      " 49443.47359742 47756.15022324 31296.56544344 33590.84670664\n",
      " 46804.23970136 43137.65251879 74829.52132348 44200.4455782\n",
      " 64816.92317576 17126.41345355 53435.72302918 10208.81358187\n",
      " 38410.66775222 39755.61661692 25454.70271942 25272.37132586\n",
      " 17582.40034026 31117.9798522  29432.60816551  1200.49230031\n",
      " 53203.45438197 31385.5568645  29111.4834546  41134.46969648\n",
      " 58312.95921205 83098.20097793 45069.87487165 52626.91841592\n",
      " 83093.800435   70956.5794503  26850.72345386  1668.29762461]\n"
     ]
    }
   ],
   "source": [
    "y_pred=ml.predict(x_test)\n",
    "print(y_pred)"
   ]
  },
  {
   "cell_type": "code",
   "execution_count": 9,
   "metadata": {},
   "outputs": [
    {
     "data": {
      "text/plain": [
       "array([-4.23050858e-04,  2.24510963e-02,  1.24731698e-01,  4.70916089e-03,\n",
       "        4.91868055e-02,  1.03687120e-01, -3.05179194e-02, -6.86830376e-02,\n",
       "        4.15444872e-02,  9.87222915e-02, -1.91770918e-01,  8.30858719e-01])"
      ]
     },
     "execution_count": 9,
     "metadata": {},
     "output_type": "execute_result"
    }
   ],
   "source": [
    "ml.coef_\n"
   ]
  },
  {
   "cell_type": "code",
   "execution_count": 10,
   "metadata": {},
   "outputs": [
    {
     "data": {
      "text/plain": [
       "-360.38872285484103"
      ]
     },
     "execution_count": 10,
     "metadata": {},
     "output_type": "execute_result"
    }
   ],
   "source": [
    "ml.intercept_"
   ]
  },
  {
   "cell_type": "code",
   "execution_count": 11,
   "metadata": {},
   "outputs": [
    {
     "data": {
      "text/plain": [
       "0.9301457063085377"
      ]
     },
     "execution_count": 11,
     "metadata": {},
     "output_type": "execute_result"
    }
   ],
   "source": [
    "from sklearn.metrics import r2_score\n",
    "r2_score(y_test,y_pred)\n",
    "    "
   ]
  },
  {
   "cell_type": "code",
   "execution_count": 13,
   "metadata": {},
   "outputs": [
    {
     "data": {
      "text/plain": [
       "Text(0.5, 1.0, 'Actual vs. Predicted')"
      ]
     },
     "execution_count": 13,
     "metadata": {},
     "output_type": "execute_result"
    },
    {
     "data": {
      "image/png": "[encoded data removed]",
      "text/plain": [
       "<Figure size 1080x720 with 1 Axes>"
      ]
     },
     "metadata": {
      "needs_background": "light"
     },
     "output_type": "display_data"
    }
   ],
   "source": [
    "import matplotlib.pyplot as plt\n",
    "plt.figure(figsize=(15,10))\n",
    "plt.scatter(y_test,y_pred)\n",
    "plt.xlabel(\"Actual\")\n",
    "plt.ylabel(\"Predicted\")\n",
    "plt.title(\"Actual vs. Predicted\")"
   ]
  },
  {
   "cell_type": "code",
   "execution_count": 14,
   "metadata": {},
   "outputs": [
    {
     "data": {
      "text/html": [
       "<div>\n",
       "<style scoped>\n",
       "    .dataframe tbody tr th:only-of-type {\n",
       "        vertical-align: middle;\n",
       "    }\n",
       "\n",
       "    .dataframe tbody tr th {\n",
       "        vertical-align: top;\n",
       "    }\n",
       "\n",
       "    .dataframe thead th {\n",
       "        text-align: right;\n",
       "    }\n",
       "</style>\n",
       "<table border=\"1\" class=\"dataframe\">\n",
       "  <thead>\n",
       "    <tr style=\"text-align: right;\">\n",
       "      <th></th>\n",
       "      <th>Actual Value</th>\n",
       "      <th>Predicted Value</th>\n",
       "      <th>Difference</th>\n",
       "    </tr>\n",
       "  </thead>\n",
       "  <tbody>\n",
       "    <tr>\n",
       "      <td>0</td>\n",
       "      <td>74699.933</td>\n",
       "      <td>73243.145144</td>\n",
       "      <td>1456.787856</td>\n",
       "    </tr>\n",
       "    <tr>\n",
       "      <td>1</td>\n",
       "      <td>25080.933</td>\n",
       "      <td>24652.175466</td>\n",
       "      <td>428.757534</td>\n",
       "    </tr>\n",
       "    <tr>\n",
       "      <td>2</td>\n",
       "      <td>55424.267</td>\n",
       "      <td>53944.294732</td>\n",
       "      <td>1479.972268</td>\n",
       "    </tr>\n",
       "    <tr>\n",
       "      <td>3</td>\n",
       "      <td>59611.000</td>\n",
       "      <td>57718.078525</td>\n",
       "      <td>1892.921475</td>\n",
       "    </tr>\n",
       "    <tr>\n",
       "      <td>4</td>\n",
       "      <td>37504.167</td>\n",
       "      <td>38668.532467</td>\n",
       "      <td>-1164.365467</td>\n",
       "    </tr>\n",
       "    <tr>\n",
       "      <td>...</td>\n",
       "      <td>...</td>\n",
       "      <td>...</td>\n",
       "      <td>...</td>\n",
       "    </tr>\n",
       "    <tr>\n",
       "      <td>71</td>\n",
       "      <td>53541.789</td>\n",
       "      <td>52626.918416</td>\n",
       "      <td>914.870584</td>\n",
       "    </tr>\n",
       "    <tr>\n",
       "      <td>72</td>\n",
       "      <td>84400.000</td>\n",
       "      <td>83093.800435</td>\n",
       "      <td>1306.199565</td>\n",
       "    </tr>\n",
       "    <tr>\n",
       "      <td>73</td>\n",
       "      <td>71379.467</td>\n",
       "      <td>70956.579450</td>\n",
       "      <td>422.887550</td>\n",
       "    </tr>\n",
       "    <tr>\n",
       "      <td>74</td>\n",
       "      <td>28168.947</td>\n",
       "      <td>26850.723454</td>\n",
       "      <td>1318.223546</td>\n",
       "    </tr>\n",
       "    <tr>\n",
       "      <td>75</td>\n",
       "      <td>3548.200</td>\n",
       "      <td>1668.297625</td>\n",
       "      <td>1879.902375</td>\n",
       "    </tr>\n",
       "  </tbody>\n",
       "</table>\n",
       "<p>76 rows × 3 columns</p>\n",
       "</div>"
      ],
      "text/plain": [
       "    Actual Value  Predicted Value   Difference\n",
       "0      74699.933     73243.145144  1456.787856\n",
       "1      25080.933     24652.175466   428.757534\n",
       "2      55424.267     53944.294732  1479.972268\n",
       "3      59611.000     57718.078525  1892.921475\n",
       "4      37504.167     38668.532467 -1164.365467\n",
       "..           ...              ...          ...\n",
       "71     53541.789     52626.918416   914.870584\n",
       "72     84400.000     83093.800435  1306.199565\n",
       "73     71379.467     70956.579450   422.887550\n",
       "74     28168.947     26850.723454  1318.223546\n",
       "75      3548.200      1668.297625  1879.902375\n",
       "\n",
       "[76 rows x 3 columns]"
      ]
     },
     "execution_count": 14,
     "metadata": {},
     "output_type": "execute_result"
    }
   ],
   "source": [
    "pred_y_df=pd.DataFrame({\"Actual Value\":y_test,\"Predicted Value\":y_pred,\"Difference\":y_test-y_pred})\n",
    "pred_y_df[0:76]"
   ]
  },
  {
   "cell_type": "code",
   "execution_count": 15,
   "metadata": {},
   "outputs": [
    {
     "name": "stdout",
     "output_type": "stream",
     "text": [
      "Mean Absolute Error: 2152.718739670521\n",
      "Mean Squared Error: 30051541.10623499\n",
      "Root Mean Squared Error: 5481.928593682609\n"
     ]
    }
   ],
   "source": [
    "from sklearn import metrics\n",
    "import numpy as np\n",
    "print('Mean Absolute Error:', metrics.mean_absolute_error(y_test, y_pred))\n",
    "print('Mean Squared Error:', metrics.mean_squared_error(y_test, y_pred))\n",
    "RMSE= np.sqrt(metrics.mean_squared_error(y_test, y_pred))\n",
    "print('Root Mean Squared Error:',RMSE)"
   ]
  },
  {
   "cell_type": "code",
   "execution_count": 16,
   "metadata": {},
   "outputs": [
    {
     "data": {
      "text/plain": [
       "91012.6"
      ]
     },
     "execution_count": 16,
     "metadata": {},
     "output_type": "execute_result"
    }
   ],
   "source": [
    "y.max()"
   ]
  },
  {
   "cell_type": "code",
   "execution_count": 17,
   "metadata": {},
   "outputs": [
    {
     "data": {
      "text/plain": [
       "1384.3329999999999"
      ]
     },
     "execution_count": 17,
     "metadata": {},
     "output_type": "execute_result"
    }
   ],
   "source": [
    "y.min()"
   ]
  },
  {
   "cell_type": "code",
   "execution_count": 18,
   "metadata": {},
   "outputs": [
    {
     "name": "stdout",
     "output_type": "stream",
     "text": [
      "0.06116294308895439\n"
     ]
    }
   ],
   "source": [
    "NRMSE=RMSE/(y.max()-y.min())\n",
    "print(NRMSE)"
   ]
  },
  {
   "cell_type": "code",
   "execution_count": null,
   "metadata": {},
   "outputs": [],
   "source": []
  }
 ],
 "metadata": {
  "kernelspec": {
   "display_name": "Python 3",
   "language": "python",
   "name": "python3"
  },
  "language_info": {
   "codemirror_mode": {
    "name": "ipython",
    "version": 3
   },
   "file_extension": ".py",
   "mimetype": "text/x-python",
   "name": "python",
   "nbconvert_exporter": "python",
   "pygments_lexer": "ipython3",
   "version": "3.7.4"
  }
 },
 "nbformat": 4,
 "nbformat_minor": 2
}
