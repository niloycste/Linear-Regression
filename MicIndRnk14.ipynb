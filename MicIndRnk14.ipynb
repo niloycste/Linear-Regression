{
 "cells": [
  {
   "cell_type": "code",
   "execution_count": 1,
   "metadata": {},
   "outputs": [],
   "source": [
    "import pandas as pd\n",
    "data_df=pd.read_csv(r\"C:\\Users\\Niloy\\Linear Regression\\MicIndRnk14.csv\",header=None)"
   ]
  },
  {
   "cell_type": "code",
   "execution_count": 2,
   "metadata": {},
   "outputs": [],
   "source": [
    "data_df.columns=['independant A','independant B','independant C','independant D','independant E','independant F','independant G','independant H','independant I','independant J ','independant K','independant L','Dependant M']"
   ]
  },
  {
   "cell_type": "code",
   "execution_count": 3,
   "metadata": {},
   "outputs": [
    {
     "data": {
      "text/html": [
       "<div>\n",
       "<style scoped>\n",
       "    .dataframe tbody tr th:only-of-type {\n",
       "        vertical-align: middle;\n",
       "    }\n",
       "\n",
       "    .dataframe tbody tr th {\n",
       "        vertical-align: top;\n",
       "    }\n",
       "\n",
       "    .dataframe thead th {\n",
       "        text-align: right;\n",
       "    }\n",
       "</style>\n",
       "<table border=\"1\" class=\"dataframe\">\n",
       "  <thead>\n",
       "    <tr style=\"text-align: right;\">\n",
       "      <th></th>\n",
       "      <th>independant A</th>\n",
       "      <th>independant B</th>\n",
       "      <th>independant C</th>\n",
       "      <th>independant D</th>\n",
       "      <th>independant E</th>\n",
       "      <th>independant F</th>\n",
       "      <th>independant G</th>\n",
       "      <th>independant H</th>\n",
       "      <th>independant I</th>\n",
       "      <th>independant J</th>\n",
       "      <th>independant K</th>\n",
       "      <th>independant L</th>\n",
       "      <th>Dependant M</th>\n",
       "    </tr>\n",
       "  </thead>\n",
       "  <tbody>\n",
       "    <tr>\n",
       "      <td>0</td>\n",
       "      <td>270774.143</td>\n",
       "      <td>45947.357</td>\n",
       "      <td>4193.647</td>\n",
       "      <td>4558.929</td>\n",
       "      <td>45617.062</td>\n",
       "      <td>1419.357</td>\n",
       "      <td>30842.267</td>\n",
       "      <td>21.500</td>\n",
       "      <td>25.643</td>\n",
       "      <td>45120.739</td>\n",
       "      <td>3480.500</td>\n",
       "      <td>45139.875</td>\n",
       "      <td>45145.957</td>\n",
       "    </tr>\n",
       "    <tr>\n",
       "      <td>1</td>\n",
       "      <td>251043.286</td>\n",
       "      <td>57403.071</td>\n",
       "      <td>2635.500</td>\n",
       "      <td>6054.643</td>\n",
       "      <td>41909.643</td>\n",
       "      <td>1904.222</td>\n",
       "      <td>38881.571</td>\n",
       "      <td>1009.071</td>\n",
       "      <td>823.500</td>\n",
       "      <td>41046.067</td>\n",
       "      <td>3138.125</td>\n",
       "      <td>41045.933</td>\n",
       "      <td>41061.071</td>\n",
       "    </tr>\n",
       "    <tr>\n",
       "      <td>2</td>\n",
       "      <td>297651.688</td>\n",
       "      <td>56449.286</td>\n",
       "      <td>3324.071</td>\n",
       "      <td>4746.500</td>\n",
       "      <td>56765.706</td>\n",
       "      <td>1904.222</td>\n",
       "      <td>32187.214</td>\n",
       "      <td>489.500</td>\n",
       "      <td>488.143</td>\n",
       "      <td>55658.143</td>\n",
       "      <td>4248.857</td>\n",
       "      <td>56401.071</td>\n",
       "      <td>55561.714</td>\n",
       "    </tr>\n",
       "    <tr>\n",
       "      <td>3</td>\n",
       "      <td>166990.929</td>\n",
       "      <td>38971.500</td>\n",
       "      <td>1607.929</td>\n",
       "      <td>3960.571</td>\n",
       "      <td>23417.286</td>\n",
       "      <td>1199.857</td>\n",
       "      <td>26494.929</td>\n",
       "      <td>675.647</td>\n",
       "      <td>696.429</td>\n",
       "      <td>22888.824</td>\n",
       "      <td>1750.588</td>\n",
       "      <td>22847.895</td>\n",
       "      <td>22895.714</td>\n",
       "    </tr>\n",
       "    <tr>\n",
       "      <td>4</td>\n",
       "      <td>178245.214</td>\n",
       "      <td>40390.143</td>\n",
       "      <td>4598.929</td>\n",
       "      <td>4380.571</td>\n",
       "      <td>22046.786</td>\n",
       "      <td>1199.857</td>\n",
       "      <td>28915.467</td>\n",
       "      <td>746.357</td>\n",
       "      <td>1.500</td>\n",
       "      <td>21037.500</td>\n",
       "      <td>1608.857</td>\n",
       "      <td>20980.357</td>\n",
       "      <td>20572.429</td>\n",
       "    </tr>\n",
       "  </tbody>\n",
       "</table>\n",
       "</div>"
      ],
      "text/plain": [
       "   independant A  independant B  independant C  independant D  independant E  \\\n",
       "0     270774.143      45947.357       4193.647       4558.929      45617.062   \n",
       "1     251043.286      57403.071       2635.500       6054.643      41909.643   \n",
       "2     297651.688      56449.286       3324.071       4746.500      56765.706   \n",
       "3     166990.929      38971.500       1607.929       3960.571      23417.286   \n",
       "4     178245.214      40390.143       4598.929       4380.571      22046.786   \n",
       "\n",
       "   independant F  independant G  independant H  independant I  independant J   \\\n",
       "0       1419.357      30842.267         21.500         25.643       45120.739   \n",
       "1       1904.222      38881.571       1009.071        823.500       41046.067   \n",
       "2       1904.222      32187.214        489.500        488.143       55658.143   \n",
       "3       1199.857      26494.929        675.647        696.429       22888.824   \n",
       "4       1199.857      28915.467        746.357          1.500       21037.500   \n",
       "\n",
       "   independant K  independant L  Dependant M  \n",
       "0       3480.500      45139.875    45145.957  \n",
       "1       3138.125      41045.933    41061.071  \n",
       "2       4248.857      56401.071    55561.714  \n",
       "3       1750.588      22847.895    22895.714  \n",
       "4       1608.857      20980.357    20572.429  "
      ]
     },
     "execution_count": 3,
     "metadata": {},
     "output_type": "execute_result"
    }
   ],
   "source": [
    "data_df.head()\n"
   ]
  },
  {
   "cell_type": "code",
   "execution_count": 4,
   "metadata": {},
   "outputs": [],
   "source": [
    "x=data_df.drop(['Dependant M'],axis=1).values\n",
    "y=data_df['Dependant M'].values"
   ]
  },
  {
   "cell_type": "code",
   "execution_count": 5,
   "metadata": {},
   "outputs": [],
   "source": [
    "from sklearn.model_selection import train_test_split\n",
    "x_train, x_test, y_train, y_test= train_test_split(x,y,test_size=0.07,random_state=0)"
   ]
  },
  {
   "cell_type": "code",
   "execution_count": 6,
   "metadata": {},
   "outputs": [
    {
     "data": {
      "text/plain": [
       "LinearRegression(copy_X=True, fit_intercept=True, n_jobs=None, normalize=False)"
      ]
     },
     "execution_count": 6,
     "metadata": {},
     "output_type": "execute_result"
    }
   ],
   "source": [
    "from sklearn.linear_model import LinearRegression\n",
    "ml=LinearRegression()\n",
    "ml.fit(x_train,y_train)"
   ]
  },
  {
   "cell_type": "code",
   "execution_count": 7,
   "metadata": {},
   "outputs": [
    {
     "name": "stdout",
     "output_type": "stream",
     "text": [
      "[73366.13767575 24753.04936337 54802.23359809 57006.50564562\n",
      " 38587.05436063 16990.87563883 18296.33322844 48893.00963167\n",
      " 16913.61146629 14123.88079818  2392.49021186 18005.15008362\n",
      " 21238.9268309  31731.81983992 19846.13541831 13744.97295796\n",
      " 50312.72134927 33154.27986422 29726.49092266 64253.30771975\n",
      "  8699.03698537 45239.52834532 52612.02549509 31250.73178815\n",
      " 31181.17094196 60578.86122962 55322.23562641 45062.11858341\n",
      " 26869.91118629 53844.47618349 31652.03689208 28193.72898479\n",
      " 40005.44466887 45845.35016019  9297.78600892  6033.28221426\n",
      " 50328.03762657  6380.16852989 10192.74634282 68292.68927237\n",
      "  9706.02924564 31839.44640453 23052.59313896 48533.65133367\n",
      " 49752.83973868 47718.96720509 31261.3925406  33290.47782554\n",
      " 46931.04819004 43926.73917687 74156.14791743 44284.38588338\n",
      " 65083.13666304 17093.04888273 52987.6212704  10075.01581425\n",
      " 38445.14025838 39799.4382029  25398.27269042 25911.23633888\n",
      " 17559.33389569 31063.97638701 28704.34220676  1068.61043404\n",
      " 53260.23016608 31501.98829788 29463.60704788 41257.22906159\n",
      " 58651.36195346 83533.14843486 45248.66283024 52614.71801843\n",
      " 83487.56002308 71133.30093973 27272.54054051  1553.7922707 ]\n"
     ]
    }
   ],
   "source": [
    "y_pred=ml.predict(x_test)\n",
    "print(y_pred)"
   ]
  },
  {
   "cell_type": "code",
   "execution_count": 8,
   "metadata": {},
   "outputs": [
    {
     "data": {
      "text/plain": [
       "array([-3.84841775e-04,  2.99146460e-02,  1.12113118e-01,  4.48681344e-02,\n",
       "        2.06116635e-02,  8.93118853e-02, -4.56213040e-02, -4.58616548e-02,\n",
       "        4.91403983e-02,  9.82104492e-02, -5.58883838e-02,  8.50626605e-01])"
      ]
     },
     "execution_count": 8,
     "metadata": {},
     "output_type": "execute_result"
    }
   ],
   "source": [
    "ml.coef_\n"
   ]
  },
  {
   "cell_type": "code",
   "execution_count": 9,
   "metadata": {},
   "outputs": [
    {
     "data": {
      "text/plain": [
       "-413.0662425845512"
      ]
     },
     "execution_count": 9,
     "metadata": {},
     "output_type": "execute_result"
    }
   ],
   "source": [
    "ml.intercept_"
   ]
  },
  {
   "cell_type": "code",
   "execution_count": 10,
   "metadata": {},
   "outputs": [
    {
     "data": {
      "text/plain": [
       "0.9274289439582338"
      ]
     },
     "execution_count": 10,
     "metadata": {},
     "output_type": "execute_result"
    }
   ],
   "source": [
    "from sklearn.metrics import r2_score\n",
    "r2_score(y_test,y_pred)\n",
    "    "
   ]
  },
  {
   "cell_type": "code",
   "execution_count": 14,
   "metadata": {},
   "outputs": [
    {
     "data": {
      "text/plain": [
       "Text(0.5, 1.0, 'Actual vs. Predicted')"
      ]
     },
     "execution_count": 14,
     "metadata": {},
     "output_type": "execute_result"
    },
    {
     "data": {
      "image/png": "[encoded data removed]",
      "text/plain": [
       "<Figure size 1080x720 with 1 Axes>"
      ]
     },
     "metadata": {
      "needs_background": "light"
     },
     "output_type": "display_data"
    }
   ],
   "source": [
    "import matplotlib.pyplot as plt\n",
    "plt.figure(figsize=(15,10))\n",
    "plt.scatter(y_test,y_pred)\n",
    "plt.xlabel(\"Actual\")\n",
    "plt.ylabel(\"Predicted\")\n",
    "plt.title(\"Actual vs. Predicted\")"
   ]
  },
  {
   "cell_type": "code",
   "execution_count": 13,
   "metadata": {},
   "outputs": [
    {
     "data": {
      "text/html": [
       "<div>\n",
       "<style scoped>\n",
       "    .dataframe tbody tr th:only-of-type {\n",
       "        vertical-align: middle;\n",
       "    }\n",
       "\n",
       "    .dataframe tbody tr th {\n",
       "        vertical-align: top;\n",
       "    }\n",
       "\n",
       "    .dataframe thead th {\n",
       "        text-align: right;\n",
       "    }\n",
       "</style>\n",
       "<table border=\"1\" class=\"dataframe\">\n",
       "  <thead>\n",
       "    <tr style=\"text-align: right;\">\n",
       "      <th></th>\n",
       "      <th>Actual Value</th>\n",
       "      <th>Predicted Value</th>\n",
       "      <th>Difference</th>\n",
       "    </tr>\n",
       "  </thead>\n",
       "  <tbody>\n",
       "    <tr>\n",
       "      <td>0</td>\n",
       "      <td>75069.071</td>\n",
       "      <td>73366.137676</td>\n",
       "      <td>1702.933324</td>\n",
       "    </tr>\n",
       "    <tr>\n",
       "      <td>1</td>\n",
       "      <td>24987.200</td>\n",
       "      <td>24753.049363</td>\n",
       "      <td>234.150637</td>\n",
       "    </tr>\n",
       "    <tr>\n",
       "      <td>2</td>\n",
       "      <td>55561.714</td>\n",
       "      <td>54802.233598</td>\n",
       "      <td>759.480402</td>\n",
       "    </tr>\n",
       "    <tr>\n",
       "      <td>3</td>\n",
       "      <td>59583.214</td>\n",
       "      <td>57006.505646</td>\n",
       "      <td>2576.708354</td>\n",
       "    </tr>\n",
       "    <tr>\n",
       "      <td>4</td>\n",
       "      <td>37278.500</td>\n",
       "      <td>38587.054361</td>\n",
       "      <td>-1308.554361</td>\n",
       "    </tr>\n",
       "    <tr>\n",
       "      <td>...</td>\n",
       "      <td>...</td>\n",
       "      <td>...</td>\n",
       "      <td>...</td>\n",
       "    </tr>\n",
       "    <tr>\n",
       "      <td>71</td>\n",
       "      <td>53541.789</td>\n",
       "      <td>52614.718018</td>\n",
       "      <td>927.070982</td>\n",
       "    </tr>\n",
       "    <tr>\n",
       "      <td>72</td>\n",
       "      <td>84928.571</td>\n",
       "      <td>83487.560023</td>\n",
       "      <td>1441.010977</td>\n",
       "    </tr>\n",
       "    <tr>\n",
       "      <td>73</td>\n",
       "      <td>72592.286</td>\n",
       "      <td>71133.300940</td>\n",
       "      <td>1458.985060</td>\n",
       "    </tr>\n",
       "    <tr>\n",
       "      <td>74</td>\n",
       "      <td>28000.000</td>\n",
       "      <td>27272.540541</td>\n",
       "      <td>727.459459</td>\n",
       "    </tr>\n",
       "    <tr>\n",
       "      <td>75</td>\n",
       "      <td>3255.929</td>\n",
       "      <td>1553.792271</td>\n",
       "      <td>1702.136729</td>\n",
       "    </tr>\n",
       "  </tbody>\n",
       "</table>\n",
       "<p>76 rows × 3 columns</p>\n",
       "</div>"
      ],
      "text/plain": [
       "    Actual Value  Predicted Value   Difference\n",
       "0      75069.071     73366.137676  1702.933324\n",
       "1      24987.200     24753.049363   234.150637\n",
       "2      55561.714     54802.233598   759.480402\n",
       "3      59583.214     57006.505646  2576.708354\n",
       "4      37278.500     38587.054361 -1308.554361\n",
       "..           ...              ...          ...\n",
       "71     53541.789     52614.718018   927.070982\n",
       "72     84928.571     83487.560023  1441.010977\n",
       "73     72592.286     71133.300940  1458.985060\n",
       "74     28000.000     27272.540541   727.459459\n",
       "75      3255.929      1553.792271  1702.136729\n",
       "\n",
       "[76 rows x 3 columns]"
      ]
     },
     "execution_count": 13,
     "metadata": {},
     "output_type": "execute_result"
    }
   ],
   "source": [
    "pred_y_df=pd.DataFrame({\"Actual Value\":y_test,\"Predicted Value\":y_pred,\"Difference\":y_test-y_pred})\n",
    "pred_y_df[0:76]"
   ]
  },
  {
   "cell_type": "code",
   "execution_count": 15,
   "metadata": {},
   "outputs": [
    {
     "name": "stdout",
     "output_type": "stream",
     "text": [
      "Mean Absolute Error: 2119.84524587208\n",
      "Mean Squared Error: 31115748.971045744\n",
      "Root Mean Squared Error: 5578.149242450021\n"
     ]
    }
   ],
   "source": [
    "from sklearn import metrics\n",
    "import numpy as np\n",
    "print('Mean Absolute Error:', metrics.mean_absolute_error(y_test, y_pred))\n",
    "print('Mean Squared Error:', metrics.mean_squared_error(y_test, y_pred))\n",
    "RMSE= np.sqrt(metrics.mean_squared_error(y_test, y_pred))\n",
    "print('Root Mean Squared Error:',RMSE)"
   ]
  },
  {
   "cell_type": "code",
   "execution_count": 16,
   "metadata": {},
   "outputs": [
    {
     "data": {
      "text/plain": [
       "91299.214"
      ]
     },
     "execution_count": 16,
     "metadata": {},
     "output_type": "execute_result"
    }
   ],
   "source": [
    "y.max()"
   ]
  },
  {
   "cell_type": "code",
   "execution_count": 17,
   "metadata": {},
   "outputs": [
    {
     "data": {
      "text/plain": [
       "1335.5"
      ]
     },
     "execution_count": 17,
     "metadata": {},
     "output_type": "execute_result"
    }
   ],
   "source": [
    "y.min()"
   ]
  },
  {
   "cell_type": "code",
   "execution_count": 18,
   "metadata": {},
   "outputs": [
    {
     "name": "stdout",
     "output_type": "stream",
     "text": [
      "0.06200443483747259\n"
     ]
    }
   ],
   "source": [
    "NRMSE=RMSE/(y.max()-y.min())\n",
    "print(NRMSE)"
   ]
  },
  {
   "cell_type": "code",
   "execution_count": null,
   "metadata": {},
   "outputs": [],
   "source": []
  }
 ],
 "metadata": {
  "kernelspec": {
   "display_name": "Python 3",
   "language": "python",
   "name": "python3"
  },
  "language_info": {
   "codemirror_mode": {
    "name": "ipython",
    "version": 3
   },
   "file_extension": ".py",
   "mimetype": "text/x-python",
   "name": "python",
   "nbconvert_exporter": "python",
   "pygments_lexer": "ipython3",
   "version": "3.7.4"
  }
 },
 "nbformat": 4,
 "nbformat_minor": 2
}
