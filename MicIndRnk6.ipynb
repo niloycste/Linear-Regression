{
 "cells": [
  {
   "cell_type": "code",
   "execution_count": 1,
   "metadata": {},
   "outputs": [],
   "source": [
    "import pandas as pd\n",
    "data_df=pd.read_csv(r\"C:\\Users\\Niloy\\Linear Regression\\MicIndRnk6.csv\",header=None)"
   ]
  },
  {
   "cell_type": "code",
   "execution_count": 2,
   "metadata": {},
   "outputs": [],
   "source": [
    "data_df.columns=['independant A','independant B','independant C','independant D','independant E','independant F','independant G','independant H','independant I','independant J ','independant K','independant L','Dependant M']"
   ]
  },
  {
   "cell_type": "code",
   "execution_count": 3,
   "metadata": {},
   "outputs": [
    {
     "data": {
      "text/html": [
       "<div>\n",
       "<style scoped>\n",
       "    .dataframe tbody tr th:only-of-type {\n",
       "        vertical-align: middle;\n",
       "    }\n",
       "\n",
       "    .dataframe tbody tr th {\n",
       "        vertical-align: top;\n",
       "    }\n",
       "\n",
       "    .dataframe thead th {\n",
       "        text-align: right;\n",
       "    }\n",
       "</style>\n",
       "<table border=\"1\" class=\"dataframe\">\n",
       "  <thead>\n",
       "    <tr style=\"text-align: right;\">\n",
       "      <th></th>\n",
       "      <th>independant A</th>\n",
       "      <th>independant B</th>\n",
       "      <th>independant C</th>\n",
       "      <th>independant D</th>\n",
       "      <th>independant E</th>\n",
       "      <th>independant F</th>\n",
       "      <th>independant G</th>\n",
       "      <th>independant H</th>\n",
       "      <th>independant I</th>\n",
       "      <th>independant J</th>\n",
       "      <th>independant K</th>\n",
       "      <th>independant L</th>\n",
       "      <th>Dependant M</th>\n",
       "    </tr>\n",
       "  </thead>\n",
       "  <tbody>\n",
       "    <tr>\n",
       "      <td>0</td>\n",
       "      <td>270889.167</td>\n",
       "      <td>45683.333</td>\n",
       "      <td>4175.833</td>\n",
       "      <td>4646.333</td>\n",
       "      <td>45577.667</td>\n",
       "      <td>1433.875</td>\n",
       "      <td>30662.222</td>\n",
       "      <td>27.500</td>\n",
       "      <td>27.429</td>\n",
       "      <td>45462.833</td>\n",
       "      <td>3501.000</td>\n",
       "      <td>45782.125</td>\n",
       "      <td>45806.333</td>\n",
       "    </tr>\n",
       "    <tr>\n",
       "      <td>1</td>\n",
       "      <td>249864.286</td>\n",
       "      <td>57640.500</td>\n",
       "      <td>2646.000</td>\n",
       "      <td>6022.889</td>\n",
       "      <td>42107.500</td>\n",
       "      <td>1899.000</td>\n",
       "      <td>39179.500</td>\n",
       "      <td>1010.429</td>\n",
       "      <td>808.000</td>\n",
       "      <td>40988.556</td>\n",
       "      <td>3146.167</td>\n",
       "      <td>40988.556</td>\n",
       "      <td>40982.833</td>\n",
       "    </tr>\n",
       "    <tr>\n",
       "      <td>2</td>\n",
       "      <td>302359.167</td>\n",
       "      <td>56748.286</td>\n",
       "      <td>3303.500</td>\n",
       "      <td>4743.333</td>\n",
       "      <td>56495.333</td>\n",
       "      <td>1899.000</td>\n",
       "      <td>31968.833</td>\n",
       "      <td>498.833</td>\n",
       "      <td>484.909</td>\n",
       "      <td>55955.556</td>\n",
       "      <td>4284.000</td>\n",
       "      <td>56000.000</td>\n",
       "      <td>56000.000</td>\n",
       "    </tr>\n",
       "    <tr>\n",
       "      <td>3</td>\n",
       "      <td>168019.556</td>\n",
       "      <td>38932.833</td>\n",
       "      <td>1607.667</td>\n",
       "      <td>3960.167</td>\n",
       "      <td>23662.333</td>\n",
       "      <td>1174.167</td>\n",
       "      <td>26192.143</td>\n",
       "      <td>696.333</td>\n",
       "      <td>696.750</td>\n",
       "      <td>22685.000</td>\n",
       "      <td>1735.167</td>\n",
       "      <td>22946.667</td>\n",
       "      <td>22635.000</td>\n",
       "    </tr>\n",
       "    <tr>\n",
       "      <td>4</td>\n",
       "      <td>176905.833</td>\n",
       "      <td>40548.333</td>\n",
       "      <td>4608.714</td>\n",
       "      <td>4329.333</td>\n",
       "      <td>21660.167</td>\n",
       "      <td>1221.125</td>\n",
       "      <td>28881.667</td>\n",
       "      <td>753.250</td>\n",
       "      <td>1.000</td>\n",
       "      <td>20962.778</td>\n",
       "      <td>1603.222</td>\n",
       "      <td>20966.500</td>\n",
       "      <td>20958.125</td>\n",
       "    </tr>\n",
       "  </tbody>\n",
       "</table>\n",
       "</div>"
      ],
      "text/plain": [
       "   independant A  independant B  independant C  independant D  independant E  \\\n",
       "0     270889.167      45683.333       4175.833       4646.333      45577.667   \n",
       "1     249864.286      57640.500       2646.000       6022.889      42107.500   \n",
       "2     302359.167      56748.286       3303.500       4743.333      56495.333   \n",
       "3     168019.556      38932.833       1607.667       3960.167      23662.333   \n",
       "4     176905.833      40548.333       4608.714       4329.333      21660.167   \n",
       "\n",
       "   independant F  independant G  independant H  independant I  independant J   \\\n",
       "0       1433.875      30662.222         27.500         27.429       45462.833   \n",
       "1       1899.000      39179.500       1010.429        808.000       40988.556   \n",
       "2       1899.000      31968.833        498.833        484.909       55955.556   \n",
       "3       1174.167      26192.143        696.333        696.750       22685.000   \n",
       "4       1221.125      28881.667        753.250          1.000       20962.778   \n",
       "\n",
       "   independant K  independant L  Dependant M  \n",
       "0       3501.000      45782.125    45806.333  \n",
       "1       3146.167      40988.556    40982.833  \n",
       "2       4284.000      56000.000    56000.000  \n",
       "3       1735.167      22946.667    22635.000  \n",
       "4       1603.222      20966.500    20958.125  "
      ]
     },
     "execution_count": 3,
     "metadata": {},
     "output_type": "execute_result"
    }
   ],
   "source": [
    "data_df.head()\n"
   ]
  },
  {
   "cell_type": "code",
   "execution_count": 4,
   "metadata": {},
   "outputs": [],
   "source": [
    "x=data_df.drop(['Dependant M'],axis=1).values\n",
    "y=data_df['Dependant M'].values"
   ]
  },
  {
   "cell_type": "code",
   "execution_count": 5,
   "metadata": {},
   "outputs": [],
   "source": [
    "from sklearn.model_selection import train_test_split\n",
    "x_train, x_test, y_train, y_test= train_test_split(x,y,test_size=0.07,random_state=0)"
   ]
  },
  {
   "cell_type": "code",
   "execution_count": 6,
   "metadata": {},
   "outputs": [
    {
     "data": {
      "text/plain": [
       "LinearRegression(copy_X=True, fit_intercept=True, n_jobs=None, normalize=False)"
      ]
     },
     "execution_count": 6,
     "metadata": {},
     "output_type": "execute_result"
    }
   ],
   "source": [
    "from sklearn.linear_model import LinearRegression\n",
    "ml=LinearRegression()\n",
    "ml.fit(x_train,y_train)"
   ]
  },
  {
   "cell_type": "code",
   "execution_count": 7,
   "metadata": {},
   "outputs": [
    {
     "name": "stdout",
     "output_type": "stream",
     "text": [
      "[73031.8016932  24694.35008816 54621.40239996 57688.22059542\n",
      " 38819.26198906 16930.38013461 18389.67126227 49166.13086584\n",
      " 16953.01398765 14113.65820769   581.24798628 18178.87914063\n",
      " 21149.90146776 31805.12231169 19899.02689628 13691.15392158\n",
      " 50513.572993   33156.61012876 29676.35744045 63863.81608858\n",
      "  8462.04187121 45421.6884809  52330.79460832 31275.84956921\n",
      " 31190.49839933 60511.97339168 55692.59012861 45337.54568377\n",
      " 26664.26488652 53876.17210863 31703.80307252 28389.50887058\n",
      " 39938.75336481 46102.48694058  9136.1631448   6729.66208201\n",
      " 50455.35258714  6121.62161625 10355.72884349 68275.98222323\n",
      " 10164.76575448 32508.91227147 23081.24969089 48516.5258005\n",
      " 49668.92919459 47839.42127683 31308.2746795  33245.72541683\n",
      " 47011.5633796  43624.88235693 71403.96702466 44196.407961\n",
      " 63134.76275925 16965.06119603 53119.55430551  9827.31304449\n",
      " 38441.13395813 39676.16811891 25499.79283539 25207.43157569\n",
      " 17557.93090426 31410.11378148 29214.28092634  1208.61834963\n",
      " 53185.62814472 31551.17888491 29392.25116745 41325.91622451\n",
      " 58764.83320568 84076.56631068 45489.36493874 52441.40437719\n",
      " 82139.40057007 72038.15565291 27131.47033374  2419.27020335]\n"
     ]
    }
   ],
   "source": [
    "y_pred=ml.predict(x_test)\n",
    "print(y_pred)"
   ]
  },
  {
   "cell_type": "code",
   "execution_count": 8,
   "metadata": {},
   "outputs": [
    {
     "data": {
      "text/plain": [
       "array([-2.06018640e-04,  3.39221399e-02,  1.11585856e-01,  1.18693065e-01,\n",
       "       -3.42306049e-02,  1.29608586e-01, -7.04203636e-02,  1.05274644e-02,\n",
       "        5.38373972e-02,  9.69893966e-02,  3.73366006e-01,  8.78618505e-01])"
      ]
     },
     "execution_count": 8,
     "metadata": {},
     "output_type": "execute_result"
    }
   ],
   "source": [
    "ml.coef_"
   ]
  },
  {
   "cell_type": "code",
   "execution_count": 9,
   "metadata": {},
   "outputs": [
    {
     "data": {
      "text/plain": [
       "-501.071279725722"
      ]
     },
     "execution_count": 9,
     "metadata": {},
     "output_type": "execute_result"
    }
   ],
   "source": [
    "ml.intercept_"
   ]
  },
  {
   "cell_type": "code",
   "execution_count": 10,
   "metadata": {},
   "outputs": [
    {
     "data": {
      "text/plain": [
       "0.9283859032306339"
      ]
     },
     "execution_count": 10,
     "metadata": {},
     "output_type": "execute_result"
    }
   ],
   "source": [
    "from sklearn.metrics import r2_score\n",
    "r2_score(y_test,y_pred)\n",
    "    "
   ]
  },
  {
   "cell_type": "code",
   "execution_count": 13,
   "metadata": {},
   "outputs": [
    {
     "data": {
      "text/plain": [
       "Text(0.5, 1.0, 'Actual vs. Predicted')"
      ]
     },
     "execution_count": 13,
     "metadata": {},
     "output_type": "execute_result"
    },
    {
     "data": {
      "image/png": "[encoded data removed]",
      "text/plain": [
       "<Figure size 1080x720 with 1 Axes>"
      ]
     },
     "metadata": {
      "needs_background": "light"
     },
     "output_type": "display_data"
    }
   ],
   "source": [
    "import matplotlib.pyplot as plt\n",
    "plt.figure(figsize=(15,10))\n",
    "plt.scatter(y_test,y_pred)\n",
    "plt.xlabel(\"Actual\")\n",
    "plt.ylabel(\"Predicted\")\n",
    "plt.title(\"Actual vs. Predicted\")"
   ]
  },
  {
   "cell_type": "code",
   "execution_count": 12,
   "metadata": {},
   "outputs": [
    {
     "data": {
      "text/html": [
       "<div>\n",
       "<style scoped>\n",
       "    .dataframe tbody tr th:only-of-type {\n",
       "        vertical-align: middle;\n",
       "    }\n",
       "\n",
       "    .dataframe tbody tr th {\n",
       "        vertical-align: top;\n",
       "    }\n",
       "\n",
       "    .dataframe thead th {\n",
       "        text-align: right;\n",
       "    }\n",
       "</style>\n",
       "<table border=\"1\" class=\"dataframe\">\n",
       "  <thead>\n",
       "    <tr style=\"text-align: right;\">\n",
       "      <th></th>\n",
       "      <th>Actual Value</th>\n",
       "      <th>Predicted Value</th>\n",
       "      <th>Difference</th>\n",
       "    </tr>\n",
       "  </thead>\n",
       "  <tbody>\n",
       "    <tr>\n",
       "      <td>0</td>\n",
       "      <td>74988.778</td>\n",
       "      <td>73031.801693</td>\n",
       "      <td>1956.976307</td>\n",
       "    </tr>\n",
       "    <tr>\n",
       "      <td>1</td>\n",
       "      <td>25000.000</td>\n",
       "      <td>24694.350088</td>\n",
       "      <td>305.649912</td>\n",
       "    </tr>\n",
       "    <tr>\n",
       "      <td>2</td>\n",
       "      <td>56000.000</td>\n",
       "      <td>54621.402400</td>\n",
       "      <td>1378.597600</td>\n",
       "    </tr>\n",
       "    <tr>\n",
       "      <td>3</td>\n",
       "      <td>59180.714</td>\n",
       "      <td>57688.220595</td>\n",
       "      <td>1492.493405</td>\n",
       "    </tr>\n",
       "    <tr>\n",
       "      <td>4</td>\n",
       "      <td>36966.556</td>\n",
       "      <td>38819.261989</td>\n",
       "      <td>-1852.705989</td>\n",
       "    </tr>\n",
       "    <tr>\n",
       "      <td>...</td>\n",
       "      <td>...</td>\n",
       "      <td>...</td>\n",
       "      <td>...</td>\n",
       "    </tr>\n",
       "    <tr>\n",
       "      <td>71</td>\n",
       "      <td>53679.500</td>\n",
       "      <td>52441.404377</td>\n",
       "      <td>1238.095623</td>\n",
       "    </tr>\n",
       "    <tr>\n",
       "      <td>72</td>\n",
       "      <td>84833.333</td>\n",
       "      <td>82139.400570</td>\n",
       "      <td>2693.932430</td>\n",
       "    </tr>\n",
       "    <tr>\n",
       "      <td>73</td>\n",
       "      <td>73600.000</td>\n",
       "      <td>72038.155653</td>\n",
       "      <td>1561.844347</td>\n",
       "    </tr>\n",
       "    <tr>\n",
       "      <td>74</td>\n",
       "      <td>28000.000</td>\n",
       "      <td>27131.470334</td>\n",
       "      <td>868.529666</td>\n",
       "    </tr>\n",
       "    <tr>\n",
       "      <td>75</td>\n",
       "      <td>3023.857</td>\n",
       "      <td>2419.270203</td>\n",
       "      <td>604.586797</td>\n",
       "    </tr>\n",
       "  </tbody>\n",
       "</table>\n",
       "<p>76 rows × 3 columns</p>\n",
       "</div>"
      ],
      "text/plain": [
       "    Actual Value  Predicted Value   Difference\n",
       "0      74988.778     73031.801693  1956.976307\n",
       "1      25000.000     24694.350088   305.649912\n",
       "2      56000.000     54621.402400  1378.597600\n",
       "3      59180.714     57688.220595  1492.493405\n",
       "4      36966.556     38819.261989 -1852.705989\n",
       "..           ...              ...          ...\n",
       "71     53679.500     52441.404377  1238.095623\n",
       "72     84833.333     82139.400570  2693.932430\n",
       "73     73600.000     72038.155653  1561.844347\n",
       "74     28000.000     27131.470334   868.529666\n",
       "75      3023.857      2419.270203   604.586797\n",
       "\n",
       "[76 rows x 3 columns]"
      ]
     },
     "execution_count": 12,
     "metadata": {},
     "output_type": "execute_result"
    }
   ],
   "source": [
    "pred_y_df=pd.DataFrame({\"Actual Value\":y_test,\"Predicted Value\":y_pred,\"Difference\":y_test-y_pred})\n",
    "pred_y_df[0:76]"
   ]
  },
  {
   "cell_type": "code",
   "execution_count": 14,
   "metadata": {},
   "outputs": [
    {
     "name": "stdout",
     "output_type": "stream",
     "text": [
      "Mean Absolute Error: 2120.0870963745188\n",
      "Mean Squared Error: 30967897.53803279\n",
      "Root Mean Squared Error: 5564.880729901835\n"
     ]
    }
   ],
   "source": [
    "from sklearn import metrics\n",
    "import numpy as np\n",
    "print('Mean Absolute Error:', metrics.mean_absolute_error(y_test, y_pred))\n",
    "print('Mean Squared Error:', metrics.mean_squared_error(y_test, y_pred))\n",
    "RMSE= np.sqrt(metrics.mean_squared_error(y_test, y_pred))\n",
    "print('Root Mean Squared Error:',RMSE)"
   ]
  },
  {
   "cell_type": "code",
   "execution_count": 15,
   "metadata": {},
   "outputs": [
    {
     "data": {
      "text/plain": [
       "93698.16699999999"
      ]
     },
     "execution_count": 15,
     "metadata": {},
     "output_type": "execute_result"
    }
   ],
   "source": [
    "y.max()"
   ]
  },
  {
   "cell_type": "code",
   "execution_count": 16,
   "metadata": {},
   "outputs": [
    {
     "data": {
      "text/plain": [
       "783.571"
      ]
     },
     "execution_count": 16,
     "metadata": {},
     "output_type": "execute_result"
    }
   ],
   "source": [
    "y.min()"
   ]
  },
  {
   "cell_type": "code",
   "execution_count": 17,
   "metadata": {},
   "outputs": [
    {
     "name": "stdout",
     "output_type": "stream",
     "text": [
      "0.05989242777207831\n"
     ]
    }
   ],
   "source": [
    "NRMSE=RMSE/(y.max()-y.min())\n",
    "print(NRMSE)"
   ]
  },
  {
   "cell_type": "code",
   "execution_count": null,
   "metadata": {},
   "outputs": [],
   "source": []
  }
 ],
 "metadata": {
  "kernelspec": {
   "display_name": "Python 3",
   "language": "python",
   "name": "python3"
  },
  "language_info": {
   "codemirror_mode": {
    "name": "ipython",
    "version": 3
   },
   "file_extension": ".py",
   "mimetype": "text/x-python",
   "name": "python",
   "nbconvert_exporter": "python",
   "pygments_lexer": "ipython3",
   "version": "3.7.4"
  }
 },
 "nbformat": 4,
 "nbformat_minor": 2
}
