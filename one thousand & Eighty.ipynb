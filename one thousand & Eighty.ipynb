{
 "cells": [
  {
   "cell_type": "markdown",
   "metadata": {},
   "source": [
    "# import Dataset"
   ]
  },
  {
   "cell_type": "code",
   "execution_count": 2,
   "metadata": {},
   "outputs": [],
   "source": [
    "\n",
    "import pandas as pd\n",
    "data_df=pd.read_csv(r\"C:\\Users\\Niloy\\Linear Regression\\data one thousand.csv\",header=None)"
   ]
  },
  {
   "cell_type": "code",
   "execution_count": 3,
   "metadata": {},
   "outputs": [],
   "source": [
    "data_df.columns=['independant A','independant B','independant C','independant D','independant E','independant F','independant G','independant H','independant I','independant J ','independant K','independant L','Dependant M']"
   ]
  },
  {
   "cell_type": "code",
   "execution_count": 4,
   "metadata": {},
   "outputs": [
    {
     "data": {
      "text/html": [
       "<div>\n",
       "<style scoped>\n",
       "    .dataframe tbody tr th:only-of-type {\n",
       "        vertical-align: middle;\n",
       "    }\n",
       "\n",
       "    .dataframe tbody tr th {\n",
       "        vertical-align: top;\n",
       "    }\n",
       "\n",
       "    .dataframe thead th {\n",
       "        text-align: right;\n",
       "    }\n",
       "</style>\n",
       "<table border=\"1\" class=\"dataframe\">\n",
       "  <thead>\n",
       "    <tr style=\"text-align: right;\">\n",
       "      <th></th>\n",
       "      <th>independant A</th>\n",
       "      <th>independant B</th>\n",
       "      <th>independant C</th>\n",
       "      <th>independant D</th>\n",
       "      <th>independant E</th>\n",
       "      <th>independant F</th>\n",
       "      <th>independant G</th>\n",
       "      <th>independant H</th>\n",
       "      <th>independant I</th>\n",
       "      <th>independant J</th>\n",
       "      <th>independant K</th>\n",
       "      <th>independant L</th>\n",
       "      <th>Dependant M</th>\n",
       "    </tr>\n",
       "  </thead>\n",
       "  <tbody>\n",
       "    <tr>\n",
       "      <td>0</td>\n",
       "      <td>270914</td>\n",
       "      <td>45554</td>\n",
       "      <td>4173</td>\n",
       "      <td>4621</td>\n",
       "      <td>45527</td>\n",
       "      <td>1428</td>\n",
       "      <td>30809</td>\n",
       "      <td>27</td>\n",
       "      <td>27</td>\n",
       "      <td>45500</td>\n",
       "      <td>3480</td>\n",
       "      <td>45500</td>\n",
       "      <td>45500</td>\n",
       "    </tr>\n",
       "    <tr>\n",
       "      <td>1</td>\n",
       "      <td>250802</td>\n",
       "      <td>57610</td>\n",
       "      <td>2639</td>\n",
       "      <td>6045</td>\n",
       "      <td>42008</td>\n",
       "      <td>1902</td>\n",
       "      <td>39234</td>\n",
       "      <td>1008</td>\n",
       "      <td>808</td>\n",
       "      <td>41000</td>\n",
       "      <td>3136</td>\n",
       "      <td>41000</td>\n",
       "      <td>41000</td>\n",
       "    </tr>\n",
       "    <tr>\n",
       "      <td>2</td>\n",
       "      <td>299391</td>\n",
       "      <td>56606</td>\n",
       "      <td>3315</td>\n",
       "      <td>4765</td>\n",
       "      <td>56485</td>\n",
       "      <td>1903</td>\n",
       "      <td>31767</td>\n",
       "      <td>485</td>\n",
       "      <td>485</td>\n",
       "      <td>56000</td>\n",
       "      <td>4284</td>\n",
       "      <td>56000</td>\n",
       "      <td>56000</td>\n",
       "    </tr>\n",
       "    <tr>\n",
       "      <td>3</td>\n",
       "      <td>167656</td>\n",
       "      <td>38993</td>\n",
       "      <td>1619</td>\n",
       "      <td>3932</td>\n",
       "      <td>23580</td>\n",
       "      <td>1177</td>\n",
       "      <td>26216</td>\n",
       "      <td>700</td>\n",
       "      <td>700</td>\n",
       "      <td>22880</td>\n",
       "      <td>1750</td>\n",
       "      <td>22880</td>\n",
       "      <td>22880</td>\n",
       "    </tr>\n",
       "    <tr>\n",
       "      <td>4</td>\n",
       "      <td>176962</td>\n",
       "      <td>40462</td>\n",
       "      <td>4604</td>\n",
       "      <td>4349</td>\n",
       "      <td>21751</td>\n",
       "      <td>1219</td>\n",
       "      <td>28994</td>\n",
       "      <td>751</td>\n",
       "      <td>1</td>\n",
       "      <td>21000</td>\n",
       "      <td>1606</td>\n",
       "      <td>21000</td>\n",
       "      <td>21000</td>\n",
       "    </tr>\n",
       "  </tbody>\n",
       "</table>\n",
       "</div>"
      ],
      "text/plain": [
       "   independant A  independant B  independant C  independant D  independant E  \\\n",
       "0         270914          45554           4173           4621          45527   \n",
       "1         250802          57610           2639           6045          42008   \n",
       "2         299391          56606           3315           4765          56485   \n",
       "3         167656          38993           1619           3932          23580   \n",
       "4         176962          40462           4604           4349          21751   \n",
       "\n",
       "   independant F  independant G  independant H  independant I  independant J   \\\n",
       "0           1428          30809             27             27           45500   \n",
       "1           1902          39234           1008            808           41000   \n",
       "2           1903          31767            485            485           56000   \n",
       "3           1177          26216            700            700           22880   \n",
       "4           1219          28994            751              1           21000   \n",
       "\n",
       "   independant K  independant L  Dependant M  \n",
       "0           3480          45500        45500  \n",
       "1           3136          41000        41000  \n",
       "2           4284          56000        56000  \n",
       "3           1750          22880        22880  \n",
       "4           1606          21000        21000  "
      ]
     },
     "execution_count": 4,
     "metadata": {},
     "output_type": "execute_result"
    }
   ],
   "source": [
    "data_df.head()"
   ]
  },
  {
   "cell_type": "markdown",
   "metadata": {},
   "source": [
    "# Define X & Y"
   ]
  },
  {
   "cell_type": "code",
   "execution_count": 5,
   "metadata": {},
   "outputs": [],
   "source": [
    "\n",
    "x=data_df.drop(['Dependant M'],axis=1).values\n",
    "y=data_df['Dependant M'].values"
   ]
  },
  {
   "cell_type": "markdown",
   "metadata": {},
   "source": [
    "#  X & Y value"
   ]
  },
  {
   "cell_type": "code",
   "execution_count": 6,
   "metadata": {},
   "outputs": [
    {
     "name": "stdout",
     "output_type": "stream",
     "text": [
      "[[270914  45554   4173 ...  45500   3480  45500]\n",
      " [250802  57610   2639 ...  41000   3136  41000]\n",
      " [299391  56606   3315 ...  56000   4284  56000]\n",
      " ...\n",
      " [314823  35450   4011 ...  32000   2448  32000]\n",
      " [ 69141  54399   1746 ...  45608   3489  45608]\n",
      " [389157  19125   3013 ...  19000   1453  19000]]\n"
     ]
    }
   ],
   "source": [
    "print(x)"
   ]
  },
  {
   "cell_type": "code",
   "execution_count": 7,
   "metadata": {},
   "outputs": [
    {
     "name": "stdout",
     "output_type": "stream",
     "text": [
      "[45500 41000 56000 ... 32000 45608 19000]\n"
     ]
    }
   ],
   "source": [
    "print(y)"
   ]
  },
  {
   "cell_type": "markdown",
   "metadata": {},
   "source": [
    "# Max & Min Value "
   ]
  },
  {
   "cell_type": "code",
   "execution_count": 12,
   "metadata": {},
   "outputs": [
    {
     "data": {
      "text/plain": [
       "97604"
      ]
     },
     "execution_count": 12,
     "metadata": {},
     "output_type": "execute_result"
    }
   ],
   "source": [
    "y.max()"
   ]
  },
  {
   "cell_type": "code",
   "execution_count": 13,
   "metadata": {},
   "outputs": [
    {
     "data": {
      "text/plain": [
       "80"
      ]
     },
     "execution_count": 13,
     "metadata": {},
     "output_type": "execute_result"
    }
   ],
   "source": [
    "y.min()\n"
   ]
  },
  {
   "cell_type": "markdown",
   "metadata": {},
   "source": [
    "# Split the dataset for training and test set "
   ]
  },
  {
   "cell_type": "code",
   "execution_count": 8,
   "metadata": {},
   "outputs": [],
   "source": [
    "from sklearn.model_selection import train_test_split\n",
    "x_train, x_test, y_train, y_test= train_test_split(x,y,test_size=0.07,random_state=0)"
   ]
  },
  {
   "cell_type": "markdown",
   "metadata": {},
   "source": [
    "# Train the model on the training set"
   ]
  },
  {
   "cell_type": "code",
   "execution_count": 9,
   "metadata": {},
   "outputs": [
    {
     "data": {
      "text/plain": [
       "LinearRegression(copy_X=True, fit_intercept=True, n_jobs=None, normalize=False)"
      ]
     },
     "execution_count": 9,
     "metadata": {},
     "output_type": "execute_result"
    }
   ],
   "source": [
    "from sklearn.linear_model import LinearRegression\n",
    "ml=LinearRegression()\n",
    "ml.fit(x_train,y_train)"
   ]
  },
  {
   "cell_type": "markdown",
   "metadata": {},
   "source": [
    "# Predict the test set results"
   ]
  },
  {
   "cell_type": "code",
   "execution_count": 10,
   "metadata": {},
   "outputs": [
    {
     "name": "stdout",
     "output_type": "stream",
     "text": [
      "[72696.02750877 24757.87304235 54692.59428556 57455.54410517\n",
      " 38939.8207247  16824.59920686 18402.59367511 49187.66092779\n",
      " 17040.6223445  14085.30114601   735.8057872  18050.25575459\n",
      " 21114.52547011 31788.99134263 19872.54966336 13729.17965322\n",
      " 50481.28763176 33163.35750633 29690.31748948 63802.53606475\n",
      "  8184.28812568 45450.17840515 52113.18763302 31330.48552488\n",
      " 31215.38986312 60399.04108559 55482.97823894 45435.91786065\n",
      " 26722.1020103  53918.47517997 31716.94894746 28982.01513104\n",
      " 39983.2845084  46083.74061727  9245.56324938  6524.86094815\n",
      " 50474.7861036   6011.19877723 10294.04689423 68024.89944749\n",
      " 10117.80071975 32043.34959637 23108.60369885 48547.07112539\n",
      " 50030.69239364 47698.76048336 31297.70852188 33226.03068269\n",
      " 47066.68781155 43922.30508617 70785.4731888  44176.21451547\n",
      " 63941.26452203 17099.71809301 53118.34051957  9825.17817647\n",
      " 38494.71766767 39704.62155593 25481.89778649 25186.65952984\n",
      " 17546.36354641 31398.97662222 28872.99896358   959.8855706\n",
      " 53275.36692307 31527.39844538 29436.95291228 41306.26933368\n",
      " 58797.07468618 83366.89914155 45494.11581075 52410.26878331\n",
      " 82337.42761993 71517.98555569 27338.6640952   2364.34028889]\n"
     ]
    }
   ],
   "source": [
    "y_pred=ml.predict(x_test)\n",
    "print(y_pred)"
   ]
  },
  {
   "cell_type": "markdown",
   "metadata": {},
   "source": [
    "# Predict for the first row data(x value)"
   ]
  },
  {
   "cell_type": "code",
   "execution_count": 11,
   "metadata": {},
   "outputs": [
    {
     "data": {
      "text/plain": [
       "0.9281376039742621"
      ]
     },
     "execution_count": 11,
     "metadata": {},
     "output_type": "execute_result"
    }
   ],
   "source": [
    "ml.score(x_test,y_test)"
   ]
  },
  {
   "cell_type": "code",
   "execution_count": 10,
   "metadata": {},
   "outputs": [
    {
     "data": {
      "text/plain": [
       "array([44184.61190385])"
      ]
     },
     "execution_count": 10,
     "metadata": {},
     "output_type": "execute_result"
    }
   ],
   "source": [
    "ml.predict([[270914, 45554, 4173, 4621, 45527, 1428, 30809, 27, 27, 45500,3480 ,45500 ]])"
   ]
  },
  {
   "cell_type": "markdown",
   "metadata": {},
   "source": [
    "# coefficient value"
   ]
  },
  {
   "cell_type": "code",
   "execution_count": 11,
   "metadata": {},
   "outputs": [
    {
     "data": {
      "text/plain": [
       "array([-1.34705674e-04,  3.26452813e-02,  1.11746518e-01,  1.30332835e-01,\n",
       "        9.96471007e-03,  9.99738527e-02, -6.95907401e-02, -3.48067551e-02,\n",
       "        5.69232659e-02,  4.47714652e-02,  4.91543307e-01,  8.79158848e-01])"
      ]
     },
     "execution_count": 11,
     "metadata": {},
     "output_type": "execute_result"
    }
   ],
   "source": [
    "ml.coef_"
   ]
  },
  {
   "cell_type": "markdown",
   "metadata": {},
   "source": [
    "# Intercept value"
   ]
  },
  {
   "cell_type": "code",
   "execution_count": 12,
   "metadata": {},
   "outputs": [
    {
     "data": {
      "text/plain": [
       "-537.0058614109294"
      ]
     },
     "execution_count": 12,
     "metadata": {},
     "output_type": "execute_result"
    }
   ],
   "source": [
    "ml.intercept_"
   ]
  },
  {
   "cell_type": "markdown",
   "metadata": {},
   "source": [
    "# Evaluate the model using R2 score"
   ]
  },
  {
   "cell_type": "code",
   "execution_count": 13,
   "metadata": {},
   "outputs": [
    {
     "data": {
      "text/plain": [
       "0.9281376039742621"
      ]
     },
     "execution_count": 13,
     "metadata": {},
     "output_type": "execute_result"
    }
   ],
   "source": [
    "from sklearn.metrics import r2_score\n",
    "r2_score(y_test,y_pred)\n",
    "\n",
    "# a best R2 score is close to 1, so this model give us a good accurecy based on indpendent value towards its target value. \n",
    "    "
   ]
  },
  {
   "cell_type": "markdown",
   "metadata": {},
   "source": [
    "# Plot the actual value & Predicted value"
   ]
  },
  {
   "cell_type": "code",
   "execution_count": 15,
   "metadata": {},
   "outputs": [
    {
     "data": {
      "text/plain": [
       "Text(0.5, 1.0, 'Actual vs. Predicted')"
      ]
     },
     "execution_count": 15,
     "metadata": {},
     "output_type": "execute_result"
    },
    {
     "data": {
      "image/png": "[encoded data removed]",
      "text/plain": [
       "<Figure size 1080x720 with 1 Axes>"
      ]
     },
     "metadata": {
      "needs_background": "light"
     },
     "output_type": "display_data"
    }
   ],
   "source": [
    "import matplotlib.pyplot as plt\n",
    "plt.figure(figsize=(15,10))\n",
    "plt.scatter(y_test,y_pred)\n",
    "plt.xlabel(\"Actual\")\n",
    "plt.ylabel(\"Predicted\")\n",
    "plt.title(\"Actual vs. Predicted\")"
   ]
  },
  {
   "cell_type": "markdown",
   "metadata": {},
   "source": [
    "# Evaluation of 76 Values"
   ]
  },
  {
   "cell_type": "code",
   "execution_count": 16,
   "metadata": {},
   "outputs": [
    {
     "data": {
      "text/html": [
       "<div>\n",
       "<style scoped>\n",
       "    .dataframe tbody tr th:only-of-type {\n",
       "        vertical-align: middle;\n",
       "    }\n",
       "\n",
       "    .dataframe tbody tr th {\n",
       "        vertical-align: top;\n",
       "    }\n",
       "\n",
       "    .dataframe thead th {\n",
       "        text-align: right;\n",
       "    }\n",
       "</style>\n",
       "<table border=\"1\" class=\"dataframe\">\n",
       "  <thead>\n",
       "    <tr style=\"text-align: right;\">\n",
       "      <th></th>\n",
       "      <th>Actual Value</th>\n",
       "      <th>Predicted Value</th>\n",
       "      <th>Difference</th>\n",
       "    </tr>\n",
       "  </thead>\n",
       "  <tbody>\n",
       "    <tr>\n",
       "      <td>0</td>\n",
       "      <td>75000</td>\n",
       "      <td>72696.027509</td>\n",
       "      <td>2303.972491</td>\n",
       "    </tr>\n",
       "    <tr>\n",
       "      <td>1</td>\n",
       "      <td>25000</td>\n",
       "      <td>24757.873042</td>\n",
       "      <td>242.126958</td>\n",
       "    </tr>\n",
       "    <tr>\n",
       "      <td>2</td>\n",
       "      <td>56000</td>\n",
       "      <td>54692.594286</td>\n",
       "      <td>1307.405714</td>\n",
       "    </tr>\n",
       "    <tr>\n",
       "      <td>3</td>\n",
       "      <td>58864</td>\n",
       "      <td>57455.544105</td>\n",
       "      <td>1408.455895</td>\n",
       "    </tr>\n",
       "    <tr>\n",
       "      <td>4</td>\n",
       "      <td>37000</td>\n",
       "      <td>38939.820725</td>\n",
       "      <td>-1939.820725</td>\n",
       "    </tr>\n",
       "    <tr>\n",
       "      <td>...</td>\n",
       "      <td>...</td>\n",
       "      <td>...</td>\n",
       "      <td>...</td>\n",
       "    </tr>\n",
       "    <tr>\n",
       "      <td>71</td>\n",
       "      <td>53700</td>\n",
       "      <td>52410.268783</td>\n",
       "      <td>1289.731217</td>\n",
       "    </tr>\n",
       "    <tr>\n",
       "      <td>72</td>\n",
       "      <td>85000</td>\n",
       "      <td>82337.427620</td>\n",
       "      <td>2662.572380</td>\n",
       "    </tr>\n",
       "    <tr>\n",
       "      <td>73</td>\n",
       "      <td>73000</td>\n",
       "      <td>71517.985556</td>\n",
       "      <td>1482.014444</td>\n",
       "    </tr>\n",
       "    <tr>\n",
       "      <td>74</td>\n",
       "      <td>28000</td>\n",
       "      <td>27338.664095</td>\n",
       "      <td>661.335905</td>\n",
       "    </tr>\n",
       "    <tr>\n",
       "      <td>75</td>\n",
       "      <td>2975</td>\n",
       "      <td>2364.340289</td>\n",
       "      <td>610.659711</td>\n",
       "    </tr>\n",
       "  </tbody>\n",
       "</table>\n",
       "<p>76 rows × 3 columns</p>\n",
       "</div>"
      ],
      "text/plain": [
       "    Actual Value  Predicted Value   Difference\n",
       "0          75000     72696.027509  2303.972491\n",
       "1          25000     24757.873042   242.126958\n",
       "2          56000     54692.594286  1307.405714\n",
       "3          58864     57455.544105  1408.455895\n",
       "4          37000     38939.820725 -1939.820725\n",
       "..           ...              ...          ...\n",
       "71         53700     52410.268783  1289.731217\n",
       "72         85000     82337.427620  2662.572380\n",
       "73         73000     71517.985556  1482.014444\n",
       "74         28000     27338.664095   661.335905\n",
       "75          2975      2364.340289   610.659711\n",
       "\n",
       "[76 rows x 3 columns]"
      ]
     },
     "execution_count": 16,
     "metadata": {},
     "output_type": "execute_result"
    }
   ],
   "source": [
    "\n",
    "pred_y_df=pd.DataFrame({\"Actual Value\":y_test,\"Predicted Value\":y_pred,\"Difference\":y_test-y_pred})\n",
    "pred_y_df[0:76]"
   ]
  },
  {
   "cell_type": "markdown",
   "metadata": {},
   "source": [
    "# Evaluation for Error Metrics"
   ]
  },
  {
   "cell_type": "code",
   "execution_count": 21,
   "metadata": {},
   "outputs": [
    {
     "name": "stdout",
     "output_type": "stream",
     "text": [
      "Mean Absolute Error: 2130.156164487124\n",
      "Mean Squared Error: 30939105.540707022\n",
      "Root Mean Squared Error: 5562.293190825797\n"
     ]
    }
   ],
   "source": [
    "from sklearn import metrics\n",
    "import numpy as np\n",
    "print('Mean Absolute Error:', metrics.mean_absolute_error(y_test, y_pred))\n",
    "print('Mean Squared Error:', metrics.mean_squared_error(y_test, y_pred))\n",
    "RMSE= np.sqrt(metrics.mean_squared_error(y_test, y_pred))\n",
    "print('Root Mean Squared Error:',RMSE)\n",
    "\n",
    "#the model has an RMSE value of 5562.29.Since the typical range is  between 80 and 97604, this RMSE value is extremely low. This tells us that the model is able to predict house prices accurately."
   ]
  },
  {
   "cell_type": "markdown",
   "metadata": {},
   "source": [
    "# Normalized RMSE value"
   ]
  },
  {
   "cell_type": "code",
   "execution_count": 23,
   "metadata": {},
   "outputs": [
    {
     "name": "stdout",
     "output_type": "stream",
     "text": [
      "0.057035121517019366\n"
     ]
    }
   ],
   "source": [
    "NRMSE=RMSE/(y.max()-y.min()) #max=97604,min=80,RMSE=5562.29\n",
    "print(NRMSE)\n",
    "\n",
    "#This produces a value between 0 and 1, where values closer to 0 represent better fitting models.the lower the value the good model is."
   ]
  },
  {
   "cell_type": "code",
   "execution_count": null,
   "metadata": {},
   "outputs": [],
   "source": []
  }
 ],
 "metadata": {
  "kernelspec": {
   "display_name": "Python 3",
   "language": "python",
   "name": "python3"
  },
  "language_info": {
   "codemirror_mode": {
    "name": "ipython",
    "version": 3
   },
   "file_extension": ".py",
   "mimetype": "text/x-python",
   "name": "python",
   "nbconvert_exporter": "python",
   "pygments_lexer": "ipython3",
   "version": "3.7.4"
  }
 },
 "nbformat": 4,
 "nbformat_minor": 2
}
