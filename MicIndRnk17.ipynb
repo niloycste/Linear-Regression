{
 "cells": [
  {
   "cell_type": "code",
   "execution_count": 1,
   "metadata": {},
   "outputs": [],
   "source": [
    "import pandas as pd\n",
    "data_df=pd.read_csv(r\"C:\\Users\\Niloy\\Linear Regression\\MicIndRnk17.csv\",header=None)"
   ]
  },
  {
   "cell_type": "code",
   "execution_count": 2,
   "metadata": {},
   "outputs": [],
   "source": [
    "data_df.columns=['independant A','independant B','independant C','independant D','independant E','independant F','independant G','independant H','independant I','independant J ','independant K','independant L','Dependant M']"
   ]
  },
  {
   "cell_type": "code",
   "execution_count": 3,
   "metadata": {},
   "outputs": [
    {
     "data": {
      "text/html": [
       "<div>\n",
       "<style scoped>\n",
       "    .dataframe tbody tr th:only-of-type {\n",
       "        vertical-align: middle;\n",
       "    }\n",
       "\n",
       "    .dataframe tbody tr th {\n",
       "        vertical-align: top;\n",
       "    }\n",
       "\n",
       "    .dataframe thead th {\n",
       "        text-align: right;\n",
       "    }\n",
       "</style>\n",
       "<table border=\"1\" class=\"dataframe\">\n",
       "  <thead>\n",
       "    <tr style=\"text-align: right;\">\n",
       "      <th></th>\n",
       "      <th>independant A</th>\n",
       "      <th>independant B</th>\n",
       "      <th>independant C</th>\n",
       "      <th>independant D</th>\n",
       "      <th>independant E</th>\n",
       "      <th>independant F</th>\n",
       "      <th>independant G</th>\n",
       "      <th>independant H</th>\n",
       "      <th>independant I</th>\n",
       "      <th>independant J</th>\n",
       "      <th>independant K</th>\n",
       "      <th>independant L</th>\n",
       "      <th>Dependant M</th>\n",
       "    </tr>\n",
       "  </thead>\n",
       "  <tbody>\n",
       "    <tr>\n",
       "      <td>0</td>\n",
       "      <td>273322.944</td>\n",
       "      <td>45714.471</td>\n",
       "      <td>4192.684</td>\n",
       "      <td>4660.895</td>\n",
       "      <td>45447.706</td>\n",
       "      <td>1405.941</td>\n",
       "      <td>30789.471</td>\n",
       "      <td>29.000</td>\n",
       "      <td>28.235</td>\n",
       "      <td>45048.235</td>\n",
       "      <td>3545.235</td>\n",
       "      <td>45070.588</td>\n",
       "      <td>44997.130</td>\n",
       "    </tr>\n",
       "    <tr>\n",
       "      <td>1</td>\n",
       "      <td>250413.824</td>\n",
       "      <td>57153.727</td>\n",
       "      <td>2625.167</td>\n",
       "      <td>6027.176</td>\n",
       "      <td>42071.588</td>\n",
       "      <td>1923.588</td>\n",
       "      <td>38869.176</td>\n",
       "      <td>1001.864</td>\n",
       "      <td>802.905</td>\n",
       "      <td>41050.412</td>\n",
       "      <td>3135.412</td>\n",
       "      <td>41050.294</td>\n",
       "      <td>41226.765</td>\n",
       "    </tr>\n",
       "    <tr>\n",
       "      <td>2</td>\n",
       "      <td>297056.882</td>\n",
       "      <td>57153.727</td>\n",
       "      <td>3304.529</td>\n",
       "      <td>4660.895</td>\n",
       "      <td>56422.095</td>\n",
       "      <td>1923.588</td>\n",
       "      <td>32279.353</td>\n",
       "      <td>476.765</td>\n",
       "      <td>488.059</td>\n",
       "      <td>57056.235</td>\n",
       "      <td>4227.882</td>\n",
       "      <td>55447.882</td>\n",
       "      <td>55374.353</td>\n",
       "    </tr>\n",
       "    <tr>\n",
       "      <td>3</td>\n",
       "      <td>167719.353</td>\n",
       "      <td>39377.706</td>\n",
       "      <td>1607.263</td>\n",
       "      <td>3907.421</td>\n",
       "      <td>23844.941</td>\n",
       "      <td>1193.882</td>\n",
       "      <td>25722.765</td>\n",
       "      <td>675.647</td>\n",
       "      <td>678.647</td>\n",
       "      <td>22888.824</td>\n",
       "      <td>1755.059</td>\n",
       "      <td>22847.895</td>\n",
       "      <td>22895.714</td>\n",
       "    </tr>\n",
       "    <tr>\n",
       "      <td>4</td>\n",
       "      <td>178098.706</td>\n",
       "      <td>40935.529</td>\n",
       "      <td>4589.176</td>\n",
       "      <td>4411.684</td>\n",
       "      <td>22134.000</td>\n",
       "      <td>1193.882</td>\n",
       "      <td>28359.529</td>\n",
       "      <td>751.588</td>\n",
       "      <td>1.895</td>\n",
       "      <td>20642.647</td>\n",
       "      <td>1594.941</td>\n",
       "      <td>20701.471</td>\n",
       "      <td>20471.412</td>\n",
       "    </tr>\n",
       "  </tbody>\n",
       "</table>\n",
       "</div>"
      ],
      "text/plain": [
       "   independant A  independant B  independant C  independant D  independant E  \\\n",
       "0     273322.944      45714.471       4192.684       4660.895      45447.706   \n",
       "1     250413.824      57153.727       2625.167       6027.176      42071.588   \n",
       "2     297056.882      57153.727       3304.529       4660.895      56422.095   \n",
       "3     167719.353      39377.706       1607.263       3907.421      23844.941   \n",
       "4     178098.706      40935.529       4589.176       4411.684      22134.000   \n",
       "\n",
       "   independant F  independant G  independant H  independant I  independant J   \\\n",
       "0       1405.941      30789.471         29.000         28.235       45048.235   \n",
       "1       1923.588      38869.176       1001.864        802.905       41050.412   \n",
       "2       1923.588      32279.353        476.765        488.059       57056.235   \n",
       "3       1193.882      25722.765        675.647        678.647       22888.824   \n",
       "4       1193.882      28359.529        751.588          1.895       20642.647   \n",
       "\n",
       "   independant K  independant L  Dependant M  \n",
       "0       3545.235      45070.588    44997.130  \n",
       "1       3135.412      41050.294    41226.765  \n",
       "2       4227.882      55447.882    55374.353  \n",
       "3       1755.059      22847.895    22895.714  \n",
       "4       1594.941      20701.471    20471.412  "
      ]
     },
     "execution_count": 3,
     "metadata": {},
     "output_type": "execute_result"
    }
   ],
   "source": [
    "data_df.head()\n"
   ]
  },
  {
   "cell_type": "code",
   "execution_count": 4,
   "metadata": {},
   "outputs": [],
   "source": [
    "x=data_df.drop(['Dependant M'],axis=1).values\n",
    "y=data_df['Dependant M'].values\n"
   ]
  },
  {
   "cell_type": "code",
   "execution_count": 5,
   "metadata": {},
   "outputs": [],
   "source": [
    "from sklearn.model_selection import train_test_split\n",
    "x_train, x_test, y_train, y_test= train_test_split(x,y,test_size=0.07,random_state=0)"
   ]
  },
  {
   "cell_type": "code",
   "execution_count": 6,
   "metadata": {},
   "outputs": [
    {
     "data": {
      "text/plain": [
       "LinearRegression(copy_X=True, fit_intercept=True, n_jobs=None, normalize=False)"
      ]
     },
     "execution_count": 6,
     "metadata": {},
     "output_type": "execute_result"
    }
   ],
   "source": [
    "from sklearn.linear_model import LinearRegression\n",
    "ml=LinearRegression()\n",
    "ml.fit(x_train,y_train)"
   ]
  },
  {
   "cell_type": "code",
   "execution_count": 7,
   "metadata": {},
   "outputs": [
    {
     "name": "stdout",
     "output_type": "stream",
     "text": [
      "[72309.2511001  24629.04039029 54017.77551521 56215.93354031\n",
      " 38988.15163691 17036.07686591 18298.87006994 48795.47853586\n",
      " 16936.43160997 14290.90432801  6449.19761318 18161.86366664\n",
      " 21264.21118271 31807.66591276 19541.60043485 13843.77460703\n",
      " 50463.03038645 33311.63890825 29877.27567256 64226.45025113\n",
      "  7757.97618392 45278.07980123 52375.33954709 31149.69282827\n",
      " 31066.08106451 60102.11145976 56116.23663235 45005.95923646\n",
      " 26624.02019857 53693.60145598 31748.84582219 29058.96311817\n",
      " 40082.62459032 45630.28121035  9622.30218678  6387.70050847\n",
      " 50442.89997465  4637.52724375  9900.76071089 69040.96853428\n",
      " 10332.79008476 31791.45238159 23152.63133633 48673.26440952\n",
      " 50045.31648631 47899.47122458 31457.46201944 33063.1287768\n",
      " 47070.79837438 43209.28630654 72907.45046437 44096.99175157\n",
      " 63561.61771214 17191.43071186 53053.60584962  9745.73235569\n",
      " 38473.86768271 39906.64061621 25203.78130651 25315.55809204\n",
      " 17541.14019936 31912.09061251 28233.33145559  1362.44600927\n",
      " 53286.13283257 31161.0230576  29360.39633058 41029.98583758\n",
      " 58441.28750371 81691.29339497 45085.41038481 52223.52274071\n",
      " 81745.90836395 71930.77129775 26693.09965981  1698.65537491]\n"
     ]
    }
   ],
   "source": [
    "y_pred=ml.predict(x_test)\n",
    "print(y_pred)"
   ]
  },
  {
   "cell_type": "code",
   "execution_count": 8,
   "metadata": {},
   "outputs": [
    {
     "data": {
      "text/plain": [
       "array([-1.45871233e-04,  8.82433776e-03,  1.14486691e-01, -7.05383477e-02,\n",
       "        1.19641574e-01,  9.53985508e-02,  2.85893344e-03, -1.39417617e-01,\n",
       "        5.08779819e-02, -8.05421448e-03,  7.41853150e-02,  8.50093734e-01])"
      ]
     },
     "execution_count": 8,
     "metadata": {},
     "output_type": "execute_result"
    }
   ],
   "source": [
    "ml.coef_\n"
   ]
  },
  {
   "cell_type": "code",
   "execution_count": 9,
   "metadata": {},
   "outputs": [
    {
     "data": {
      "text/plain": [
       "-464.46064980635856"
      ]
     },
     "execution_count": 9,
     "metadata": {},
     "output_type": "execute_result"
    }
   ],
   "source": [
    "ml.intercept_"
   ]
  },
  {
   "cell_type": "code",
   "execution_count": 10,
   "metadata": {},
   "outputs": [
    {
     "data": {
      "text/plain": [
       "0.9286917158302805"
      ]
     },
     "execution_count": 10,
     "metadata": {},
     "output_type": "execute_result"
    }
   ],
   "source": [
    "from sklearn.metrics import r2_score\n",
    "r2_score(y_test,y_pred)\n",
    "    "
   ]
  },
  {
   "cell_type": "code",
   "execution_count": 12,
   "metadata": {},
   "outputs": [
    {
     "data": {
      "text/plain": [
       "Text(0.5, 1.0, 'Actual vs. Predicted')"
      ]
     },
     "execution_count": 12,
     "metadata": {},
     "output_type": "execute_result"
    },
    {
     "data": {
      "image/png": "[encoded data removed]",
      "text/plain": [
       "<Figure size 1080x720 with 1 Axes>"
      ]
     },
     "metadata": {
      "needs_background": "light"
     },
     "output_type": "display_data"
    }
   ],
   "source": [
    "import matplotlib.pyplot as plt\n",
    "plt.figure(figsize=(15,10))\n",
    "plt.scatter(y_test,y_pred)\n",
    "plt.xlabel(\"Actual\")\n",
    "plt.ylabel(\"Predicted\")\n",
    "plt.title(\"Actual vs. Predicted\")"
   ]
  },
  {
   "cell_type": "code",
   "execution_count": 13,
   "metadata": {},
   "outputs": [
    {
     "data": {
      "text/html": [
       "<div>\n",
       "<style scoped>\n",
       "    .dataframe tbody tr th:only-of-type {\n",
       "        vertical-align: middle;\n",
       "    }\n",
       "\n",
       "    .dataframe tbody tr th {\n",
       "        vertical-align: top;\n",
       "    }\n",
       "\n",
       "    .dataframe thead th {\n",
       "        text-align: right;\n",
       "    }\n",
       "</style>\n",
       "<table border=\"1\" class=\"dataframe\">\n",
       "  <thead>\n",
       "    <tr style=\"text-align: right;\">\n",
       "      <th></th>\n",
       "      <th>Actual Value</th>\n",
       "      <th>Predicted Value</th>\n",
       "      <th>Difference</th>\n",
       "    </tr>\n",
       "  </thead>\n",
       "  <tbody>\n",
       "    <tr>\n",
       "      <td>0</td>\n",
       "      <td>76554.824</td>\n",
       "      <td>72309.251100</td>\n",
       "      <td>4245.572900</td>\n",
       "    </tr>\n",
       "    <tr>\n",
       "      <td>1</td>\n",
       "      <td>25014.312</td>\n",
       "      <td>24629.040390</td>\n",
       "      <td>385.271610</td>\n",
       "    </tr>\n",
       "    <tr>\n",
       "      <td>2</td>\n",
       "      <td>55374.353</td>\n",
       "      <td>54017.775515</td>\n",
       "      <td>1356.577485</td>\n",
       "    </tr>\n",
       "    <tr>\n",
       "      <td>3</td>\n",
       "      <td>57599.235</td>\n",
       "      <td>56215.933540</td>\n",
       "      <td>1383.301460</td>\n",
       "    </tr>\n",
       "    <tr>\n",
       "      <td>4</td>\n",
       "      <td>36413.591</td>\n",
       "      <td>38988.151637</td>\n",
       "      <td>-2574.560637</td>\n",
       "    </tr>\n",
       "    <tr>\n",
       "      <td>...</td>\n",
       "      <td>...</td>\n",
       "      <td>...</td>\n",
       "      <td>...</td>\n",
       "    </tr>\n",
       "    <tr>\n",
       "      <td>71</td>\n",
       "      <td>53541.789</td>\n",
       "      <td>52223.522741</td>\n",
       "      <td>1318.266259</td>\n",
       "    </tr>\n",
       "    <tr>\n",
       "      <td>72</td>\n",
       "      <td>83111.111</td>\n",
       "      <td>81745.908364</td>\n",
       "      <td>1365.202636</td>\n",
       "    </tr>\n",
       "    <tr>\n",
       "      <td>73</td>\n",
       "      <td>73305.353</td>\n",
       "      <td>71930.771298</td>\n",
       "      <td>1374.581702</td>\n",
       "    </tr>\n",
       "    <tr>\n",
       "      <td>74</td>\n",
       "      <td>28343.333</td>\n",
       "      <td>26693.099660</td>\n",
       "      <td>1650.233340</td>\n",
       "    </tr>\n",
       "    <tr>\n",
       "      <td>75</td>\n",
       "      <td>4004.882</td>\n",
       "      <td>1698.655375</td>\n",
       "      <td>2306.226625</td>\n",
       "    </tr>\n",
       "  </tbody>\n",
       "</table>\n",
       "<p>76 rows × 3 columns</p>\n",
       "</div>"
      ],
      "text/plain": [
       "    Actual Value  Predicted Value   Difference\n",
       "0      76554.824     72309.251100  4245.572900\n",
       "1      25014.312     24629.040390   385.271610\n",
       "2      55374.353     54017.775515  1356.577485\n",
       "3      57599.235     56215.933540  1383.301460\n",
       "4      36413.591     38988.151637 -2574.560637\n",
       "..           ...              ...          ...\n",
       "71     53541.789     52223.522741  1318.266259\n",
       "72     83111.111     81745.908364  1365.202636\n",
       "73     73305.353     71930.771298  1374.581702\n",
       "74     28343.333     26693.099660  1650.233340\n",
       "75      4004.882      1698.655375  2306.226625\n",
       "\n",
       "[76 rows x 3 columns]"
      ]
     },
     "execution_count": 13,
     "metadata": {},
     "output_type": "execute_result"
    }
   ],
   "source": [
    "pred_y_df=pd.DataFrame({\"Actual Value\":y_test,\"Predicted Value\":y_pred,\"Difference\":y_test-y_pred})\n",
    "pred_y_df[0:76]"
   ]
  },
  {
   "cell_type": "code",
   "execution_count": 14,
   "metadata": {},
   "outputs": [
    {
     "name": "stdout",
     "output_type": "stream",
     "text": [
      "Mean Absolute Error: 2243.438021511682\n",
      "Mean Squared Error: 30294788.98398201\n",
      "Root Mean Squared Error: 5504.070219753924\n"
     ]
    }
   ],
   "source": [
    "from sklearn import metrics\n",
    "import numpy as np\n",
    "print('Mean Absolute Error:', metrics.mean_absolute_error(y_test, y_pred))\n",
    "print('Mean Squared Error:', metrics.mean_squared_error(y_test, y_pred))\n",
    "RMSE= np.sqrt(metrics.mean_squared_error(y_test, y_pred))\n",
    "print('Root Mean Squared Error:',RMSE)"
   ]
  },
  {
   "cell_type": "markdown",
   "metadata": {},
   "source": [
    "y.max()"
   ]
  },
  {
   "cell_type": "code",
   "execution_count": 15,
   "metadata": {},
   "outputs": [
    {
     "data": {
      "text/plain": [
       "1527.3529999999998"
      ]
     },
     "execution_count": 15,
     "metadata": {},
     "output_type": "execute_result"
    }
   ],
   "source": [
    "y.min()"
   ]
  },
  {
   "cell_type": "code",
   "execution_count": 16,
   "metadata": {},
   "outputs": [
    {
     "name": "stdout",
     "output_type": "stream",
     "text": [
      "0.06191616475732907\n"
     ]
    }
   ],
   "source": [
    "NRMSE=RMSE/(y.max()-y.min())\n",
    "print(NRMSE)"
   ]
  },
  {
   "cell_type": "code",
   "execution_count": null,
   "metadata": {},
   "outputs": [],
   "source": []
  }
 ],
 "metadata": {
  "kernelspec": {
   "display_name": "Python 3",
   "language": "python",
   "name": "python3"
  },
  "language_info": {
   "codemirror_mode": {
    "name": "ipython",
    "version": 3
   },
   "file_extension": ".py",
   "mimetype": "text/x-python",
   "name": "python",
   "nbconvert_exporter": "python",
   "pygments_lexer": "ipython3",
   "version": "3.7.4"
  }
 },
 "nbformat": 4,
 "nbformat_minor": 2
}
