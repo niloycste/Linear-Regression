{
 "cells": [
  {
   "cell_type": "code",
   "execution_count": 1,
   "metadata": {},
   "outputs": [],
   "source": [
    "import pandas as pd\n",
    "data_df=pd.read_csv(r\"C:\\Users\\Niloy\\Linear Regression\\MicIndRnk16.csv\",header=None)"
   ]
  },
  {
   "cell_type": "code",
   "execution_count": 2,
   "metadata": {},
   "outputs": [],
   "source": [
    "data_df.columns=['independant A','independant B','independant C','independant D','independant E','independant F','independant G','independant H','independant I','independant J ','independant K','independant L','Dependant M']"
   ]
  },
  {
   "cell_type": "code",
   "execution_count": 3,
   "metadata": {},
   "outputs": [
    {
     "data": {
      "text/html": [
       "<div>\n",
       "<style scoped>\n",
       "    .dataframe tbody tr th:only-of-type {\n",
       "        vertical-align: middle;\n",
       "    }\n",
       "\n",
       "    .dataframe tbody tr th {\n",
       "        vertical-align: top;\n",
       "    }\n",
       "\n",
       "    .dataframe thead th {\n",
       "        text-align: right;\n",
       "    }\n",
       "</style>\n",
       "<table border=\"1\" class=\"dataframe\">\n",
       "  <thead>\n",
       "    <tr style=\"text-align: right;\">\n",
       "      <th></th>\n",
       "      <th>independant A</th>\n",
       "      <th>independant B</th>\n",
       "      <th>independant C</th>\n",
       "      <th>independant D</th>\n",
       "      <th>independant E</th>\n",
       "      <th>independant F</th>\n",
       "      <th>independant G</th>\n",
       "      <th>independant H</th>\n",
       "      <th>independant I</th>\n",
       "      <th>independant J</th>\n",
       "      <th>independant K</th>\n",
       "      <th>independant L</th>\n",
       "      <th>Dependant M</th>\n",
       "    </tr>\n",
       "  </thead>\n",
       "  <tbody>\n",
       "    <tr>\n",
       "      <td>0</td>\n",
       "      <td>273530.333</td>\n",
       "      <td>45669.000</td>\n",
       "      <td>4192.684</td>\n",
       "      <td>4559.938</td>\n",
       "      <td>45167.188</td>\n",
       "      <td>1439.562</td>\n",
       "      <td>30814.938</td>\n",
       "      <td>29.000</td>\n",
       "      <td>28.062</td>\n",
       "      <td>45083.529</td>\n",
       "      <td>3447.750</td>\n",
       "      <td>45100.444</td>\n",
       "      <td>45106.353</td>\n",
       "    </tr>\n",
       "    <tr>\n",
       "      <td>1</td>\n",
       "      <td>250032.632</td>\n",
       "      <td>57334.500</td>\n",
       "      <td>2659.188</td>\n",
       "      <td>6077.562</td>\n",
       "      <td>41978.750</td>\n",
       "      <td>1910.500</td>\n",
       "      <td>39377.375</td>\n",
       "      <td>1016.000</td>\n",
       "      <td>806.588</td>\n",
       "      <td>41007.250</td>\n",
       "      <td>3138.125</td>\n",
       "      <td>41007.125</td>\n",
       "      <td>41178.438</td>\n",
       "    </tr>\n",
       "    <tr>\n",
       "      <td>2</td>\n",
       "      <td>297651.688</td>\n",
       "      <td>56211.625</td>\n",
       "      <td>3289.688</td>\n",
       "      <td>4777.438</td>\n",
       "      <td>56185.375</td>\n",
       "      <td>1910.500</td>\n",
       "      <td>32251.125</td>\n",
       "      <td>489.250</td>\n",
       "      <td>487.312</td>\n",
       "      <td>57122.250</td>\n",
       "      <td>4234.000</td>\n",
       "      <td>55475.875</td>\n",
       "      <td>55397.750</td>\n",
       "    </tr>\n",
       "    <tr>\n",
       "      <td>3</td>\n",
       "      <td>168341.750</td>\n",
       "      <td>39377.706</td>\n",
       "      <td>1652.875</td>\n",
       "      <td>3898.059</td>\n",
       "      <td>23872.444</td>\n",
       "      <td>1188.250</td>\n",
       "      <td>26066.062</td>\n",
       "      <td>675.647</td>\n",
       "      <td>704.625</td>\n",
       "      <td>22888.824</td>\n",
       "      <td>1750.588</td>\n",
       "      <td>22847.895</td>\n",
       "      <td>22895.714</td>\n",
       "    </tr>\n",
       "    <tr>\n",
       "      <td>4</td>\n",
       "      <td>178196.938</td>\n",
       "      <td>40975.500</td>\n",
       "      <td>4616.950</td>\n",
       "      <td>4344.562</td>\n",
       "      <td>22048.125</td>\n",
       "      <td>1243.188</td>\n",
       "      <td>28605.562</td>\n",
       "      <td>750.000</td>\n",
       "      <td>1.895</td>\n",
       "      <td>20589.062</td>\n",
       "      <td>1574.750</td>\n",
       "      <td>21088.250</td>\n",
       "      <td>20500.875</td>\n",
       "    </tr>\n",
       "  </tbody>\n",
       "</table>\n",
       "</div>"
      ],
      "text/plain": [
       "   independant A  independant B  independant C  independant D  independant E  \\\n",
       "0     273530.333      45669.000       4192.684       4559.938      45167.188   \n",
       "1     250032.632      57334.500       2659.188       6077.562      41978.750   \n",
       "2     297651.688      56211.625       3289.688       4777.438      56185.375   \n",
       "3     168341.750      39377.706       1652.875       3898.059      23872.444   \n",
       "4     178196.938      40975.500       4616.950       4344.562      22048.125   \n",
       "\n",
       "   independant F  independant G  independant H  independant I  independant J   \\\n",
       "0       1439.562      30814.938         29.000         28.062       45083.529   \n",
       "1       1910.500      39377.375       1016.000        806.588       41007.250   \n",
       "2       1910.500      32251.125        489.250        487.312       57122.250   \n",
       "3       1188.250      26066.062        675.647        704.625       22888.824   \n",
       "4       1243.188      28605.562        750.000          1.895       20589.062   \n",
       "\n",
       "   independant K  independant L  Dependant M  \n",
       "0       3447.750      45100.444    45106.353  \n",
       "1       3138.125      41007.125    41178.438  \n",
       "2       4234.000      55475.875    55397.750  \n",
       "3       1750.588      22847.895    22895.714  \n",
       "4       1574.750      21088.250    20500.875  "
      ]
     },
     "execution_count": 3,
     "metadata": {},
     "output_type": "execute_result"
    }
   ],
   "source": [
    "data_df.head()\n"
   ]
  },
  {
   "cell_type": "code",
   "execution_count": 4,
   "metadata": {},
   "outputs": [],
   "source": [
    "x=data_df.drop(['Dependant M'],axis=1).values\n",
    "y=data_df['Dependant M'].values\n"
   ]
  },
  {
   "cell_type": "code",
   "execution_count": 5,
   "metadata": {},
   "outputs": [],
   "source": [
    "from sklearn.model_selection import train_test_split\n",
    "x_train, x_test, y_train, y_test= train_test_split(x,y,test_size=0.07,random_state=0)"
   ]
  },
  {
   "cell_type": "code",
   "execution_count": 6,
   "metadata": {},
   "outputs": [
    {
     "data": {
      "text/plain": [
       "LinearRegression(copy_X=True, fit_intercept=True, n_jobs=None, normalize=False)"
      ]
     },
     "execution_count": 6,
     "metadata": {},
     "output_type": "execute_result"
    }
   ],
   "source": [
    "from sklearn.linear_model import LinearRegression\n",
    "ml=LinearRegression()\n",
    "ml.fit(x_train,y_train)"
   ]
  },
  {
   "cell_type": "code",
   "execution_count": 7,
   "metadata": {},
   "outputs": [
    {
     "name": "stdout",
     "output_type": "stream",
     "text": [
      "[72682.98831936 24562.60566862 53853.70078212 56033.28855039\n",
      " 39258.93729127 17025.15116855 18256.20369075 48753.93979442\n",
      " 16895.30347147 14186.14392063  7431.18254759 18078.9804788\n",
      " 21455.63113606 31720.22757096 19773.34504172 13599.23824357\n",
      " 50297.47753382 33154.52257122 29738.61470663 64524.75040055\n",
      "  8271.32490083 45343.79590979 52297.59199178 31293.27095422\n",
      " 31123.19338466 60235.44870705 56168.44060067 44872.15666055\n",
      " 26546.8683233  53614.0949608  31641.66583726 29088.82193741\n",
      " 39922.30712611 45723.20469045  9788.58858053  6191.45683109\n",
      " 50377.23152586  6271.40202583 10026.34604184 68266.53758445\n",
      " 10514.8331531  31808.34161763 23039.46639533 48586.40518482\n",
      " 49912.08142618 47848.67879499 31427.64878101 32913.39064064\n",
      " 46744.8549412  43174.14902939 74652.28173358 44091.57312807\n",
      " 64396.96817259 17170.25298614 53691.76650521  9794.24166039\n",
      " 38302.27274557 39760.9765958  25347.29381336 25279.63696548\n",
      " 17500.749883   31939.14257309 28344.55879449  1274.59077143\n",
      " 53273.48401249 31324.34829259 29344.2390616  41045.09143968\n",
      " 58274.82969335 82380.15826144 44937.34069047 52183.60777099\n",
      " 82476.12903738 70404.84404896 26901.63812564  1652.73877077]\n"
     ]
    }
   ],
   "source": [
    "y_pred=ml.predict(x_test)\n",
    "print(y_pred)"
   ]
  },
  {
   "cell_type": "code",
   "execution_count": 8,
   "metadata": {},
   "outputs": [
    {
     "data": {
      "text/plain": [
       "array([-4.26114517e-04,  2.02642079e-02,  1.41543143e-01, -4.83351348e-02,\n",
       "        1.42949628e-01,  1.07163838e-01, -1.81849937e-02, -1.59559990e-01,\n",
       "        4.99520380e-02,  1.13415498e-02, -1.46789776e-01,  8.21967432e-01])"
      ]
     },
     "execution_count": 8,
     "metadata": {},
     "output_type": "execute_result"
    }
   ],
   "source": [
    "ml.coef_\n"
   ]
  },
  {
   "cell_type": "code",
   "execution_count": 9,
   "metadata": {},
   "outputs": [
    {
     "data": {
      "text/plain": [
       "-455.5951207045582"
      ]
     },
     "execution_count": 9,
     "metadata": {},
     "output_type": "execute_result"
    }
   ],
   "source": [
    "ml.intercept_"
   ]
  },
  {
   "cell_type": "code",
   "execution_count": 10,
   "metadata": {},
   "outputs": [
    {
     "data": {
      "text/plain": [
       "0.9281321768319679"
      ]
     },
     "execution_count": 10,
     "metadata": {},
     "output_type": "execute_result"
    }
   ],
   "source": [
    "from sklearn.metrics import r2_score\n",
    "r2_score(y_test,y_pred)\n",
    "    "
   ]
  },
  {
   "cell_type": "code",
   "execution_count": 12,
   "metadata": {},
   "outputs": [
    {
     "data": {
      "text/plain": [
       "Text(0.5, 1.0, 'Actual vs. Predicted')"
      ]
     },
     "execution_count": 12,
     "metadata": {},
     "output_type": "execute_result"
    },
    {
     "data": {
      "image/png": "[encoded data removed]",
      "text/plain": [
       "<Figure size 1080x720 with 1 Axes>"
      ]
     },
     "metadata": {
      "needs_background": "light"
     },
     "output_type": "display_data"
    }
   ],
   "source": [
    "import matplotlib.pyplot as plt\n",
    "plt.figure(figsize=(15,10))\n",
    "plt.scatter(y_test,y_pred)\n",
    "plt.xlabel(\"Actual\")\n",
    "plt.ylabel(\"Predicted\")\n",
    "plt.title(\"Actual vs. Predicted\")"
   ]
  },
  {
   "cell_type": "code",
   "execution_count": 13,
   "metadata": {},
   "outputs": [
    {
     "data": {
      "text/html": [
       "<div>\n",
       "<style scoped>\n",
       "    .dataframe tbody tr th:only-of-type {\n",
       "        vertical-align: middle;\n",
       "    }\n",
       "\n",
       "    .dataframe tbody tr th {\n",
       "        vertical-align: top;\n",
       "    }\n",
       "\n",
       "    .dataframe thead th {\n",
       "        text-align: right;\n",
       "    }\n",
       "</style>\n",
       "<table border=\"1\" class=\"dataframe\">\n",
       "  <thead>\n",
       "    <tr style=\"text-align: right;\">\n",
       "      <th></th>\n",
       "      <th>Actual Value</th>\n",
       "      <th>Predicted Value</th>\n",
       "      <th>Difference</th>\n",
       "    </tr>\n",
       "  </thead>\n",
       "  <tbody>\n",
       "    <tr>\n",
       "      <td>0</td>\n",
       "      <td>74136.938</td>\n",
       "      <td>72682.988319</td>\n",
       "      <td>1453.949681</td>\n",
       "    </tr>\n",
       "    <tr>\n",
       "      <td>1</td>\n",
       "      <td>25075.875</td>\n",
       "      <td>24562.605669</td>\n",
       "      <td>513.269331</td>\n",
       "    </tr>\n",
       "    <tr>\n",
       "      <td>2</td>\n",
       "      <td>55397.750</td>\n",
       "      <td>53853.700782</td>\n",
       "      <td>1544.049218</td>\n",
       "    </tr>\n",
       "    <tr>\n",
       "      <td>3</td>\n",
       "      <td>57513.688</td>\n",
       "      <td>56033.288550</td>\n",
       "      <td>1480.399450</td>\n",
       "    </tr>\n",
       "    <tr>\n",
       "      <td>4</td>\n",
       "      <td>37541.176</td>\n",
       "      <td>39258.937291</td>\n",
       "      <td>-1717.761291</td>\n",
       "    </tr>\n",
       "    <tr>\n",
       "      <td>...</td>\n",
       "      <td>...</td>\n",
       "      <td>...</td>\n",
       "      <td>...</td>\n",
       "    </tr>\n",
       "    <tr>\n",
       "      <td>71</td>\n",
       "      <td>53541.789</td>\n",
       "      <td>52183.607771</td>\n",
       "      <td>1358.181229</td>\n",
       "    </tr>\n",
       "    <tr>\n",
       "      <td>72</td>\n",
       "      <td>83875.000</td>\n",
       "      <td>82476.129037</td>\n",
       "      <td>1398.870963</td>\n",
       "    </tr>\n",
       "    <tr>\n",
       "      <td>73</td>\n",
       "      <td>74136.938</td>\n",
       "      <td>70404.844049</td>\n",
       "      <td>3732.093951</td>\n",
       "    </tr>\n",
       "    <tr>\n",
       "      <td>74</td>\n",
       "      <td>28327.727</td>\n",
       "      <td>26901.638126</td>\n",
       "      <td>1426.088874</td>\n",
       "    </tr>\n",
       "    <tr>\n",
       "      <td>75</td>\n",
       "      <td>3801.438</td>\n",
       "      <td>1652.738771</td>\n",
       "      <td>2148.699229</td>\n",
       "    </tr>\n",
       "  </tbody>\n",
       "</table>\n",
       "<p>76 rows × 3 columns</p>\n",
       "</div>"
      ],
      "text/plain": [
       "    Actual Value  Predicted Value   Difference\n",
       "0      74136.938     72682.988319  1453.949681\n",
       "1      25075.875     24562.605669   513.269331\n",
       "2      55397.750     53853.700782  1544.049218\n",
       "3      57513.688     56033.288550  1480.399450\n",
       "4      37541.176     39258.937291 -1717.761291\n",
       "..           ...              ...          ...\n",
       "71     53541.789     52183.607771  1358.181229\n",
       "72     83875.000     82476.129037  1398.870963\n",
       "73     74136.938     70404.844049  3732.093951\n",
       "74     28327.727     26901.638126  1426.088874\n",
       "75      3801.438      1652.738771  2148.699229\n",
       "\n",
       "[76 rows x 3 columns]"
      ]
     },
     "execution_count": 13,
     "metadata": {},
     "output_type": "execute_result"
    }
   ],
   "source": [
    "pred_y_df=pd.DataFrame({\"Actual Value\":y_test,\"Predicted Value\":y_pred,\"Difference\":y_test-y_pred})\n",
    "pred_y_df[0:76]"
   ]
  },
  {
   "cell_type": "code",
   "execution_count": 14,
   "metadata": {},
   "outputs": [
    {
     "name": "stdout",
     "output_type": "stream",
     "text": [
      "Mean Absolute Error: 2268.731090424707\n",
      "Mean Squared Error: 30755035.206537254\n",
      "Root Mean Squared Error: 5545.722243904508\n"
     ]
    }
   ],
   "source": [
    "from sklearn import metrics\n",
    "import numpy as np\n",
    "print('Mean Absolute Error:', metrics.mean_absolute_error(y_test, y_pred))\n",
    "print('Mean Squared Error:', metrics.mean_squared_error(y_test, y_pred))\n",
    "RMSE= np.sqrt(metrics.mean_squared_error(y_test, y_pred))\n",
    "print('Root Mean Squared Error:',RMSE)"
   ]
  },
  {
   "cell_type": "code",
   "execution_count": 15,
   "metadata": {},
   "outputs": [
    {
     "data": {
      "text/plain": [
       "90699.31199999999"
      ]
     },
     "execution_count": 15,
     "metadata": {},
     "output_type": "execute_result"
    }
   ],
   "source": [
    "y.max()"
   ]
  },
  {
   "cell_type": "code",
   "execution_count": 16,
   "metadata": {},
   "outputs": [
    {
     "data": {
      "text/plain": [
       "1447.8120000000001"
      ]
     },
     "execution_count": 16,
     "metadata": {},
     "output_type": "execute_result"
    }
   ],
   "source": [
    "y.min()"
   ]
  },
  {
   "cell_type": "code",
   "execution_count": 17,
   "metadata": {},
   "outputs": [
    {
     "name": "stdout",
     "output_type": "stream",
     "text": [
      "0.062135899608460464\n"
     ]
    }
   ],
   "source": [
    "NRMSE=RMSE/(y.max()-y.min())\n",
    "print(NRMSE)"
   ]
  },
  {
   "cell_type": "code",
   "execution_count": null,
   "metadata": {},
   "outputs": [],
   "source": []
  }
 ],
 "metadata": {
  "kernelspec": {
   "display_name": "Python 3",
   "language": "python",
   "name": "python3"
  },
  "language_info": {
   "codemirror_mode": {
    "name": "ipython",
    "version": 3
   },
   "file_extension": ".py",
   "mimetype": "text/x-python",
   "name": "python",
   "nbconvert_exporter": "python",
   "pygments_lexer": "ipython3",
   "version": "3.7.4"
  }
 },
 "nbformat": 4,
 "nbformat_minor": 2
}
