{
 "cells": [
  {
   "cell_type": "code",
   "execution_count": 1,
   "metadata": {},
   "outputs": [],
   "source": [
    "import pandas as pd\n",
    "data_df=pd.read_csv(r\"C:\\Users\\Niloy\\Linear Regression\\MicIndRnk10.csv\",header=None)"
   ]
  },
  {
   "cell_type": "code",
   "execution_count": 2,
   "metadata": {},
   "outputs": [],
   "source": [
    "data_df.columns=['independant A','independant B','independant C','independant D','independant E','independant F','independant G','independant H','independant I','independant J ','independant K','independant L','Dependant M']"
   ]
  },
  {
   "cell_type": "code",
   "execution_count": 3,
   "metadata": {},
   "outputs": [
    {
     "data": {
      "text/html": [
       "<div>\n",
       "<style scoped>\n",
       "    .dataframe tbody tr th:only-of-type {\n",
       "        vertical-align: middle;\n",
       "    }\n",
       "\n",
       "    .dataframe tbody tr th {\n",
       "        vertical-align: top;\n",
       "    }\n",
       "\n",
       "    .dataframe thead th {\n",
       "        text-align: right;\n",
       "    }\n",
       "</style>\n",
       "<table border=\"1\" class=\"dataframe\">\n",
       "  <thead>\n",
       "    <tr style=\"text-align: right;\">\n",
       "      <th></th>\n",
       "      <th>independant A</th>\n",
       "      <th>independant B</th>\n",
       "      <th>independant C</th>\n",
       "      <th>independant D</th>\n",
       "      <th>independant E</th>\n",
       "      <th>independant F</th>\n",
       "      <th>independant G</th>\n",
       "      <th>independant H</th>\n",
       "      <th>independant I</th>\n",
       "      <th>independant J</th>\n",
       "      <th>independant K</th>\n",
       "      <th>independant L</th>\n",
       "      <th>Dependant M</th>\n",
       "    </tr>\n",
       "  </thead>\n",
       "  <tbody>\n",
       "    <tr>\n",
       "      <td>0</td>\n",
       "      <td>270901.400</td>\n",
       "      <td>45893.692</td>\n",
       "      <td>4173.700</td>\n",
       "      <td>4616.364</td>\n",
       "      <td>45334.000</td>\n",
       "      <td>1441.273</td>\n",
       "      <td>30842.267</td>\n",
       "      <td>28.500</td>\n",
       "      <td>27.300</td>\n",
       "      <td>45845.700</td>\n",
       "      <td>3495.900</td>\n",
       "      <td>45635.700</td>\n",
       "      <td>45735.700</td>\n",
       "    </tr>\n",
       "    <tr>\n",
       "      <td>1</td>\n",
       "      <td>251905.800</td>\n",
       "      <td>57550.800</td>\n",
       "      <td>2642.500</td>\n",
       "      <td>6011.900</td>\n",
       "      <td>41877.545</td>\n",
       "      <td>1914.364</td>\n",
       "      <td>39184.400</td>\n",
       "      <td>1003.312</td>\n",
       "      <td>808.000</td>\n",
       "      <td>41046.067</td>\n",
       "      <td>3138.125</td>\n",
       "      <td>41045.933</td>\n",
       "      <td>41057.417</td>\n",
       "    </tr>\n",
       "    <tr>\n",
       "      <td>2</td>\n",
       "      <td>305539.100</td>\n",
       "      <td>56822.833</td>\n",
       "      <td>3293.727</td>\n",
       "      <td>4769.000</td>\n",
       "      <td>56354.750</td>\n",
       "      <td>1914.364</td>\n",
       "      <td>32051.300</td>\n",
       "      <td>464.500</td>\n",
       "      <td>484.909</td>\n",
       "      <td>56157.364</td>\n",
       "      <td>4297.100</td>\n",
       "      <td>56173.100</td>\n",
       "      <td>56365.000</td>\n",
       "    </tr>\n",
       "    <tr>\n",
       "      <td>3</td>\n",
       "      <td>168269.692</td>\n",
       "      <td>39055.091</td>\n",
       "      <td>1635.200</td>\n",
       "      <td>3911.500</td>\n",
       "      <td>23643.200</td>\n",
       "      <td>1190.000</td>\n",
       "      <td>26164.000</td>\n",
       "      <td>704.600</td>\n",
       "      <td>708.200</td>\n",
       "      <td>22888.824</td>\n",
       "      <td>1750.588</td>\n",
       "      <td>22711.000</td>\n",
       "      <td>22781.000</td>\n",
       "    </tr>\n",
       "    <tr>\n",
       "      <td>4</td>\n",
       "      <td>176859.900</td>\n",
       "      <td>40163.100</td>\n",
       "      <td>4588.500</td>\n",
       "      <td>4352.500</td>\n",
       "      <td>21527.000</td>\n",
       "      <td>1220.600</td>\n",
       "      <td>29324.300</td>\n",
       "      <td>751.545</td>\n",
       "      <td>1.462</td>\n",
       "      <td>21016.500</td>\n",
       "      <td>1607.300</td>\n",
       "      <td>20966.500</td>\n",
       "      <td>20981.400</td>\n",
       "    </tr>\n",
       "  </tbody>\n",
       "</table>\n",
       "</div>"
      ],
      "text/plain": [
       "   independant A  independant B  independant C  independant D  independant E  \\\n",
       "0     270901.400      45893.692       4173.700       4616.364      45334.000   \n",
       "1     251905.800      57550.800       2642.500       6011.900      41877.545   \n",
       "2     305539.100      56822.833       3293.727       4769.000      56354.750   \n",
       "3     168269.692      39055.091       1635.200       3911.500      23643.200   \n",
       "4     176859.900      40163.100       4588.500       4352.500      21527.000   \n",
       "\n",
       "   independant F  independant G  independant H  independant I  independant J   \\\n",
       "0       1441.273      30842.267         28.500         27.300       45845.700   \n",
       "1       1914.364      39184.400       1003.312        808.000       41046.067   \n",
       "2       1914.364      32051.300        464.500        484.909       56157.364   \n",
       "3       1190.000      26164.000        704.600        708.200       22888.824   \n",
       "4       1220.600      29324.300        751.545          1.462       21016.500   \n",
       "\n",
       "   independant K  independant L  Dependant M  \n",
       "0       3495.900      45635.700    45735.700  \n",
       "1       3138.125      41045.933    41057.417  \n",
       "2       4297.100      56173.100    56365.000  \n",
       "3       1750.588      22711.000    22781.000  \n",
       "4       1607.300      20966.500    20981.400  "
      ]
     },
     "execution_count": 3,
     "metadata": {},
     "output_type": "execute_result"
    }
   ],
   "source": [
    "data_df.head()\n"
   ]
  },
  {
   "cell_type": "code",
   "execution_count": 4,
   "metadata": {},
   "outputs": [],
   "source": [
    "x=data_df.drop(['Dependant M'],axis=1).values\n",
    "y=data_df['Dependant M'].values"
   ]
  },
  {
   "cell_type": "code",
   "execution_count": 5,
   "metadata": {},
   "outputs": [],
   "source": [
    "from sklearn.model_selection import train_test_split\n",
    "x_train, x_test, y_train, y_test= train_test_split(x,y,test_size=0.07,random_state=0)"
   ]
  },
  {
   "cell_type": "code",
   "execution_count": 6,
   "metadata": {},
   "outputs": [
    {
     "data": {
      "text/plain": [
       "LinearRegression(copy_X=True, fit_intercept=True, n_jobs=None, normalize=False)"
      ]
     },
     "execution_count": 6,
     "metadata": {},
     "output_type": "execute_result"
    }
   ],
   "source": [
    "from sklearn.linear_model import LinearRegression\n",
    "ml=LinearRegression()\n",
    "ml.fit(x_train,y_train)"
   ]
  },
  {
   "cell_type": "code",
   "execution_count": 7,
   "metadata": {},
   "outputs": [
    {
     "name": "stdout",
     "output_type": "stream",
     "text": [
      "[73172.76084828 24812.4267065  54629.41071925 57853.59833249\n",
      " 38478.49504287 17163.00874161 18399.99793635 49159.24926812\n",
      " 17051.82275558 14179.56998358 -1234.52289542 18030.67173744\n",
      " 21091.69697035 31736.86643588 19828.86232647 13924.91901702\n",
      " 50441.85916362 33056.26760922 29631.74409048 63889.67773191\n",
      "  8209.74344085 45380.56272333 51964.66831121 31336.32974533\n",
      " 31139.92030645 60318.27892734 54991.06341602 45306.96940067\n",
      " 26857.90119247 53754.73999636 31722.02529657 29628.16707368\n",
      " 39969.34558649 46049.28632164  9053.99758202  7386.01466679\n",
      " 50437.21430882  6087.79539449 10243.84466834 68110.72419669\n",
      " 10315.8804313  32212.16986707 23053.2425499  48461.23092248\n",
      " 49531.94278789 47755.0725166  31299.43887916 33129.96502983\n",
      " 46890.80471463 43667.62391714 72180.11550748 44208.2073142\n",
      " 62819.45405271 17189.27521636 52983.40358695 10175.29956024\n",
      " 38356.22371927 39758.78515836 25512.89559731 25134.33173191\n",
      " 17657.31658557 31047.36781244 28816.64451751   291.83212087\n",
      " 53105.29345995 31643.40515544 29405.99334651 41480.31551391\n",
      " 58704.38505321 84920.178078   45321.26791053 52518.66497742\n",
      " 81405.55861184 70886.16531699 27286.04320686  2442.35293357]\n"
     ]
    }
   ],
   "source": [
    "y_pred=ml.predict(x_test)\n",
    "print(y_pred)"
   ]
  },
  {
   "cell_type": "code",
   "execution_count": 8,
   "metadata": {},
   "outputs": [
    {
     "data": {
      "text/plain": [
       "array([-5.15684153e-05,  3.62262552e-02,  9.51284073e-02,  9.29745015e-02,\n",
       "       -5.60603123e-02,  1.44148889e-01, -6.72838785e-02,  2.82148520e-02,\n",
       "        6.20464273e-02,  1.53542365e-01,  1.21466770e-01,  8.60128394e-01])"
      ]
     },
     "execution_count": 8,
     "metadata": {},
     "output_type": "execute_result"
    }
   ],
   "source": [
    "ml.coef_\n"
   ]
  },
  {
   "cell_type": "code",
   "execution_count": 9,
   "metadata": {},
   "outputs": [
    {
     "data": {
      "text/plain": [
       "-481.9137549784573"
      ]
     },
     "execution_count": 9,
     "metadata": {},
     "output_type": "execute_result"
    }
   ],
   "source": [
    "ml.intercept_"
   ]
  },
  {
   "cell_type": "code",
   "execution_count": 10,
   "metadata": {},
   "outputs": [
    {
     "data": {
      "text/plain": [
       "0.9290177069609203"
      ]
     },
     "execution_count": 10,
     "metadata": {},
     "output_type": "execute_result"
    }
   ],
   "source": [
    "from sklearn.metrics import r2_score\n",
    "r2_score(y_test,y_pred)\n",
    "    "
   ]
  },
  {
   "cell_type": "code",
   "execution_count": 11,
   "metadata": {},
   "outputs": [
    {
     "data": {
      "text/plain": [
       "Text(0.5, 1.0, 'Actual vs. Predicted')"
      ]
     },
     "execution_count": 11,
     "metadata": {},
     "output_type": "execute_result"
    }
   ],
   "source": [
    "import matplotlib.pyplot as plt\n",
    "plt.figure(figsize=(15,10))\n",
    "plt.scatter(y_test,y_pred)\n",
    "plt.xlabel(\"Actual\")\n",
    "plt.ylabel(\"Predicted\")\n",
    "plt.title(\"Actual vs. Predicted\")"
   ]
  },
  {
   "cell_type": "code",
   "execution_count": 12,
   "metadata": {},
   "outputs": [
    {
     "data": {
      "text/html": [
       "<div>\n",
       "<style scoped>\n",
       "    .dataframe tbody tr th:only-of-type {\n",
       "        vertical-align: middle;\n",
       "    }\n",
       "\n",
       "    .dataframe tbody tr th {\n",
       "        vertical-align: top;\n",
       "    }\n",
       "\n",
       "    .dataframe thead th {\n",
       "        text-align: right;\n",
       "    }\n",
       "</style>\n",
       "<table border=\"1\" class=\"dataframe\">\n",
       "  <thead>\n",
       "    <tr style=\"text-align: right;\">\n",
       "      <th></th>\n",
       "      <th>Actual Value</th>\n",
       "      <th>Predicted Value</th>\n",
       "      <th>Difference</th>\n",
       "    </tr>\n",
       "  </thead>\n",
       "  <tbody>\n",
       "    <tr>\n",
       "      <td>0</td>\n",
       "      <td>74942.611</td>\n",
       "      <td>73172.760848</td>\n",
       "      <td>1769.850152</td>\n",
       "    </tr>\n",
       "    <tr>\n",
       "      <td>1</td>\n",
       "      <td>25000.000</td>\n",
       "      <td>24812.426706</td>\n",
       "      <td>187.573294</td>\n",
       "    </tr>\n",
       "    <tr>\n",
       "      <td>2</td>\n",
       "      <td>56365.000</td>\n",
       "      <td>54629.410719</td>\n",
       "      <td>1735.589281</td>\n",
       "    </tr>\n",
       "    <tr>\n",
       "      <td>3</td>\n",
       "      <td>59416.500</td>\n",
       "      <td>57853.598332</td>\n",
       "      <td>1562.901668</td>\n",
       "    </tr>\n",
       "    <tr>\n",
       "      <td>4</td>\n",
       "      <td>36909.900</td>\n",
       "      <td>38478.495043</td>\n",
       "      <td>-1568.595043</td>\n",
       "    </tr>\n",
       "    <tr>\n",
       "      <td>...</td>\n",
       "      <td>...</td>\n",
       "      <td>...</td>\n",
       "      <td>...</td>\n",
       "    </tr>\n",
       "    <tr>\n",
       "      <td>71</td>\n",
       "      <td>53912.182</td>\n",
       "      <td>52518.664977</td>\n",
       "      <td>1393.517023</td>\n",
       "    </tr>\n",
       "    <tr>\n",
       "      <td>72</td>\n",
       "      <td>83400.000</td>\n",
       "      <td>81405.558612</td>\n",
       "      <td>1994.441388</td>\n",
       "    </tr>\n",
       "    <tr>\n",
       "      <td>73</td>\n",
       "      <td>72429.200</td>\n",
       "      <td>70886.165317</td>\n",
       "      <td>1543.034683</td>\n",
       "    </tr>\n",
       "    <tr>\n",
       "      <td>74</td>\n",
       "      <td>27989.889</td>\n",
       "      <td>27286.043207</td>\n",
       "      <td>703.845793</td>\n",
       "    </tr>\n",
       "    <tr>\n",
       "      <td>75</td>\n",
       "      <td>2587.308</td>\n",
       "      <td>2442.352934</td>\n",
       "      <td>144.955066</td>\n",
       "    </tr>\n",
       "  </tbody>\n",
       "</table>\n",
       "<p>76 rows × 3 columns</p>\n",
       "</div>"
      ],
      "text/plain": [
       "    Actual Value  Predicted Value   Difference\n",
       "0      74942.611     73172.760848  1769.850152\n",
       "1      25000.000     24812.426706   187.573294\n",
       "2      56365.000     54629.410719  1735.589281\n",
       "3      59416.500     57853.598332  1562.901668\n",
       "4      36909.900     38478.495043 -1568.595043\n",
       "..           ...              ...          ...\n",
       "71     53912.182     52518.664977  1393.517023\n",
       "72     83400.000     81405.558612  1994.441388\n",
       "73     72429.200     70886.165317  1543.034683\n",
       "74     27989.889     27286.043207   703.845793\n",
       "75      2587.308      2442.352934   144.955066\n",
       "\n",
       "[76 rows x 3 columns]"
      ]
     },
     "execution_count": 12,
     "metadata": {},
     "output_type": "execute_result"
    }
   ],
   "source": [
    "pred_y_df=pd.DataFrame({\"Actual Value\":y_test,\"Predicted Value\":y_pred,\"Difference\":y_test-y_pred})\n",
    "pred_y_df[0:76]"
   ]
  },
  {
   "cell_type": "code",
   "execution_count": 13,
   "metadata": {},
   "outputs": [
    {
     "name": "stdout",
     "output_type": "stream",
     "text": [
      "Mean Absolute Error: 2104.9116599168815\n",
      "Mean Squared Error: 30487460.241063587\n",
      "Root Mean Squared Error: 5521.545095447794\n"
     ]
    }
   ],
   "source": [
    "from sklearn import metrics\n",
    "import numpy as np\n",
    "print('Mean Absolute Error:', metrics.mean_absolute_error(y_test, y_pred))\n",
    "print('Mean Squared Error:', metrics.mean_squared_error(y_test, y_pred))\n",
    "RMSE= np.sqrt(metrics.mean_squared_error(y_test, y_pred))\n",
    "print('Root Mean Squared Error:',RMSE)"
   ]
  },
  {
   "cell_type": "code",
   "execution_count": 14,
   "metadata": {},
   "outputs": [
    {
     "data": {
      "text/plain": [
       "92017.18199999999"
      ]
     },
     "execution_count": 14,
     "metadata": {},
     "output_type": "execute_result"
    }
   ],
   "source": [
    "y.max()"
   ]
  },
  {
   "cell_type": "code",
   "execution_count": 15,
   "metadata": {},
   "outputs": [
    {
     "data": {
      "text/plain": [
       "1069.7"
      ]
     },
     "execution_count": 15,
     "metadata": {},
     "output_type": "execute_result"
    }
   ],
   "source": [
    "y.min()"
   ]
  },
  {
   "cell_type": "code",
   "execution_count": 16,
   "metadata": {},
   "outputs": [
    {
     "name": "stdout",
     "output_type": "stream",
     "text": [
      "0.06071135752222139\n"
     ]
    }
   ],
   "source": [
    "NRMSE=RMSE/(y.max()-y.min())\n",
    "print(NRMSE)"
   ]
  },
  {
   "cell_type": "code",
   "execution_count": null,
   "metadata": {},
   "outputs": [],
   "source": []
  }
 ],
 "metadata": {
  "kernelspec": {
   "display_name": "Python 3",
   "language": "python",
   "name": "python3"
  },
  "language_info": {
   "codemirror_mode": {
    "name": "ipython",
    "version": 3
   },
   "file_extension": ".py",
   "mimetype": "text/x-python",
   "name": "python",
   "nbconvert_exporter": "python",
   "pygments_lexer": "ipython3",
   "version": "3.7.4"
  }
 },
 "nbformat": 4,
 "nbformat_minor": 2
}
