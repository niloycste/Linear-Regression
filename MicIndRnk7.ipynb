{
 "cells": [
  {
   "cell_type": "code",
   "execution_count": 1,
   "metadata": {},
   "outputs": [],
   "source": [
    "import pandas as pd\n",
    "data_df=pd.read_csv(r\"C:\\Users\\Niloy\\Linear Regression\\MicIndRnk7.csv\",header=None)"
   ]
  },
  {
   "cell_type": "code",
   "execution_count": 2,
   "metadata": {},
   "outputs": [],
   "source": [
    "data_df.columns=['independant A','independant B','independant C','independant D','independant E','independant F','independant G','independant H','independant I','independant J ','independant K','independant L','Dependant M']"
   ]
  },
  {
   "cell_type": "code",
   "execution_count": 3,
   "metadata": {},
   "outputs": [
    {
     "data": {
      "text/html": [
       "<div>\n",
       "<style scoped>\n",
       "    .dataframe tbody tr th:only-of-type {\n",
       "        vertical-align: middle;\n",
       "    }\n",
       "\n",
       "    .dataframe tbody tr th {\n",
       "        vertical-align: top;\n",
       "    }\n",
       "\n",
       "    .dataframe thead th {\n",
       "        text-align: right;\n",
       "    }\n",
       "</style>\n",
       "<table border=\"1\" class=\"dataframe\">\n",
       "  <thead>\n",
       "    <tr style=\"text-align: right;\">\n",
       "      <th></th>\n",
       "      <th>independant A</th>\n",
       "      <th>independant B</th>\n",
       "      <th>independant C</th>\n",
       "      <th>independant D</th>\n",
       "      <th>independant E</th>\n",
       "      <th>independant F</th>\n",
       "      <th>independant G</th>\n",
       "      <th>independant H</th>\n",
       "      <th>independant I</th>\n",
       "      <th>independant J</th>\n",
       "      <th>independant K</th>\n",
       "      <th>independant L</th>\n",
       "      <th>Dependant M</th>\n",
       "    </tr>\n",
       "  </thead>\n",
       "  <tbody>\n",
       "    <tr>\n",
       "      <td>0</td>\n",
       "      <td>270294.429</td>\n",
       "      <td>45702.857</td>\n",
       "      <td>4166.857</td>\n",
       "      <td>4640.286</td>\n",
       "      <td>45536.143</td>\n",
       "      <td>1435.000</td>\n",
       "      <td>31069.000</td>\n",
       "      <td>25.000</td>\n",
       "      <td>27.625</td>\n",
       "      <td>45845.700</td>\n",
       "      <td>3501.000</td>\n",
       "      <td>45782.125</td>\n",
       "      <td>45806.333</td>\n",
       "    </tr>\n",
       "    <tr>\n",
       "      <td>1</td>\n",
       "      <td>249864.286</td>\n",
       "      <td>57640.500</td>\n",
       "      <td>2632.571</td>\n",
       "      <td>6030.875</td>\n",
       "      <td>42140.571</td>\n",
       "      <td>1892.625</td>\n",
       "      <td>39292.143</td>\n",
       "      <td>1011.111</td>\n",
       "      <td>808.000</td>\n",
       "      <td>40987.125</td>\n",
       "      <td>3144.714</td>\n",
       "      <td>40987.125</td>\n",
       "      <td>41057.417</td>\n",
       "    </tr>\n",
       "    <tr>\n",
       "      <td>2</td>\n",
       "      <td>297753.857</td>\n",
       "      <td>56695.571</td>\n",
       "      <td>3306.571</td>\n",
       "      <td>4751.750</td>\n",
       "      <td>56538.375</td>\n",
       "      <td>1913.429</td>\n",
       "      <td>32051.300</td>\n",
       "      <td>472.000</td>\n",
       "      <td>484.909</td>\n",
       "      <td>55955.556</td>\n",
       "      <td>4284.000</td>\n",
       "      <td>56000.000</td>\n",
       "      <td>56071.429</td>\n",
       "    </tr>\n",
       "    <tr>\n",
       "      <td>3</td>\n",
       "      <td>167903.000</td>\n",
       "      <td>39016.000</td>\n",
       "      <td>1627.750</td>\n",
       "      <td>3916.429</td>\n",
       "      <td>23590.125</td>\n",
       "      <td>1190.750</td>\n",
       "      <td>26119.375</td>\n",
       "      <td>694.857</td>\n",
       "      <td>696.750</td>\n",
       "      <td>22730.000</td>\n",
       "      <td>1738.571</td>\n",
       "      <td>22990.000</td>\n",
       "      <td>22687.143</td>\n",
       "    </tr>\n",
       "    <tr>\n",
       "      <td>4</td>\n",
       "      <td>176193.857</td>\n",
       "      <td>40581.444</td>\n",
       "      <td>4612.818</td>\n",
       "      <td>4352.500</td>\n",
       "      <td>21693.000</td>\n",
       "      <td>1213.286</td>\n",
       "      <td>29138.333</td>\n",
       "      <td>753.714</td>\n",
       "      <td>1.000</td>\n",
       "      <td>20962.778</td>\n",
       "      <td>1603.222</td>\n",
       "      <td>20966.500</td>\n",
       "      <td>20958.125</td>\n",
       "    </tr>\n",
       "  </tbody>\n",
       "</table>\n",
       "</div>"
      ],
      "text/plain": [
       "   independant A  independant B  independant C  independant D  independant E  \\\n",
       "0     270294.429      45702.857       4166.857       4640.286      45536.143   \n",
       "1     249864.286      57640.500       2632.571       6030.875      42140.571   \n",
       "2     297753.857      56695.571       3306.571       4751.750      56538.375   \n",
       "3     167903.000      39016.000       1627.750       3916.429      23590.125   \n",
       "4     176193.857      40581.444       4612.818       4352.500      21693.000   \n",
       "\n",
       "   independant F  independant G  independant H  independant I  independant J   \\\n",
       "0       1435.000      31069.000         25.000         27.625       45845.700   \n",
       "1       1892.625      39292.143       1011.111        808.000       40987.125   \n",
       "2       1913.429      32051.300        472.000        484.909       55955.556   \n",
       "3       1190.750      26119.375        694.857        696.750       22730.000   \n",
       "4       1213.286      29138.333        753.714          1.000       20962.778   \n",
       "\n",
       "   independant K  independant L  Dependant M  \n",
       "0       3501.000      45782.125    45806.333  \n",
       "1       3144.714      40987.125    41057.417  \n",
       "2       4284.000      56000.000    56071.429  \n",
       "3       1738.571      22990.000    22687.143  \n",
       "4       1603.222      20966.500    20958.125  "
      ]
     },
     "execution_count": 3,
     "metadata": {},
     "output_type": "execute_result"
    }
   ],
   "source": [
    "data_df.head()\n"
   ]
  },
  {
   "cell_type": "code",
   "execution_count": 4,
   "metadata": {},
   "outputs": [],
   "source": [
    "x=data_df.drop(['Dependant M'],axis=1).values\n",
    "y=data_df['Dependant M'].values"
   ]
  },
  {
   "cell_type": "code",
   "execution_count": 5,
   "metadata": {},
   "outputs": [],
   "source": [
    "from sklearn.model_selection import train_test_split\n",
    "x_train, x_test, y_train, y_test= train_test_split(x,y,test_size=0.07,random_state=0)"
   ]
  },
  {
   "cell_type": "code",
   "execution_count": 6,
   "metadata": {},
   "outputs": [
    {
     "data": {
      "text/plain": [
       "LinearRegression(copy_X=True, fit_intercept=True, n_jobs=None, normalize=False)"
      ]
     },
     "execution_count": 6,
     "metadata": {},
     "output_type": "execute_result"
    }
   ],
   "source": [
    "from sklearn.linear_model import LinearRegression\n",
    "ml=LinearRegression()\n",
    "ml.fit(x_train,y_train)"
   ]
  },
  {
   "cell_type": "code",
   "execution_count": 7,
   "metadata": {},
   "outputs": [
    {
     "name": "stdout",
     "output_type": "stream",
     "text": [
      "[72785.29668324 24984.02425575 54585.0799154  57649.93607256\n",
      " 38752.23528653 17021.37062247 18470.97219389 49132.25695085\n",
      " 16906.48688164 14093.29575209   307.35890369 18179.34618428\n",
      " 21157.68973075 31612.32045424 19914.11084724 13977.39391207\n",
      " 50428.21044457 33302.78377253 29653.27187762 64069.84325968\n",
      "  8310.63407987 45390.53320381 52366.60832043 31299.53451213\n",
      " 31213.03314114 60324.13588403 55598.48191734 45332.77672956\n",
      " 26715.61688796 53816.25224046 31700.19246747 29254.69001478\n",
      " 39942.11916554 46065.59911255  9025.50377727  6231.67674203\n",
      " 50403.69985632  6222.13815536 10362.88803919 68261.00987516\n",
      " 10097.19839108 32115.47502579 23127.43431956 48475.65158911\n",
      " 49570.42993135 47720.84548981 31317.12618169 33156.07464921\n",
      " 46979.67507936 43623.50089534 72336.46467817 44135.86396668\n",
      " 64680.81806112 17045.86862275 53007.11022059  9677.04605339\n",
      " 38430.96752885 39638.63759955 25490.79724547 25158.77581806\n",
      " 17492.15140486 31094.88119494 29143.77272041  1710.04214471\n",
      " 53157.02200769 31505.54520635 29452.59574746 41473.60557341\n",
      " 58684.75739219 84340.80373341 45475.01905497 52398.91715617\n",
      " 82286.04288285 71961.40625155 27182.23502841  2081.29894109]\n"
     ]
    }
   ],
   "source": [
    "y_pred=ml.predict(x_test)\n",
    "print(y_pred)"
   ]
  },
  {
   "cell_type": "code",
   "execution_count": 8,
   "metadata": {},
   "outputs": [
    {
     "data": {
      "text/plain": [
       "array([-1.32842880e-04,  3.18190247e-02,  1.17794483e-01,  1.21959718e-01,\n",
       "       -5.67228894e-02,  1.18351728e-01, -6.75688145e-02,  2.98562822e-02,\n",
       "        5.40949246e-02,  1.50730710e-01,  1.78189396e-01,  8.59517861e-01])"
      ]
     },
     "execution_count": 8,
     "metadata": {},
     "output_type": "execute_result"
    }
   ],
   "source": [
    "ml.coef_"
   ]
  },
  {
   "cell_type": "code",
   "execution_count": 9,
   "metadata": {},
   "outputs": [
    {
     "data": {
      "text/plain": [
       "-428.03319083041424"
      ]
     },
     "execution_count": 9,
     "metadata": {},
     "output_type": "execute_result"
    }
   ],
   "source": [
    "ml.intercept_"
   ]
  },
  {
   "cell_type": "code",
   "execution_count": 10,
   "metadata": {},
   "outputs": [
    {
     "data": {
      "text/plain": [
       "0.927850337252174"
      ]
     },
     "execution_count": 10,
     "metadata": {},
     "output_type": "execute_result"
    }
   ],
   "source": [
    "from sklearn.metrics import r2_score\n",
    "r2_score(y_test,y_pred)\n",
    "    "
   ]
  },
  {
   "cell_type": "code",
   "execution_count": 12,
   "metadata": {},
   "outputs": [
    {
     "data": {
      "text/plain": [
       "Text(0.5, 1.0, 'Actual vs. Predicted')"
      ]
     },
     "execution_count": 12,
     "metadata": {},
     "output_type": "execute_result"
    },
    {
     "data": {
      "image/png": "[encoded data removed]",
      "text/plain": [
       "<Figure size 1080x720 with 1 Axes>"
      ]
     },
     "metadata": {
      "needs_background": "light"
     },
     "output_type": "display_data"
    }
   ],
   "source": [
    "import matplotlib.pyplot as plt\n",
    "plt.figure(figsize=(15,10))\n",
    "plt.scatter(y_test,y_pred)\n",
    "plt.xlabel(\"Actual\")\n",
    "plt.ylabel(\"Predicted\")\n",
    "plt.title(\"Actual vs. Predicted\")"
   ]
  },
  {
   "cell_type": "code",
   "execution_count": 13,
   "metadata": {},
   "outputs": [
    {
     "data": {
      "text/html": [
       "<div>\n",
       "<style scoped>\n",
       "    .dataframe tbody tr th:only-of-type {\n",
       "        vertical-align: middle;\n",
       "    }\n",
       "\n",
       "    .dataframe tbody tr th {\n",
       "        vertical-align: top;\n",
       "    }\n",
       "\n",
       "    .dataframe thead th {\n",
       "        text-align: right;\n",
       "    }\n",
       "</style>\n",
       "<table border=\"1\" class=\"dataframe\">\n",
       "  <thead>\n",
       "    <tr style=\"text-align: right;\">\n",
       "      <th></th>\n",
       "      <th>Actual Value</th>\n",
       "      <th>Predicted Value</th>\n",
       "      <th>Difference</th>\n",
       "    </tr>\n",
       "  </thead>\n",
       "  <tbody>\n",
       "    <tr>\n",
       "      <td>0</td>\n",
       "      <td>75000.000</td>\n",
       "      <td>72785.296683</td>\n",
       "      <td>2214.703317</td>\n",
       "    </tr>\n",
       "    <tr>\n",
       "      <td>1</td>\n",
       "      <td>25000.000</td>\n",
       "      <td>24984.024256</td>\n",
       "      <td>15.975744</td>\n",
       "    </tr>\n",
       "    <tr>\n",
       "      <td>2</td>\n",
       "      <td>56071.429</td>\n",
       "      <td>54585.079915</td>\n",
       "      <td>1486.349085</td>\n",
       "    </tr>\n",
       "    <tr>\n",
       "      <td>3</td>\n",
       "      <td>59180.714</td>\n",
       "      <td>57649.936073</td>\n",
       "      <td>1530.777927</td>\n",
       "    </tr>\n",
       "    <tr>\n",
       "      <td>4</td>\n",
       "      <td>36966.556</td>\n",
       "      <td>38752.235287</td>\n",
       "      <td>-1785.679287</td>\n",
       "    </tr>\n",
       "    <tr>\n",
       "      <td>...</td>\n",
       "      <td>...</td>\n",
       "      <td>...</td>\n",
       "      <td>...</td>\n",
       "    </tr>\n",
       "    <tr>\n",
       "      <td>71</td>\n",
       "      <td>53912.182</td>\n",
       "      <td>52398.917156</td>\n",
       "      <td>1513.264844</td>\n",
       "    </tr>\n",
       "    <tr>\n",
       "      <td>72</td>\n",
       "      <td>85600.000</td>\n",
       "      <td>82286.042883</td>\n",
       "      <td>3313.957117</td>\n",
       "    </tr>\n",
       "    <tr>\n",
       "      <td>73</td>\n",
       "      <td>73785.571</td>\n",
       "      <td>71961.406252</td>\n",
       "      <td>1824.164748</td>\n",
       "    </tr>\n",
       "    <tr>\n",
       "      <td>74</td>\n",
       "      <td>28038.571</td>\n",
       "      <td>27182.235028</td>\n",
       "      <td>856.335972</td>\n",
       "    </tr>\n",
       "    <tr>\n",
       "      <td>75</td>\n",
       "      <td>2900.429</td>\n",
       "      <td>2081.298941</td>\n",
       "      <td>819.130059</td>\n",
       "    </tr>\n",
       "  </tbody>\n",
       "</table>\n",
       "<p>76 rows × 3 columns</p>\n",
       "</div>"
      ],
      "text/plain": [
       "    Actual Value  Predicted Value   Difference\n",
       "0      75000.000     72785.296683  2214.703317\n",
       "1      25000.000     24984.024256    15.975744\n",
       "2      56071.429     54585.079915  1486.349085\n",
       "3      59180.714     57649.936073  1530.777927\n",
       "4      36966.556     38752.235287 -1785.679287\n",
       "..           ...              ...          ...\n",
       "71     53912.182     52398.917156  1513.264844\n",
       "72     85600.000     82286.042883  3313.957117\n",
       "73     73785.571     71961.406252  1824.164748\n",
       "74     28038.571     27182.235028   856.335972\n",
       "75      2900.429      2081.298941   819.130059\n",
       "\n",
       "[76 rows x 3 columns]"
      ]
     },
     "execution_count": 13,
     "metadata": {},
     "output_type": "execute_result"
    }
   ],
   "source": [
    "pred_y_df=pd.DataFrame({\"Actual Value\":y_test,\"Predicted Value\":y_pred,\"Difference\":y_test-y_pred})\n",
    "pred_y_df[0:76]"
   ]
  },
  {
   "cell_type": "code",
   "execution_count": 14,
   "metadata": {},
   "outputs": [
    {
     "name": "stdout",
     "output_type": "stream",
     "text": [
      "Mean Absolute Error: 2141.397193745721\n",
      "Mean Squared Error: 31211410.038908493\n",
      "Root Mean Squared Error: 5586.7172864669365\n"
     ]
    }
   ],
   "source": [
    "from sklearn import metrics\n",
    "import numpy as np\n",
    "print('Mean Absolute Error:', metrics.mean_absolute_error(y_test, y_pred))\n",
    "print('Mean Squared Error:', metrics.mean_squared_error(y_test, y_pred))\n",
    "RMSE= np.sqrt(metrics.mean_squared_error(y_test, y_pred))\n",
    "print('Root Mean Squared Error:',RMSE)"
   ]
  },
  {
   "cell_type": "code",
   "execution_count": 15,
   "metadata": {},
   "outputs": [
    {
     "data": {
      "text/plain": [
       "93169.85699999999"
      ]
     },
     "execution_count": 15,
     "metadata": {},
     "output_type": "execute_result"
    }
   ],
   "source": [
    "y.max()"
   ]
  },
  {
   "cell_type": "code",
   "execution_count": 16,
   "metadata": {},
   "outputs": [
    {
     "data": {
      "text/plain": [
       "783.571"
      ]
     },
     "execution_count": 16,
     "metadata": {},
     "output_type": "execute_result"
    }
   ],
   "source": [
    "y.min()"
   ]
  },
  {
   "cell_type": "code",
   "execution_count": 17,
   "metadata": {},
   "outputs": [
    {
     "name": "stdout",
     "output_type": "stream",
     "text": [
      "0.06047128343774894\n"
     ]
    }
   ],
   "source": [
    "NRMSE=RMSE/(y.max()-y.min())\n",
    "print(NRMSE)"
   ]
  },
  {
   "cell_type": "code",
   "execution_count": null,
   "metadata": {},
   "outputs": [],
   "source": []
  }
 ],
 "metadata": {
  "kernelspec": {
   "display_name": "Python 3",
   "language": "python",
   "name": "python3"
  },
  "language_info": {
   "codemirror_mode": {
    "name": "ipython",
    "version": 3
   },
   "file_extension": ".py",
   "mimetype": "text/x-python",
   "name": "python",
   "nbconvert_exporter": "python",
   "pygments_lexer": "ipython3",
   "version": "3.7.4"
  }
 },
 "nbformat": 4,
 "nbformat_minor": 2
}
