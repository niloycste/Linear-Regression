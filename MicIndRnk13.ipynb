{
 "cells": [
  {
   "cell_type": "code",
   "execution_count": 1,
   "metadata": {},
   "outputs": [],
   "source": [
    "import pandas as pd\n",
    "data_df=pd.read_csv(r\"C:\\Users\\Niloy\\Linear Regression\\MicIndRnk13.csv\",header=None)"
   ]
  },
  {
   "cell_type": "code",
   "execution_count": 2,
   "metadata": {},
   "outputs": [],
   "source": [
    "data_df.columns=['independant A','independant B','independant C','independant D','independant E','independant F','independant G','independant H','independant I','independant J ','independant K','independant L','Dependant M']"
   ]
  },
  {
   "cell_type": "code",
   "execution_count": 3,
   "metadata": {},
   "outputs": [
    {
     "data": {
      "text/html": [
       "<div>\n",
       "<style scoped>\n",
       "    .dataframe tbody tr th:only-of-type {\n",
       "        vertical-align: middle;\n",
       "    }\n",
       "\n",
       "    .dataframe tbody tr th {\n",
       "        vertical-align: top;\n",
       "    }\n",
       "\n",
       "    .dataframe thead th {\n",
       "        text-align: right;\n",
       "    }\n",
       "</style>\n",
       "<table border=\"1\" class=\"dataframe\">\n",
       "  <thead>\n",
       "    <tr style=\"text-align: right;\">\n",
       "      <th></th>\n",
       "      <th>independant A</th>\n",
       "      <th>independant B</th>\n",
       "      <th>independant C</th>\n",
       "      <th>independant D</th>\n",
       "      <th>independant E</th>\n",
       "      <th>independant F</th>\n",
       "      <th>independant G</th>\n",
       "      <th>independant H</th>\n",
       "      <th>independant I</th>\n",
       "      <th>independant J</th>\n",
       "      <th>independant K</th>\n",
       "      <th>independant L</th>\n",
       "      <th>Dependant M</th>\n",
       "    </tr>\n",
       "  </thead>\n",
       "  <tbody>\n",
       "    <tr>\n",
       "      <td>0</td>\n",
       "      <td>272364.462</td>\n",
       "      <td>45172.538</td>\n",
       "      <td>4194.889</td>\n",
       "      <td>4577.000</td>\n",
       "      <td>45714.786</td>\n",
       "      <td>1419.250</td>\n",
       "      <td>30759.625</td>\n",
       "      <td>21.500</td>\n",
       "      <td>25.688</td>\n",
       "      <td>45675.154</td>\n",
       "      <td>3483.462</td>\n",
       "      <td>45335.154</td>\n",
       "      <td>45565.923</td>\n",
       "    </tr>\n",
       "    <tr>\n",
       "      <td>1</td>\n",
       "      <td>248727.538</td>\n",
       "      <td>57535.923</td>\n",
       "      <td>2660.538</td>\n",
       "      <td>6054.643</td>\n",
       "      <td>42316.077</td>\n",
       "      <td>1914.846</td>\n",
       "      <td>39527.500</td>\n",
       "      <td>1012.000</td>\n",
       "      <td>824.692</td>\n",
       "      <td>41046.067</td>\n",
       "      <td>3138.125</td>\n",
       "      <td>41045.933</td>\n",
       "      <td>41008.769</td>\n",
       "    </tr>\n",
       "    <tr>\n",
       "      <td>2</td>\n",
       "      <td>298002.538</td>\n",
       "      <td>56641.538</td>\n",
       "      <td>3330.462</td>\n",
       "      <td>4753.846</td>\n",
       "      <td>56733.263</td>\n",
       "      <td>1914.846</td>\n",
       "      <td>32052.692</td>\n",
       "      <td>481.692</td>\n",
       "      <td>484.385</td>\n",
       "      <td>55824.154</td>\n",
       "      <td>4260.923</td>\n",
       "      <td>56229.154</td>\n",
       "      <td>56336.846</td>\n",
       "    </tr>\n",
       "    <tr>\n",
       "      <td>3</td>\n",
       "      <td>167919.538</td>\n",
       "      <td>38924.231</td>\n",
       "      <td>1607.929</td>\n",
       "      <td>3997.308</td>\n",
       "      <td>23445.462</td>\n",
       "      <td>1202.688</td>\n",
       "      <td>26473.533</td>\n",
       "      <td>682.692</td>\n",
       "      <td>707.000</td>\n",
       "      <td>22888.824</td>\n",
       "      <td>1750.588</td>\n",
       "      <td>22847.895</td>\n",
       "      <td>22895.714</td>\n",
       "    </tr>\n",
       "    <tr>\n",
       "      <td>4</td>\n",
       "      <td>175660.615</td>\n",
       "      <td>40267.923</td>\n",
       "      <td>4597.462</td>\n",
       "      <td>4407.071</td>\n",
       "      <td>22015.231</td>\n",
       "      <td>1202.688</td>\n",
       "      <td>28843.400</td>\n",
       "      <td>745.154</td>\n",
       "      <td>1.500</td>\n",
       "      <td>20978.846</td>\n",
       "      <td>1604.385</td>\n",
       "      <td>20917.308</td>\n",
       "      <td>20616.462</td>\n",
       "    </tr>\n",
       "  </tbody>\n",
       "</table>\n",
       "</div>"
      ],
      "text/plain": [
       "   independant A  independant B  independant C  independant D  independant E  \\\n",
       "0     272364.462      45172.538       4194.889       4577.000      45714.786   \n",
       "1     248727.538      57535.923       2660.538       6054.643      42316.077   \n",
       "2     298002.538      56641.538       3330.462       4753.846      56733.263   \n",
       "3     167919.538      38924.231       1607.929       3997.308      23445.462   \n",
       "4     175660.615      40267.923       4597.462       4407.071      22015.231   \n",
       "\n",
       "   independant F  independant G  independant H  independant I  independant J   \\\n",
       "0       1419.250      30759.625         21.500         25.688       45675.154   \n",
       "1       1914.846      39527.500       1012.000        824.692       41046.067   \n",
       "2       1914.846      32052.692        481.692        484.385       55824.154   \n",
       "3       1202.688      26473.533        682.692        707.000       22888.824   \n",
       "4       1202.688      28843.400        745.154          1.500       20978.846   \n",
       "\n",
       "   independant K  independant L  Dependant M  \n",
       "0       3483.462      45335.154    45565.923  \n",
       "1       3138.125      41045.933    41008.769  \n",
       "2       4260.923      56229.154    56336.846  \n",
       "3       1750.588      22847.895    22895.714  \n",
       "4       1604.385      20917.308    20616.462  "
      ]
     },
     "execution_count": 3,
     "metadata": {},
     "output_type": "execute_result"
    }
   ],
   "source": [
    "data_df.head()\n"
   ]
  },
  {
   "cell_type": "code",
   "execution_count": 4,
   "metadata": {},
   "outputs": [],
   "source": [
    "x=data_df.drop(['Dependant M'],axis=1).values\n",
    "y=data_df['Dependant M'].values"
   ]
  },
  {
   "cell_type": "code",
   "execution_count": 5,
   "metadata": {},
   "outputs": [],
   "source": [
    "from sklearn.model_selection import train_test_split\n",
    "x_train, x_test, y_train, y_test= train_test_split(x,y,test_size=0.07,random_state=0)"
   ]
  },
  {
   "cell_type": "code",
   "execution_count": 6,
   "metadata": {},
   "outputs": [
    {
     "data": {
      "text/plain": [
       "LinearRegression(copy_X=True, fit_intercept=True, n_jobs=None, normalize=False)"
      ]
     },
     "execution_count": 6,
     "metadata": {},
     "output_type": "execute_result"
    }
   ],
   "source": [
    "from sklearn.linear_model import LinearRegression\n",
    "ml=LinearRegression()\n",
    "ml.fit(x_train,y_train)"
   ]
  },
  {
   "cell_type": "code",
   "execution_count": 7,
   "metadata": {},
   "outputs": [
    {
     "name": "stdout",
     "output_type": "stream",
     "text": [
      "[73367.29579651 24899.65932492 54533.79976004 56478.20873625\n",
      " 38275.07802949 16836.56456681 18339.70528431 48897.70771354\n",
      " 16949.52573958 13942.82607559 -1530.81198483 18010.13449387\n",
      " 21134.57245641 31708.88226814 19764.55463945 13656.75579794\n",
      " 50146.89245923 33079.13796369 29741.80196049 64326.03653916\n",
      "  9006.2349137  45372.66411321 51945.97599659 31223.98077844\n",
      " 31199.16046985 60521.68626538 55188.54845436 45258.87118651\n",
      " 26104.53632928 53743.73965802 31669.60412559 29345.34094874\n",
      " 39957.40067155 45872.66846029  9522.40509307  6738.86206295\n",
      " 50257.3689035   5760.79526122 10221.55003207 68399.0301794\n",
      "  9731.72329157 31649.54529664 23166.50835252 48547.11953536\n",
      " 49475.84378663 47718.55245761 31496.60712169 32960.16067478\n",
      " 46805.92204081 43562.38386311 74087.02704142 44019.24573066\n",
      " 65239.84493907 17121.75335986 52715.69132476 10181.08682157\n",
      " 38466.59589827 39819.24634033 25450.43208363 26159.07257665\n",
      " 17635.8704424  31001.37201754 28598.958485     664.63790465\n",
      " 53106.49665236 31456.76406911 29547.28831539 41184.15931089\n",
      " 58445.72311032 83808.40816669 45324.36081505 52666.27153981\n",
      " 84017.83824685 71417.64475663 27353.26424291  2831.96274619]\n"
     ]
    }
   ],
   "source": [
    "y_pred=ml.predict(x_test)\n",
    "print(y_pred)"
   ]
  },
  {
   "cell_type": "code",
   "execution_count": 8,
   "metadata": {},
   "outputs": [
    {
     "data": {
      "text/plain": [
       "array([-1.25079082e-04,  3.09358038e-02,  1.01500867e-01,  1.65179729e-02,\n",
       "       -6.97176540e-02,  6.65289922e-02, -4.06476721e-02,  3.92580528e-02,\n",
       "        8.58674987e-02,  2.02376202e-01, -1.89990419e-01,  8.46909485e-01])"
      ]
     },
     "execution_count": 8,
     "metadata": {},
     "output_type": "execute_result"
    }
   ],
   "source": [
    "ml.coef_\n"
   ]
  },
  {
   "cell_type": "code",
   "execution_count": 9,
   "metadata": {},
   "outputs": [
    {
     "data": {
      "text/plain": [
       "-453.40153597861354"
      ]
     },
     "execution_count": 9,
     "metadata": {},
     "output_type": "execute_result"
    }
   ],
   "source": [
    "ml.intercept_"
   ]
  },
  {
   "cell_type": "code",
   "execution_count": 10,
   "metadata": {},
   "outputs": [
    {
     "data": {
      "text/plain": [
       "0.9290204356420607"
      ]
     },
     "execution_count": 10,
     "metadata": {},
     "output_type": "execute_result"
    }
   ],
   "source": [
    "from sklearn.metrics import r2_score\n",
    "r2_score(y_test,y_pred)\n",
    "    "
   ]
  },
  {
   "cell_type": "code",
   "execution_count": 12,
   "metadata": {},
   "outputs": [
    {
     "data": {
      "text/plain": [
       "Text(0.5, 1.0, 'Actual vs. Predicted')"
      ]
     },
     "execution_count": 12,
     "metadata": {},
     "output_type": "execute_result"
    },
    {
     "data": {
      "image/png": "[encoded data removed]",
      "text/plain": [
       "<Figure size 1080x720 with 1 Axes>"
      ]
     },
     "metadata": {
      "needs_background": "light"
     },
     "output_type": "display_data"
    }
   ],
   "source": [
    "import matplotlib.pyplot as plt\n",
    "plt.figure(figsize=(15,10))\n",
    "plt.scatter(y_test,y_pred)\n",
    "plt.xlabel(\"Actual\")\n",
    "plt.ylabel(\"Predicted\")\n",
    "plt.title(\"Actual vs. Predicted\")"
   ]
  },
  {
   "cell_type": "code",
   "execution_count": 13,
   "metadata": {},
   "outputs": [
    {
     "data": {
      "text/html": [
       "<div>\n",
       "<style scoped>\n",
       "    .dataframe tbody tr th:only-of-type {\n",
       "        vertical-align: middle;\n",
       "    }\n",
       "\n",
       "    .dataframe tbody tr th {\n",
       "        vertical-align: top;\n",
       "    }\n",
       "\n",
       "    .dataframe thead th {\n",
       "        text-align: right;\n",
       "    }\n",
       "</style>\n",
       "<table border=\"1\" class=\"dataframe\">\n",
       "  <thead>\n",
       "    <tr style=\"text-align: right;\">\n",
       "      <th></th>\n",
       "      <th>Actual Value</th>\n",
       "      <th>Predicted Value</th>\n",
       "      <th>Difference</th>\n",
       "    </tr>\n",
       "  </thead>\n",
       "  <tbody>\n",
       "    <tr>\n",
       "      <td>0</td>\n",
       "      <td>75131.133</td>\n",
       "      <td>73367.295797</td>\n",
       "      <td>1763.837203</td>\n",
       "    </tr>\n",
       "    <tr>\n",
       "      <td>1</td>\n",
       "      <td>24987.810</td>\n",
       "      <td>24899.659325</td>\n",
       "      <td>88.150675</td>\n",
       "    </tr>\n",
       "    <tr>\n",
       "      <td>2</td>\n",
       "      <td>56336.846</td>\n",
       "      <td>54533.799760</td>\n",
       "      <td>1803.046240</td>\n",
       "    </tr>\n",
       "    <tr>\n",
       "      <td>3</td>\n",
       "      <td>58167.077</td>\n",
       "      <td>56478.208736</td>\n",
       "      <td>1688.868264</td>\n",
       "    </tr>\n",
       "    <tr>\n",
       "      <td>4</td>\n",
       "      <td>37099.923</td>\n",
       "      <td>38275.078029</td>\n",
       "      <td>-1175.155029</td>\n",
       "    </tr>\n",
       "    <tr>\n",
       "      <td>...</td>\n",
       "      <td>...</td>\n",
       "      <td>...</td>\n",
       "      <td>...</td>\n",
       "    </tr>\n",
       "    <tr>\n",
       "      <td>71</td>\n",
       "      <td>53791.846</td>\n",
       "      <td>52666.271540</td>\n",
       "      <td>1125.574460</td>\n",
       "    </tr>\n",
       "    <tr>\n",
       "      <td>72</td>\n",
       "      <td>85357.143</td>\n",
       "      <td>84017.838247</td>\n",
       "      <td>1339.304753</td>\n",
       "    </tr>\n",
       "    <tr>\n",
       "      <td>73</td>\n",
       "      <td>72791.692</td>\n",
       "      <td>71417.644757</td>\n",
       "      <td>1374.047243</td>\n",
       "    </tr>\n",
       "    <tr>\n",
       "      <td>74</td>\n",
       "      <td>28000.000</td>\n",
       "      <td>27353.264243</td>\n",
       "      <td>646.735757</td>\n",
       "    </tr>\n",
       "    <tr>\n",
       "      <td>75</td>\n",
       "      <td>3347.308</td>\n",
       "      <td>2831.962746</td>\n",
       "      <td>515.345254</td>\n",
       "    </tr>\n",
       "  </tbody>\n",
       "</table>\n",
       "<p>76 rows × 3 columns</p>\n",
       "</div>"
      ],
      "text/plain": [
       "    Actual Value  Predicted Value   Difference\n",
       "0      75131.133     73367.295797  1763.837203\n",
       "1      24987.810     24899.659325    88.150675\n",
       "2      56336.846     54533.799760  1803.046240\n",
       "3      58167.077     56478.208736  1688.868264\n",
       "4      37099.923     38275.078029 -1175.155029\n",
       "..           ...              ...          ...\n",
       "71     53791.846     52666.271540  1125.574460\n",
       "72     85357.143     84017.838247  1339.304753\n",
       "73     72791.692     71417.644757  1374.047243\n",
       "74     28000.000     27353.264243   646.735757\n",
       "75      3347.308      2831.962746   515.345254\n",
       "\n",
       "[76 rows x 3 columns]"
      ]
     },
     "execution_count": 13,
     "metadata": {},
     "output_type": "execute_result"
    }
   ],
   "source": [
    "pred_y_df=pd.DataFrame({\"Actual Value\":y_test,\"Predicted Value\":y_pred,\"Difference\":y_test-y_pred})\n",
    "pred_y_df[0:76]"
   ]
  },
  {
   "cell_type": "code",
   "execution_count": 14,
   "metadata": {},
   "outputs": [
    {
     "name": "stdout",
     "output_type": "stream",
     "text": [
      "Mean Absolute Error: 2155.1774125314014\n",
      "Mean Squared Error: 30646312.780872714\n",
      "Root Mean Squared Error: 5535.911196982183\n"
     ]
    }
   ],
   "source": [
    "from sklearn import metrics\n",
    "import numpy as np\n",
    "print('Mean Absolute Error:', metrics.mean_absolute_error(y_test, y_pred))\n",
    "print('Mean Squared Error:', metrics.mean_squared_error(y_test, y_pred))\n",
    "RMSE= np.sqrt(metrics.mean_squared_error(y_test, y_pred))\n",
    "print('Root Mean Squared Error:',RMSE)"
   ]
  },
  {
   "cell_type": "code",
   "execution_count": 15,
   "metadata": {},
   "outputs": [
    {
     "data": {
      "text/plain": [
       "91553.0"
      ]
     },
     "execution_count": 15,
     "metadata": {},
     "output_type": "execute_result"
    }
   ],
   "source": [
    "y.max()"
   ]
  },
  {
   "cell_type": "code",
   "execution_count": 16,
   "metadata": {},
   "outputs": [
    {
     "data": {
      "text/plain": [
       "1384.3329999999999"
      ]
     },
     "execution_count": 16,
     "metadata": {},
     "output_type": "execute_result"
    }
   ],
   "source": [
    "y.min()"
   ]
  },
  {
   "cell_type": "code",
   "execution_count": 17,
   "metadata": {},
   "outputs": [
    {
     "name": "stdout",
     "output_type": "stream",
     "text": [
      "0.06139506528340031\n"
     ]
    }
   ],
   "source": [
    "NRMSE=RMSE/(y.max()-y.min())\n",
    "print(NRMSE)"
   ]
  },
  {
   "cell_type": "code",
   "execution_count": null,
   "metadata": {},
   "outputs": [],
   "source": []
  }
 ],
 "metadata": {
  "kernelspec": {
   "display_name": "Python 3",
   "language": "python",
   "name": "python3"
  },
  "language_info": {
   "codemirror_mode": {
    "name": "ipython",
    "version": 3
   },
   "file_extension": ".py",
   "mimetype": "text/x-python",
   "name": "python",
   "nbconvert_exporter": "python",
   "pygments_lexer": "ipython3",
   "version": "3.7.4"
  }
 },
 "nbformat": 4,
 "nbformat_minor": 2
}
