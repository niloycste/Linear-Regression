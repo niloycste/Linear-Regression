{
 "cells": [
  {
   "cell_type": "code",
   "execution_count": 1,
   "metadata": {},
   "outputs": [],
   "source": [
    "import pandas as pd\n",
    "data_df=pd.read_csv(r\"C:\\Users\\Niloy\\Linear Regression\\MicIndRnk12.csv\",header=None)"
   ]
  },
  {
   "cell_type": "code",
   "execution_count": 2,
   "metadata": {},
   "outputs": [],
   "source": [
    "data_df.columns=['independant A','independant B','independant C','independant D','independant E','independant F','independant G','independant H','independant I','independant J ','independant K','independant L','Dependant M']"
   ]
  },
  {
   "cell_type": "code",
   "execution_count": 3,
   "metadata": {},
   "outputs": [
    {
     "data": {
      "text/html": [
       "<div>\n",
       "<style scoped>\n",
       "    .dataframe tbody tr th:only-of-type {\n",
       "        vertical-align: middle;\n",
       "    }\n",
       "\n",
       "    .dataframe tbody tr th {\n",
       "        vertical-align: top;\n",
       "    }\n",
       "\n",
       "    .dataframe thead th {\n",
       "        text-align: right;\n",
       "    }\n",
       "</style>\n",
       "<table border=\"1\" class=\"dataframe\">\n",
       "  <thead>\n",
       "    <tr style=\"text-align: right;\">\n",
       "      <th></th>\n",
       "      <th>independant A</th>\n",
       "      <th>independant B</th>\n",
       "      <th>independant C</th>\n",
       "      <th>independant D</th>\n",
       "      <th>independant E</th>\n",
       "      <th>independant F</th>\n",
       "      <th>independant G</th>\n",
       "      <th>independant H</th>\n",
       "      <th>independant I</th>\n",
       "      <th>independant J</th>\n",
       "      <th>independant K</th>\n",
       "      <th>independant L</th>\n",
       "      <th>Dependant M</th>\n",
       "    </tr>\n",
       "  </thead>\n",
       "  <tbody>\n",
       "    <tr>\n",
       "      <td>0</td>\n",
       "      <td>269543.750</td>\n",
       "      <td>45038.167</td>\n",
       "      <td>4182.083</td>\n",
       "      <td>4624.500</td>\n",
       "      <td>45565.769</td>\n",
       "      <td>1443.250</td>\n",
       "      <td>30920.583</td>\n",
       "      <td>33.077</td>\n",
       "      <td>25.647</td>\n",
       "      <td>45731.417</td>\n",
       "      <td>3486.917</td>\n",
       "      <td>45446.417</td>\n",
       "      <td>45613.083</td>\n",
       "    </tr>\n",
       "    <tr>\n",
       "      <td>1</td>\n",
       "      <td>252644.583</td>\n",
       "      <td>57477.750</td>\n",
       "      <td>2618.667</td>\n",
       "      <td>5991.917</td>\n",
       "      <td>42316.077</td>\n",
       "      <td>1909.857</td>\n",
       "      <td>39508.471</td>\n",
       "      <td>1006.375</td>\n",
       "      <td>803.889</td>\n",
       "      <td>41046.067</td>\n",
       "      <td>3138.125</td>\n",
       "      <td>41045.933</td>\n",
       "      <td>41057.417</td>\n",
       "    </tr>\n",
       "    <tr>\n",
       "      <td>2</td>\n",
       "      <td>299415.167</td>\n",
       "      <td>56682.500</td>\n",
       "      <td>3342.583</td>\n",
       "      <td>4790.333</td>\n",
       "      <td>56433.500</td>\n",
       "      <td>1909.857</td>\n",
       "      <td>32118.167</td>\n",
       "      <td>479.333</td>\n",
       "      <td>483.083</td>\n",
       "      <td>56005.333</td>\n",
       "      <td>4275.583</td>\n",
       "      <td>56028.750</td>\n",
       "      <td>56417.917</td>\n",
       "    </tr>\n",
       "    <tr>\n",
       "      <td>3</td>\n",
       "      <td>166374.333</td>\n",
       "      <td>39099.333</td>\n",
       "      <td>1604.750</td>\n",
       "      <td>3949.500</td>\n",
       "      <td>23591.083</td>\n",
       "      <td>1193.083</td>\n",
       "      <td>26410.692</td>\n",
       "      <td>675.647</td>\n",
       "      <td>705.000</td>\n",
       "      <td>22888.824</td>\n",
       "      <td>1750.588</td>\n",
       "      <td>22847.895</td>\n",
       "      <td>22895.714</td>\n",
       "    </tr>\n",
       "    <tr>\n",
       "      <td>4</td>\n",
       "      <td>176323.250</td>\n",
       "      <td>40324.750</td>\n",
       "      <td>4605.417</td>\n",
       "      <td>4298.833</td>\n",
       "      <td>21766.500</td>\n",
       "      <td>1232.385</td>\n",
       "      <td>29415.333</td>\n",
       "      <td>745.154</td>\n",
       "      <td>1.500</td>\n",
       "      <td>20910.417</td>\n",
       "      <td>1599.167</td>\n",
       "      <td>20964.667</td>\n",
       "      <td>20667.833</td>\n",
       "    </tr>\n",
       "  </tbody>\n",
       "</table>\n",
       "</div>"
      ],
      "text/plain": [
       "   independant A  independant B  independant C  independant D  independant E  \\\n",
       "0     269543.750      45038.167       4182.083       4624.500      45565.769   \n",
       "1     252644.583      57477.750       2618.667       5991.917      42316.077   \n",
       "2     299415.167      56682.500       3342.583       4790.333      56433.500   \n",
       "3     166374.333      39099.333       1604.750       3949.500      23591.083   \n",
       "4     176323.250      40324.750       4605.417       4298.833      21766.500   \n",
       "\n",
       "   independant F  independant G  independant H  independant I  independant J   \\\n",
       "0       1443.250      30920.583         33.077         25.647       45731.417   \n",
       "1       1909.857      39508.471       1006.375        803.889       41046.067   \n",
       "2       1909.857      32118.167        479.333        483.083       56005.333   \n",
       "3       1193.083      26410.692        675.647        705.000       22888.824   \n",
       "4       1232.385      29415.333        745.154          1.500       20910.417   \n",
       "\n",
       "   independant K  independant L  Dependant M  \n",
       "0       3486.917      45446.417    45613.083  \n",
       "1       3138.125      41045.933    41057.417  \n",
       "2       4275.583      56028.750    56417.917  \n",
       "3       1750.588      22847.895    22895.714  \n",
       "4       1599.167      20964.667    20667.833  "
      ]
     },
     "execution_count": 3,
     "metadata": {},
     "output_type": "execute_result"
    }
   ],
   "source": [
    "data_df.head()\n"
   ]
  },
  {
   "cell_type": "code",
   "execution_count": 4,
   "metadata": {},
   "outputs": [],
   "source": [
    "x=data_df.drop(['Dependant M'],axis=1).values\n",
    "y=data_df['Dependant M'].values"
   ]
  },
  {
   "cell_type": "code",
   "execution_count": 5,
   "metadata": {},
   "outputs": [],
   "source": [
    "from sklearn.model_selection import train_test_split\n",
    "x_train, x_test, y_train, y_test= train_test_split(x,y,test_size=0.07,random_state=0)"
   ]
  },
  {
   "cell_type": "code",
   "execution_count": 6,
   "metadata": {},
   "outputs": [
    {
     "data": {
      "text/plain": [
       "LinearRegression(copy_X=True, fit_intercept=True, n_jobs=None, normalize=False)"
      ]
     },
     "execution_count": 6,
     "metadata": {},
     "output_type": "execute_result"
    }
   ],
   "source": [
    "from sklearn.linear_model import LinearRegression\n",
    "ml=LinearRegression()\n",
    "ml.fit(x_train,y_train)"
   ]
  },
  {
   "cell_type": "code",
   "execution_count": 7,
   "metadata": {},
   "outputs": [
    {
     "name": "stdout",
     "output_type": "stream",
     "text": [
      "[72842.56367069 24695.71403432 54377.94624773 57833.30850088\n",
      " 38483.90359513 15923.05443302 18247.14475069 48908.44798369\n",
      " 17016.12995643 14120.43824038  1622.32877077 18024.79763224\n",
      " 21201.13072218 31732.75721816 19585.16595255 13785.93705399\n",
      " 50261.00675691 33086.21579567 29763.3109453  64090.8981301\n",
      "  8475.34577474 45497.87500616 52204.88297568 31227.76297332\n",
      " 31141.64732254 60556.36517707 54961.495681   45313.32371908\n",
      " 26163.91334059 53693.13228841 31656.96371342 29149.8857957\n",
      " 39873.1101688  45828.70459261  8815.29515797  7168.45497417\n",
      " 50296.4737437   5356.35925382 11028.5487397  68379.23493695\n",
      " 10408.38831095 31728.98610889 23068.56441954 48657.48627417\n",
      " 49610.39101198 47859.07188494 31443.06339105 33377.13784143\n",
      " 46839.99539323 43580.07488164 72974.19986845 44076.97966372\n",
      " 62604.81311589 17138.27882059 52925.30156641  9669.8424619\n",
      " 38436.14987069 39890.37923485 25416.74374739 25289.66340538\n",
      " 17568.86732325 31034.49630383 28499.809251     876.68937133\n",
      " 53310.58057336 31425.06248659 29474.98867734 41303.41418929\n",
      " 58231.91853182 84376.36698487 45362.59414233 52621.9649364\n",
      " 80542.78807204 71030.73526453 27201.88901954  2637.87317124]\n"
     ]
    }
   ],
   "source": [
    "y_pred=ml.predict(x_test)\n",
    "print(y_pred)"
   ]
  },
  {
   "cell_type": "code",
   "execution_count": 8,
   "metadata": {},
   "outputs": [
    {
     "data": {
      "text/plain": [
       "array([-1.06462713e-04,  3.17676113e-02,  8.20342402e-02, -3.47207189e-02,\n",
       "        7.27522261e-03,  9.04023073e-02, -3.30453679e-02, -2.51973010e-02,\n",
       "        7.20878767e-02,  1.01341376e-01,  3.74345470e-02,  8.58703274e-01])"
      ]
     },
     "execution_count": 8,
     "metadata": {},
     "output_type": "execute_result"
    }
   ],
   "source": [
    "ml.coef_\n"
   ]
  },
  {
   "cell_type": "code",
   "execution_count": 9,
   "metadata": {},
   "outputs": [
    {
     "data": {
      "text/plain": [
       "-646.3824185511257"
      ]
     },
     "execution_count": 9,
     "metadata": {},
     "output_type": "execute_result"
    }
   ],
   "source": [
    "ml.intercept_"
   ]
  },
  {
   "cell_type": "code",
   "execution_count": 10,
   "metadata": {},
   "outputs": [
    {
     "data": {
      "text/plain": [
       "0.9292952827765883"
      ]
     },
     "execution_count": 10,
     "metadata": {},
     "output_type": "execute_result"
    }
   ],
   "source": [
    "from sklearn.metrics import r2_score\n",
    "r2_score(y_test,y_pred)\n",
    "    "
   ]
  },
  {
   "cell_type": "code",
   "execution_count": 12,
   "metadata": {},
   "outputs": [
    {
     "data": {
      "text/plain": [
       "Text(0.5, 1.0, 'Actual vs. Predicted')"
      ]
     },
     "execution_count": 12,
     "metadata": {},
     "output_type": "execute_result"
    },
    {
     "data": {
      "image/png": "[encoded data removed]",
      "text/plain": [
       "<Figure size 1080x720 with 1 Axes>"
      ]
     },
     "metadata": {
      "needs_background": "light"
     },
     "output_type": "display_data"
    }
   ],
   "source": [
    "import matplotlib.pyplot as plt\n",
    "plt.figure(figsize=(15,10))\n",
    "plt.scatter(y_test,y_pred)\n",
    "plt.xlabel(\"Actual\")\n",
    "plt.ylabel(\"Predicted\")\n",
    "plt.title(\"Actual vs. Predicted\")"
   ]
  },
  {
   "cell_type": "code",
   "execution_count": 13,
   "metadata": {},
   "outputs": [
    {
     "data": {
      "text/html": [
       "<div>\n",
       "<style scoped>\n",
       "    .dataframe tbody tr th:only-of-type {\n",
       "        vertical-align: middle;\n",
       "    }\n",
       "\n",
       "    .dataframe tbody tr th {\n",
       "        vertical-align: top;\n",
       "    }\n",
       "\n",
       "    .dataframe thead th {\n",
       "        text-align: right;\n",
       "    }\n",
       "</style>\n",
       "<table border=\"1\" class=\"dataframe\">\n",
       "  <thead>\n",
       "    <tr style=\"text-align: right;\">\n",
       "      <th></th>\n",
       "      <th>Actual Value</th>\n",
       "      <th>Predicted Value</th>\n",
       "      <th>Difference</th>\n",
       "    </tr>\n",
       "  </thead>\n",
       "  <tbody>\n",
       "    <tr>\n",
       "      <td>0</td>\n",
       "      <td>75060.438</td>\n",
       "      <td>72842.563671</td>\n",
       "      <td>2217.874329</td>\n",
       "    </tr>\n",
       "    <tr>\n",
       "      <td>1</td>\n",
       "      <td>24988.364</td>\n",
       "      <td>24695.714034</td>\n",
       "      <td>292.649966</td>\n",
       "    </tr>\n",
       "    <tr>\n",
       "      <td>2</td>\n",
       "      <td>56417.917</td>\n",
       "      <td>54377.946248</td>\n",
       "      <td>2039.970752</td>\n",
       "    </tr>\n",
       "    <tr>\n",
       "      <td>3</td>\n",
       "      <td>58167.077</td>\n",
       "      <td>57833.308501</td>\n",
       "      <td>333.768499</td>\n",
       "    </tr>\n",
       "    <tr>\n",
       "      <td>4</td>\n",
       "      <td>37024.917</td>\n",
       "      <td>38483.903595</td>\n",
       "      <td>-1458.986595</td>\n",
       "    </tr>\n",
       "    <tr>\n",
       "      <td>...</td>\n",
       "      <td>...</td>\n",
       "      <td>...</td>\n",
       "      <td>...</td>\n",
       "    </tr>\n",
       "    <tr>\n",
       "      <td>71</td>\n",
       "      <td>53857.833</td>\n",
       "      <td>52621.964936</td>\n",
       "      <td>1235.868064</td>\n",
       "    </tr>\n",
       "    <tr>\n",
       "      <td>72</td>\n",
       "      <td>85357.143</td>\n",
       "      <td>80542.788072</td>\n",
       "      <td>4814.354928</td>\n",
       "    </tr>\n",
       "    <tr>\n",
       "      <td>73</td>\n",
       "      <td>72691.000</td>\n",
       "      <td>71030.735265</td>\n",
       "      <td>1660.264735</td>\n",
       "    </tr>\n",
       "    <tr>\n",
       "      <td>74</td>\n",
       "      <td>28000.000</td>\n",
       "      <td>27201.889020</td>\n",
       "      <td>798.110980</td>\n",
       "    </tr>\n",
       "    <tr>\n",
       "      <td>75</td>\n",
       "      <td>2771.917</td>\n",
       "      <td>2637.873171</td>\n",
       "      <td>134.043829</td>\n",
       "    </tr>\n",
       "  </tbody>\n",
       "</table>\n",
       "<p>76 rows × 3 columns</p>\n",
       "</div>"
      ],
      "text/plain": [
       "    Actual Value  Predicted Value   Difference\n",
       "0      75060.438     72842.563671  2217.874329\n",
       "1      24988.364     24695.714034   292.649966\n",
       "2      56417.917     54377.946248  2039.970752\n",
       "3      58167.077     57833.308501   333.768499\n",
       "4      37024.917     38483.903595 -1458.986595\n",
       "..           ...              ...          ...\n",
       "71     53857.833     52621.964936  1235.868064\n",
       "72     85357.143     80542.788072  4814.354928\n",
       "73     72691.000     71030.735265  1660.264735\n",
       "74     28000.000     27201.889020   798.110980\n",
       "75      2771.917      2637.873171   134.043829\n",
       "\n",
       "[76 rows x 3 columns]"
      ]
     },
     "execution_count": 13,
     "metadata": {},
     "output_type": "execute_result"
    }
   ],
   "source": [
    "pred_y_df=pd.DataFrame({\"Actual Value\":y_test,\"Predicted Value\":y_pred,\"Difference\":y_test-y_pred})\n",
    "pred_y_df[0:76]"
   ]
  },
  {
   "cell_type": "code",
   "execution_count": 14,
   "metadata": {},
   "outputs": [
    {
     "name": "stdout",
     "output_type": "stream",
     "text": [
      "Mean Absolute Error: 2149.8315418772186\n",
      "Mean Squared Error: 30429488.181884557\n",
      "Root Mean Squared Error: 5516.292974623861\n"
     ]
    }
   ],
   "source": [
    "from sklearn import metrics\n",
    "import numpy as np\n",
    "print('Mean Absolute Error:', metrics.mean_absolute_error(y_test, y_pred))\n",
    "print('Mean Squared Error:', metrics.mean_squared_error(y_test, y_pred))\n",
    "RMSE= np.sqrt(metrics.mean_squared_error(y_test, y_pred))\n",
    "print('Root Mean Squared Error:',RMSE)"
   ]
  },
  {
   "cell_type": "code",
   "execution_count": 15,
   "metadata": {},
   "outputs": [
    {
     "data": {
      "text/plain": [
       "91553.0"
      ]
     },
     "execution_count": 15,
     "metadata": {},
     "output_type": "execute_result"
    }
   ],
   "source": [
    "y.max()"
   ]
  },
  {
   "cell_type": "code",
   "execution_count": 16,
   "metadata": {},
   "outputs": [
    {
     "data": {
      "text/plain": [
       "1224.75"
      ]
     },
     "execution_count": 16,
     "metadata": {},
     "output_type": "execute_result"
    }
   ],
   "source": [
    "y.min()"
   ]
  },
  {
   "cell_type": "code",
   "execution_count": 17,
   "metadata": {},
   "outputs": [
    {
     "name": "stdout",
     "output_type": "stream",
     "text": [
      "0.06106941045159029\n"
     ]
    }
   ],
   "source": [
    "NRMSE=RMSE/(y.max()-y.min())\n",
    "print(NRMSE)"
   ]
  },
  {
   "cell_type": "code",
   "execution_count": null,
   "metadata": {},
   "outputs": [],
   "source": []
  }
 ],
 "metadata": {
  "kernelspec": {
   "display_name": "Python 3",
   "language": "python",
   "name": "python3"
  },
  "language_info": {
   "codemirror_mode": {
    "name": "ipython",
    "version": 3
   },
   "file_extension": ".py",
   "mimetype": "text/x-python",
   "name": "python",
   "nbconvert_exporter": "python",
   "pygments_lexer": "ipython3",
   "version": "3.7.4"
  }
 },
 "nbformat": 4,
 "nbformat_minor": 2
}
