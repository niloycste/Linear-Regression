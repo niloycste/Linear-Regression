{
 "cells": [
  {
   "cell_type": "code",
   "execution_count": 1,
   "metadata": {},
   "outputs": [],
   "source": [
    "import pandas as pd\n",
    "data_df=pd.read_csv(r\"C:\\Users\\Niloy\\Linear Regression\\MicIndRnk8.csv\",header=None)"
   ]
  },
  {
   "cell_type": "code",
   "execution_count": 2,
   "metadata": {},
   "outputs": [],
   "source": [
    "data_df.columns=['independant A','independant B','independant C','independant D','independant E','independant F','independant G','independant H','independant I','independant J ','independant K','independant L','Dependant M']"
   ]
  },
  {
   "cell_type": "code",
   "execution_count": 3,
   "metadata": {},
   "outputs": [
    {
     "data": {
      "text/html": [
       "<div>\n",
       "<style scoped>\n",
       "    .dataframe tbody tr th:only-of-type {\n",
       "        vertical-align: middle;\n",
       "    }\n",
       "\n",
       "    .dataframe tbody tr th {\n",
       "        vertical-align: top;\n",
       "    }\n",
       "\n",
       "    .dataframe thead th {\n",
       "        text-align: right;\n",
       "    }\n",
       "</style>\n",
       "<table border=\"1\" class=\"dataframe\">\n",
       "  <thead>\n",
       "    <tr style=\"text-align: right;\">\n",
       "      <th></th>\n",
       "      <th>independant A</th>\n",
       "      <th>independant B</th>\n",
       "      <th>independant C</th>\n",
       "      <th>independant D</th>\n",
       "      <th>independant E</th>\n",
       "      <th>independant F</th>\n",
       "      <th>independant G</th>\n",
       "      <th>independant H</th>\n",
       "      <th>independant I</th>\n",
       "      <th>independant J</th>\n",
       "      <th>independant K</th>\n",
       "      <th>independant L</th>\n",
       "      <th>Dependant M</th>\n",
       "    </tr>\n",
       "  </thead>\n",
       "  <tbody>\n",
       "    <tr>\n",
       "      <td>0</td>\n",
       "      <td>270059.250</td>\n",
       "      <td>45289.250</td>\n",
       "      <td>4179.875</td>\n",
       "      <td>4609.500</td>\n",
       "      <td>45270.625</td>\n",
       "      <td>1422.375</td>\n",
       "      <td>31032.375</td>\n",
       "      <td>29.000</td>\n",
       "      <td>27.625</td>\n",
       "      <td>45845.700</td>\n",
       "      <td>3501.000</td>\n",
       "      <td>45782.125</td>\n",
       "      <td>45806.333</td>\n",
       "    </tr>\n",
       "    <tr>\n",
       "      <td>1</td>\n",
       "      <td>251905.800</td>\n",
       "      <td>57640.500</td>\n",
       "      <td>2633.875</td>\n",
       "      <td>6030.875</td>\n",
       "      <td>42176.125</td>\n",
       "      <td>1896.444</td>\n",
       "      <td>39112.500</td>\n",
       "      <td>1005.375</td>\n",
       "      <td>808.000</td>\n",
       "      <td>41046.067</td>\n",
       "      <td>3143.625</td>\n",
       "      <td>41045.933</td>\n",
       "      <td>41057.417</td>\n",
       "    </tr>\n",
       "    <tr>\n",
       "      <td>2</td>\n",
       "      <td>301443.000</td>\n",
       "      <td>56571.375</td>\n",
       "      <td>3298.750</td>\n",
       "      <td>4739.875</td>\n",
       "      <td>56538.375</td>\n",
       "      <td>1896.444</td>\n",
       "      <td>32051.300</td>\n",
       "      <td>469.250</td>\n",
       "      <td>484.909</td>\n",
       "      <td>56576.875</td>\n",
       "      <td>4288.750</td>\n",
       "      <td>55826.750</td>\n",
       "      <td>56417.917</td>\n",
       "    </tr>\n",
       "    <tr>\n",
       "      <td>3</td>\n",
       "      <td>167958.375</td>\n",
       "      <td>39016.000</td>\n",
       "      <td>1627.750</td>\n",
       "      <td>3932.000</td>\n",
       "      <td>23469.778</td>\n",
       "      <td>1159.500</td>\n",
       "      <td>26164.000</td>\n",
       "      <td>692.625</td>\n",
       "      <td>696.750</td>\n",
       "      <td>22763.750</td>\n",
       "      <td>1741.125</td>\n",
       "      <td>22638.750</td>\n",
       "      <td>22726.250</td>\n",
       "    </tr>\n",
       "    <tr>\n",
       "      <td>4</td>\n",
       "      <td>176058.125</td>\n",
       "      <td>40606.875</td>\n",
       "      <td>4612.000</td>\n",
       "      <td>4391.750</td>\n",
       "      <td>21726.875</td>\n",
       "      <td>1224.100</td>\n",
       "      <td>29213.091</td>\n",
       "      <td>745.154</td>\n",
       "      <td>1.125</td>\n",
       "      <td>20962.778</td>\n",
       "      <td>1603.222</td>\n",
       "      <td>20966.500</td>\n",
       "      <td>20958.125</td>\n",
       "    </tr>\n",
       "  </tbody>\n",
       "</table>\n",
       "</div>"
      ],
      "text/plain": [
       "   independant A  independant B  independant C  independant D  independant E  \\\n",
       "0     270059.250      45289.250       4179.875       4609.500      45270.625   \n",
       "1     251905.800      57640.500       2633.875       6030.875      42176.125   \n",
       "2     301443.000      56571.375       3298.750       4739.875      56538.375   \n",
       "3     167958.375      39016.000       1627.750       3932.000      23469.778   \n",
       "4     176058.125      40606.875       4612.000       4391.750      21726.875   \n",
       "\n",
       "   independant F  independant G  independant H  independant I  independant J   \\\n",
       "0       1422.375      31032.375         29.000         27.625       45845.700   \n",
       "1       1896.444      39112.500       1005.375        808.000       41046.067   \n",
       "2       1896.444      32051.300        469.250        484.909       56576.875   \n",
       "3       1159.500      26164.000        692.625        696.750       22763.750   \n",
       "4       1224.100      29213.091        745.154          1.125       20962.778   \n",
       "\n",
       "   independant K  independant L  Dependant M  \n",
       "0       3501.000      45782.125    45806.333  \n",
       "1       3143.625      41045.933    41057.417  \n",
       "2       4288.750      55826.750    56417.917  \n",
       "3       1741.125      22638.750    22726.250  \n",
       "4       1603.222      20966.500    20958.125  "
      ]
     },
     "execution_count": 3,
     "metadata": {},
     "output_type": "execute_result"
    }
   ],
   "source": [
    "data_df.head()\n"
   ]
  },
  {
   "cell_type": "code",
   "execution_count": 4,
   "metadata": {},
   "outputs": [],
   "source": [
    "x=data_df.drop(['Dependant M'],axis=1).values\n",
    "y=data_df['Dependant M'].values"
   ]
  },
  {
   "cell_type": "code",
   "execution_count": 5,
   "metadata": {},
   "outputs": [],
   "source": [
    "from sklearn.model_selection import train_test_split\n",
    "x_train, x_test, y_train, y_test= train_test_split(x,y,test_size=0.07,random_state=0)"
   ]
  },
  {
   "cell_type": "code",
   "execution_count": 6,
   "metadata": {},
   "outputs": [
    {
     "data": {
      "text/plain": [
       "LinearRegression(copy_X=True, fit_intercept=True, n_jobs=None, normalize=False)"
      ]
     },
     "execution_count": 6,
     "metadata": {},
     "output_type": "execute_result"
    }
   ],
   "source": [
    "from sklearn.linear_model import LinearRegression\n",
    "ml=LinearRegression()\n",
    "ml.fit(x_train,y_train)"
   ]
  },
  {
   "cell_type": "code",
   "execution_count": 7,
   "metadata": {},
   "outputs": [
    {
     "name": "stdout",
     "output_type": "stream",
     "text": [
      "[73388.33894996 24722.6966473  54392.68313921 57829.57844272\n",
      " 38801.5733248  16980.20474335 18404.9642925  49050.02088378\n",
      " 17383.20867435 14107.258499     616.56217808 18144.12187637\n",
      " 21213.55226302 31658.04158999 19826.25276994 13893.85974411\n",
      " 50342.64178925 33094.45655788 29670.25979309 64041.00672153\n",
      "  8491.18858525 45496.98966937 52417.95094998 31297.39179237\n",
      " 31171.66984124 60420.08975783 55504.00941464 45387.83289098\n",
      " 26797.290514   53765.81831292 31731.96517553 29858.87884811\n",
      " 39996.24631333 45997.37757283  9097.33180566  6457.25291672\n",
      " 50372.03952177  6011.86920258 10322.36464095 68185.87073302\n",
      " 10283.32393793 31908.76618913 23074.14835334 48545.32405053\n",
      " 49618.54938301 47793.0854386  31327.6253337  33360.78349029\n",
      " 46979.32045489 43625.55469165 72544.31059278 44122.45663204\n",
      " 63020.97920655 17077.47967865 52956.22429791 10236.16620226\n",
      " 38361.36738779 39786.36244507 25457.97253812 25155.77372066\n",
      " 17475.00143259 31096.90677209 28584.4951798    226.19685456\n",
      " 53186.69595127 31518.20590764 29299.45627249 41369.66320618\n",
      " 58666.27220811 83352.60311641 45512.54204565 52549.08477947\n",
      " 83028.24461203 71827.15191224 27141.18264057  2083.35929252]\n"
     ]
    }
   ],
   "source": [
    "y_pred=ml.predict(x_test)\n",
    "print(y_pred)"
   ]
  },
  {
   "cell_type": "code",
   "execution_count": 8,
   "metadata": {},
   "outputs": [
    {
     "data": {
      "text/plain": [
       "array([-1.02969760e-04,  2.83319362e-02,  1.14649327e-01,  6.44781938e-02,\n",
       "       -4.28423560e-02,  9.61432492e-02, -5.04858990e-02,  1.84628332e-02,\n",
       "        6.05523366e-02,  1.41428396e-01,  1.81753691e-01,  8.56500857e-01])"
      ]
     },
     "execution_count": 8,
     "metadata": {},
     "output_type": "execute_result"
    }
   ],
   "source": [
    "ml.coef_"
   ]
  },
  {
   "cell_type": "code",
   "execution_count": 9,
   "metadata": {},
   "outputs": [
    {
     "data": {
      "text/plain": [
       "-512.1837968777618"
      ]
     },
     "execution_count": 9,
     "metadata": {},
     "output_type": "execute_result"
    }
   ],
   "source": [
    "ml.intercept_"
   ]
  },
  {
   "cell_type": "code",
   "execution_count": 10,
   "metadata": {},
   "outputs": [
    {
     "data": {
      "text/plain": [
       "0.9285827158204818"
      ]
     },
     "execution_count": 10,
     "metadata": {},
     "output_type": "execute_result"
    }
   ],
   "source": [
    "from sklearn.metrics import r2_score\n",
    "r2_score(y_test,y_pred)\n",
    "    "
   ]
  },
  {
   "cell_type": "code",
   "execution_count": 12,
   "metadata": {},
   "outputs": [
    {
     "data": {
      "text/plain": [
       "Text(0.5, 1.0, 'Actual vs. Predicted')"
      ]
     },
     "execution_count": 12,
     "metadata": {},
     "output_type": "execute_result"
    },
    {
     "data": {
      "image/png": "[encoded data removed]",
      "text/plain": [
       "<Figure size 1080x720 with 1 Axes>"
      ]
     },
     "metadata": {
      "needs_background": "light"
     },
     "output_type": "display_data"
    }
   ],
   "source": [
    "import matplotlib.pyplot as plt\n",
    "plt.figure(figsize=(15,10))\n",
    "plt.scatter(y_test,y_pred)\n",
    "plt.xlabel(\"Actual\")\n",
    "plt.ylabel(\"Predicted\")\n",
    "plt.title(\"Actual vs. Predicted\")"
   ]
  },
  {
   "cell_type": "code",
   "execution_count": 13,
   "metadata": {},
   "outputs": [
    {
     "data": {
      "text/html": [
       "<div>\n",
       "<style scoped>\n",
       "    .dataframe tbody tr th:only-of-type {\n",
       "        vertical-align: middle;\n",
       "    }\n",
       "\n",
       "    .dataframe tbody tr th {\n",
       "        vertical-align: top;\n",
       "    }\n",
       "\n",
       "    .dataframe thead th {\n",
       "        text-align: right;\n",
       "    }\n",
       "</style>\n",
       "<table border=\"1\" class=\"dataframe\">\n",
       "  <thead>\n",
       "    <tr style=\"text-align: right;\">\n",
       "      <th></th>\n",
       "      <th>Actual Value</th>\n",
       "      <th>Predicted Value</th>\n",
       "      <th>Difference</th>\n",
       "    </tr>\n",
       "  </thead>\n",
       "  <tbody>\n",
       "    <tr>\n",
       "      <td>0</td>\n",
       "      <td>75188.000</td>\n",
       "      <td>73388.338950</td>\n",
       "      <td>1799.661050</td>\n",
       "    </tr>\n",
       "    <tr>\n",
       "      <td>1</td>\n",
       "      <td>25000.000</td>\n",
       "      <td>24722.696647</td>\n",
       "      <td>277.303353</td>\n",
       "    </tr>\n",
       "    <tr>\n",
       "      <td>2</td>\n",
       "      <td>56417.917</td>\n",
       "      <td>54392.683139</td>\n",
       "      <td>2025.233861</td>\n",
       "    </tr>\n",
       "    <tr>\n",
       "      <td>3</td>\n",
       "      <td>59270.625</td>\n",
       "      <td>57829.578443</td>\n",
       "      <td>1441.046557</td>\n",
       "    </tr>\n",
       "    <tr>\n",
       "      <td>4</td>\n",
       "      <td>36966.556</td>\n",
       "      <td>38801.573325</td>\n",
       "      <td>-1835.017325</td>\n",
       "    </tr>\n",
       "    <tr>\n",
       "      <td>...</td>\n",
       "      <td>...</td>\n",
       "      <td>...</td>\n",
       "      <td>...</td>\n",
       "    </tr>\n",
       "    <tr>\n",
       "      <td>71</td>\n",
       "      <td>53912.182</td>\n",
       "      <td>52549.084779</td>\n",
       "      <td>1363.097221</td>\n",
       "    </tr>\n",
       "    <tr>\n",
       "      <td>72</td>\n",
       "      <td>85375.000</td>\n",
       "      <td>83028.244612</td>\n",
       "      <td>2346.755388</td>\n",
       "    </tr>\n",
       "    <tr>\n",
       "      <td>73</td>\n",
       "      <td>72299.111</td>\n",
       "      <td>71827.151912</td>\n",
       "      <td>471.959088</td>\n",
       "    </tr>\n",
       "    <tr>\n",
       "      <td>74</td>\n",
       "      <td>28020.769</td>\n",
       "      <td>27141.182641</td>\n",
       "      <td>879.586359</td>\n",
       "    </tr>\n",
       "    <tr>\n",
       "      <td>75</td>\n",
       "      <td>3345.000</td>\n",
       "      <td>2083.359293</td>\n",
       "      <td>1261.640707</td>\n",
       "    </tr>\n",
       "  </tbody>\n",
       "</table>\n",
       "<p>76 rows × 3 columns</p>\n",
       "</div>"
      ],
      "text/plain": [
       "    Actual Value  Predicted Value   Difference\n",
       "0      75188.000     73388.338950  1799.661050\n",
       "1      25000.000     24722.696647   277.303353\n",
       "2      56417.917     54392.683139  2025.233861\n",
       "3      59270.625     57829.578443  1441.046557\n",
       "4      36966.556     38801.573325 -1835.017325\n",
       "..           ...              ...          ...\n",
       "71     53912.182     52549.084779  1363.097221\n",
       "72     85375.000     83028.244612  2346.755388\n",
       "73     72299.111     71827.151912   471.959088\n",
       "74     28020.769     27141.182641   879.586359\n",
       "75      3345.000      2083.359293  1261.640707\n",
       "\n",
       "[76 rows x 3 columns]"
      ]
     },
     "execution_count": 13,
     "metadata": {},
     "output_type": "execute_result"
    }
   ],
   "source": [
    "pred_y_df=pd.DataFrame({\"Actual Value\":y_test,\"Predicted Value\":y_pred,\"Difference\":y_test-y_pred})\n",
    "pred_y_df[0:76]"
   ]
  },
  {
   "cell_type": "code",
   "execution_count": 14,
   "metadata": {},
   "outputs": [
    {
     "name": "stdout",
     "output_type": "stream",
     "text": [
      "Mean Absolute Error: 2107.0136083134457\n",
      "Mean Squared Error: 30679335.262868103\n",
      "Root Mean Squared Error: 5538.892963658722\n"
     ]
    }
   ],
   "source": [
    "from sklearn import metrics\n",
    "import numpy as np\n",
    "print('Mean Absolute Error:', metrics.mean_absolute_error(y_test, y_pred))\n",
    "print('Mean Squared Error:', metrics.mean_squared_error(y_test, y_pred))\n",
    "RMSE= np.sqrt(metrics.mean_squared_error(y_test, y_pred))\n",
    "print('Root Mean Squared Error:',RMSE)"
   ]
  },
  {
   "cell_type": "code",
   "execution_count": 15,
   "metadata": {},
   "outputs": [
    {
     "data": {
      "text/plain": [
       "92773.625"
      ]
     },
     "execution_count": 15,
     "metadata": {},
     "output_type": "execute_result"
    }
   ],
   "source": [
    "y.max()"
   ]
  },
  {
   "cell_type": "code",
   "execution_count": 16,
   "metadata": {},
   "outputs": [
    {
     "data": {
      "text/plain": [
       "874.625"
      ]
     },
     "execution_count": 16,
     "metadata": {},
     "output_type": "execute_result"
    }
   ],
   "source": [
    "y.min()"
   ]
  },
  {
   "cell_type": "code",
   "execution_count": 17,
   "metadata": {},
   "outputs": [
    {
     "name": "stdout",
     "output_type": "stream",
     "text": [
      "0.060271525954131405\n"
     ]
    }
   ],
   "source": [
    "NRMSE=RMSE/(y.max()-y.min())\n",
    "print(NRMSE)"
   ]
  },
  {
   "cell_type": "code",
   "execution_count": null,
   "metadata": {},
   "outputs": [],
   "source": []
  }
 ],
 "metadata": {
  "kernelspec": {
   "display_name": "Python 3",
   "language": "python",
   "name": "python3"
  },
  "language_info": {
   "codemirror_mode": {
    "name": "ipython",
    "version": 3
   },
   "file_extension": ".py",
   "mimetype": "text/x-python",
   "name": "python",
   "nbconvert_exporter": "python",
   "pygments_lexer": "ipython3",
   "version": "3.7.4"
  }
 },
 "nbformat": 4,
 "nbformat_minor": 2
}
