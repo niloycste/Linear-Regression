{
 "cells": [
  {
   "cell_type": "code",
   "execution_count": 2,
   "metadata": {},
   "outputs": [],
   "source": [
    "import pandas as pd\n",
    "data_df=pd.read_csv(r\"C:\\Users\\Niloy\\Linear Regression\\MicIndRnk3.csv\",header=None)"
   ]
  },
  {
   "cell_type": "code",
   "execution_count": 3,
   "metadata": {},
   "outputs": [],
   "source": [
    "data_df.columns=['independant A','independant B','independant C','independant D','independant E','independant F','independant G','independant H','independant I','independant J ','independant K','independant L','Dependant M']"
   ]
  },
  {
   "cell_type": "code",
   "execution_count": 4,
   "metadata": {},
   "outputs": [
    {
     "data": {
      "text/html": [
       "<div>\n",
       "<style scoped>\n",
       "    .dataframe tbody tr th:only-of-type {\n",
       "        vertical-align: middle;\n",
       "    }\n",
       "\n",
       "    .dataframe tbody tr th {\n",
       "        vertical-align: top;\n",
       "    }\n",
       "\n",
       "    .dataframe thead th {\n",
       "        text-align: right;\n",
       "    }\n",
       "</style>\n",
       "<table border=\"1\" class=\"dataframe\">\n",
       "  <thead>\n",
       "    <tr style=\"text-align: right;\">\n",
       "      <th></th>\n",
       "      <th>independant A</th>\n",
       "      <th>independant B</th>\n",
       "      <th>independant C</th>\n",
       "      <th>independant D</th>\n",
       "      <th>independant E</th>\n",
       "      <th>independant F</th>\n",
       "      <th>independant G</th>\n",
       "      <th>independant H</th>\n",
       "      <th>independant I</th>\n",
       "      <th>independant J</th>\n",
       "      <th>independant K</th>\n",
       "      <th>independant L</th>\n",
       "      <th>Dependant M</th>\n",
       "    </tr>\n",
       "  </thead>\n",
       "  <tbody>\n",
       "    <tr>\n",
       "      <td>0</td>\n",
       "      <td>270959.667</td>\n",
       "      <td>45600.333</td>\n",
       "      <td>4171.000</td>\n",
       "      <td>4628.667</td>\n",
       "      <td>45506.333</td>\n",
       "      <td>1429.200</td>\n",
       "      <td>30782.667</td>\n",
       "      <td>26.000</td>\n",
       "      <td>27.000</td>\n",
       "      <td>45569.333</td>\n",
       "      <td>3485.667</td>\n",
       "      <td>45651.400</td>\n",
       "      <td>45569.333</td>\n",
       "    </tr>\n",
       "    <tr>\n",
       "      <td>1</td>\n",
       "      <td>251340.000</td>\n",
       "      <td>57541.500</td>\n",
       "      <td>2633.333</td>\n",
       "      <td>6043.333</td>\n",
       "      <td>42041.000</td>\n",
       "      <td>1902.000</td>\n",
       "      <td>39190.250</td>\n",
       "      <td>1007.500</td>\n",
       "      <td>808.000</td>\n",
       "      <td>40965.667</td>\n",
       "      <td>3136.000</td>\n",
       "      <td>41000.000</td>\n",
       "      <td>40965.667</td>\n",
       "    </tr>\n",
       "    <tr>\n",
       "      <td>2</td>\n",
       "      <td>299643.667</td>\n",
       "      <td>56557.667</td>\n",
       "      <td>3308.000</td>\n",
       "      <td>4773.000</td>\n",
       "      <td>56466.667</td>\n",
       "      <td>1902.000</td>\n",
       "      <td>31874.333</td>\n",
       "      <td>491.667</td>\n",
       "      <td>480.667</td>\n",
       "      <td>56000.000</td>\n",
       "      <td>4284.000</td>\n",
       "      <td>56000.000</td>\n",
       "      <td>56000.000</td>\n",
       "    </tr>\n",
       "    <tr>\n",
       "      <td>3</td>\n",
       "      <td>167618.667</td>\n",
       "      <td>39022.750</td>\n",
       "      <td>1619.000</td>\n",
       "      <td>3932.000</td>\n",
       "      <td>23626.333</td>\n",
       "      <td>1182.333</td>\n",
       "      <td>26253.000</td>\n",
       "      <td>699.250</td>\n",
       "      <td>699.800</td>\n",
       "      <td>22826.667</td>\n",
       "      <td>1746.000</td>\n",
       "      <td>22826.667</td>\n",
       "      <td>22770.000</td>\n",
       "    </tr>\n",
       "    <tr>\n",
       "      <td>4</td>\n",
       "      <td>176597.000</td>\n",
       "      <td>40426.667</td>\n",
       "      <td>4603.000</td>\n",
       "      <td>4362.667</td>\n",
       "      <td>21762.333</td>\n",
       "      <td>1221.333</td>\n",
       "      <td>28927.333</td>\n",
       "      <td>750.200</td>\n",
       "      <td>1.000</td>\n",
       "      <td>21000.000</td>\n",
       "      <td>1597.667</td>\n",
       "      <td>21000.000</td>\n",
       "      <td>21000.000</td>\n",
       "    </tr>\n",
       "  </tbody>\n",
       "</table>\n",
       "</div>"
      ],
      "text/plain": [
       "   independant A  independant B  independant C  independant D  independant E  \\\n",
       "0     270959.667      45600.333       4171.000       4628.667      45506.333   \n",
       "1     251340.000      57541.500       2633.333       6043.333      42041.000   \n",
       "2     299643.667      56557.667       3308.000       4773.000      56466.667   \n",
       "3     167618.667      39022.750       1619.000       3932.000      23626.333   \n",
       "4     176597.000      40426.667       4603.000       4362.667      21762.333   \n",
       "\n",
       "   independant F  independant G  independant H  independant I  independant J   \\\n",
       "0       1429.200      30782.667         26.000         27.000       45569.333   \n",
       "1       1902.000      39190.250       1007.500        808.000       40965.667   \n",
       "2       1902.000      31874.333        491.667        480.667       56000.000   \n",
       "3       1182.333      26253.000        699.250        699.800       22826.667   \n",
       "4       1221.333      28927.333        750.200          1.000       21000.000   \n",
       "\n",
       "   independant K  independant L  Dependant M  \n",
       "0       3485.667      45651.400    45569.333  \n",
       "1       3136.000      41000.000    40965.667  \n",
       "2       4284.000      56000.000    56000.000  \n",
       "3       1746.000      22826.667    22770.000  \n",
       "4       1597.667      21000.000    21000.000  "
      ]
     },
     "execution_count": 4,
     "metadata": {},
     "output_type": "execute_result"
    }
   ],
   "source": [
    "data_df.head()"
   ]
  },
  {
   "cell_type": "code",
   "execution_count": 5,
   "metadata": {},
   "outputs": [],
   "source": [
    "x=data_df.drop(['Dependant M'],axis=1).values\n",
    "y=data_df['Dependant M'].values"
   ]
  },
  {
   "cell_type": "code",
   "execution_count": 8,
   "metadata": {},
   "outputs": [],
   "source": [
    "from sklearn.model_selection import train_test_split\n",
    "x_train, x_test, y_train, y_test= train_test_split(x,y,test_size=0.07,random_state=0)"
   ]
  },
  {
   "cell_type": "code",
   "execution_count": 9,
   "metadata": {},
   "outputs": [
    {
     "data": {
      "text/plain": [
       "LinearRegression(copy_X=True, fit_intercept=True, n_jobs=None, normalize=False)"
      ]
     },
     "execution_count": 9,
     "metadata": {},
     "output_type": "execute_result"
    }
   ],
   "source": [
    "from sklearn.linear_model import LinearRegression\n",
    "ml=LinearRegression()\n",
    "ml.fit(x_train,y_train)"
   ]
  },
  {
   "cell_type": "code",
   "execution_count": 10,
   "metadata": {},
   "outputs": [
    {
     "name": "stdout",
     "output_type": "stream",
     "text": [
      "[72689.95638811 24861.39028161 54651.09101295 57490.35972084\n",
      " 38996.93539826 16791.45950841 18427.51905547 49230.94072122\n",
      " 17030.91211905 14023.18550466 -5148.47662393 18184.15657327\n",
      " 20968.92560139 31780.410835   19896.80208528 13801.30661531\n",
      " 50436.05921963 33220.6260038  29696.0402447  63686.00804652\n",
      "  7886.16122193 45354.85494147 52228.20679514 31335.96595081\n",
      " 31223.38806468 60348.32817692 55415.903327   45466.91830211\n",
      " 26883.49211213 53880.1665657  31733.14009179 28919.38099833\n",
      " 39999.95335921 46159.52074373  9466.33567812  6266.16016558\n",
      " 50500.64670268  6210.3134806  10232.56821569 68003.0198398\n",
      " 10150.82299022 32011.51747186 23142.49415938 48503.29943262\n",
      " 49694.77382496 47666.25649087 31297.60610794 33037.14400042\n",
      " 46946.76218096 43874.81987487 71405.28044263 44184.15907876\n",
      " 63477.80092392 17153.4773166  52921.38529661  9936.3036627\n",
      " 38538.29915288 39696.54318285 25483.38379876 25351.97789755\n",
      " 17664.44304227 31128.89118434 28807.73844718   732.06380961\n",
      " 53099.71498281 31551.46238181 29527.7102606  41402.83406461\n",
      " 58807.71646315 83282.63571309 45618.34910459 52410.2731666\n",
      " 82470.73009711 71530.47710981 27329.37374164  2369.62453655]\n"
     ]
    }
   ],
   "source": [
    "y_pred=ml.predict(x_test)\n",
    "print(y_pred)"
   ]
  },
  {
   "cell_type": "code",
   "execution_count": 11,
   "metadata": {},
   "outputs": [
    {
     "data": {
      "text/plain": [
       "array([44340.13553663])"
      ]
     },
     "execution_count": 11,
     "metadata": {},
     "output_type": "execute_result"
    }
   ],
   "source": [
    "ml.predict([[270959.667 ,45600.333 ,4171.000 ,4628.667 ,45506.333 ,1429.200,30782.667 ,26.000 ,27.000 ,45569.333 ,3485.667 ,45651.400 ]])"
   ]
  },
  {
   "cell_type": "code",
   "execution_count": 12,
   "metadata": {},
   "outputs": [
    {
     "data": {
      "text/plain": [
       "array([-2.96665079e-05,  3.55307318e-02,  1.00561362e-01,  1.39599565e-01,\n",
       "       -3.70615701e-01,  1.00622590e-01, -7.31326741e-02,  3.36364381e-01,\n",
       "        6.19574795e-02,  4.34147800e-01,  4.21793148e-01,  8.73004611e-01])"
      ]
     },
     "execution_count": 12,
     "metadata": {},
     "output_type": "execute_result"
    }
   ],
   "source": [
    "ml.coef_"
   ]
  },
  {
   "cell_type": "code",
   "execution_count": 13,
   "metadata": {},
   "outputs": [
    {
     "data": {
      "text/plain": [
       "-483.2272674158303"
      ]
     },
     "execution_count": 13,
     "metadata": {},
     "output_type": "execute_result"
    }
   ],
   "source": [
    "ml.intercept_"
   ]
  },
  {
   "cell_type": "code",
   "execution_count": 14,
   "metadata": {},
   "outputs": [
    {
     "data": {
      "text/plain": [
       "0.9261933353428071"
      ]
     },
     "execution_count": 14,
     "metadata": {},
     "output_type": "execute_result"
    }
   ],
   "source": [
    "from sklearn.metrics import r2_score\n",
    "r2_score(y_test,y_pred)\n",
    "    "
   ]
  },
  {
   "cell_type": "code",
   "execution_count": 15,
   "metadata": {},
   "outputs": [
    {
     "data": {
      "text/plain": [
       "Text(0.5, 1.0, 'Actual vs. Predicted')"
      ]
     },
     "execution_count": 15,
     "metadata": {},
     "output_type": "execute_result"
    }
   ],
   "source": [
    "import matplotlib.pyplot as plt\n",
    "plt.figure(figsize=(15,10))\n",
    "plt.scatter(y_test,y_pred)\n",
    "plt.xlabel(\"Actual\")\n",
    "plt.ylabel(\"Predicted\")\n",
    "plt.title(\"Actual vs. Predicted\")"
   ]
  },
  {
   "cell_type": "code",
   "execution_count": 16,
   "metadata": {},
   "outputs": [
    {
     "data": {
      "text/html": [
       "<div>\n",
       "<style scoped>\n",
       "    .dataframe tbody tr th:only-of-type {\n",
       "        vertical-align: middle;\n",
       "    }\n",
       "\n",
       "    .dataframe tbody tr th {\n",
       "        vertical-align: top;\n",
       "    }\n",
       "\n",
       "    .dataframe thead th {\n",
       "        text-align: right;\n",
       "    }\n",
       "</style>\n",
       "<table border=\"1\" class=\"dataframe\">\n",
       "  <thead>\n",
       "    <tr style=\"text-align: right;\">\n",
       "      <th></th>\n",
       "      <th>Actual Value</th>\n",
       "      <th>Predicted Value</th>\n",
       "      <th>Difference</th>\n",
       "    </tr>\n",
       "  </thead>\n",
       "  <tbody>\n",
       "    <tr>\n",
       "      <td>0</td>\n",
       "      <td>75000.000</td>\n",
       "      <td>72689.956388</td>\n",
       "      <td>2310.043612</td>\n",
       "    </tr>\n",
       "    <tr>\n",
       "      <td>1</td>\n",
       "      <td>25000.000</td>\n",
       "      <td>24861.390282</td>\n",
       "      <td>138.609718</td>\n",
       "    </tr>\n",
       "    <tr>\n",
       "      <td>2</td>\n",
       "      <td>56000.000</td>\n",
       "      <td>54651.091013</td>\n",
       "      <td>1348.908987</td>\n",
       "    </tr>\n",
       "    <tr>\n",
       "      <td>3</td>\n",
       "      <td>58958.000</td>\n",
       "      <td>57490.359721</td>\n",
       "      <td>1467.640279</td>\n",
       "    </tr>\n",
       "    <tr>\n",
       "      <td>4</td>\n",
       "      <td>37000.000</td>\n",
       "      <td>38996.935398</td>\n",
       "      <td>-1996.935398</td>\n",
       "    </tr>\n",
       "    <tr>\n",
       "      <td>...</td>\n",
       "      <td>...</td>\n",
       "      <td>...</td>\n",
       "      <td>...</td>\n",
       "    </tr>\n",
       "    <tr>\n",
       "      <td>71</td>\n",
       "      <td>53704.250</td>\n",
       "      <td>52410.273167</td>\n",
       "      <td>1293.976833</td>\n",
       "    </tr>\n",
       "    <tr>\n",
       "      <td>72</td>\n",
       "      <td>85000.000</td>\n",
       "      <td>82470.730097</td>\n",
       "      <td>2529.269903</td>\n",
       "    </tr>\n",
       "    <tr>\n",
       "      <td>73</td>\n",
       "      <td>72823.667</td>\n",
       "      <td>71530.477110</td>\n",
       "      <td>1293.189890</td>\n",
       "    </tr>\n",
       "    <tr>\n",
       "      <td>74</td>\n",
       "      <td>28000.000</td>\n",
       "      <td>27329.373742</td>\n",
       "      <td>670.626258</td>\n",
       "    </tr>\n",
       "    <tr>\n",
       "      <td>75</td>\n",
       "      <td>2956.600</td>\n",
       "      <td>2369.624537</td>\n",
       "      <td>586.975463</td>\n",
       "    </tr>\n",
       "  </tbody>\n",
       "</table>\n",
       "<p>76 rows × 3 columns</p>\n",
       "</div>"
      ],
      "text/plain": [
       "    Actual Value  Predicted Value   Difference\n",
       "0      75000.000     72689.956388  2310.043612\n",
       "1      25000.000     24861.390282   138.609718\n",
       "2      56000.000     54651.091013  1348.908987\n",
       "3      58958.000     57490.359721  1467.640279\n",
       "4      37000.000     38996.935398 -1996.935398\n",
       "..           ...              ...          ...\n",
       "71     53704.250     52410.273167  1293.976833\n",
       "72     85000.000     82470.730097  2529.269903\n",
       "73     72823.667     71530.477110  1293.189890\n",
       "74     28000.000     27329.373742   670.626258\n",
       "75      2956.600      2369.624537   586.975463\n",
       "\n",
       "[76 rows x 3 columns]"
      ]
     },
     "execution_count": 16,
     "metadata": {},
     "output_type": "execute_result"
    }
   ],
   "source": [
    "pred_y_df=pd.DataFrame({\"Actual Value\":y_test,\"Predicted Value\":y_pred,\"Difference\":y_test-y_pred})\n",
    "pred_y_df[0:76]"
   ]
  },
  {
   "cell_type": "code",
   "execution_count": 21,
   "metadata": {},
   "outputs": [
    {
     "name": "stdout",
     "output_type": "stream",
     "text": [
      "Mean Absolute Error: 2228.9775850734527\n",
      "Mean Squared Error: 31768193.646395873\n",
      "Root Mean Squared Error: 5636.328028636718\n"
     ]
    }
   ],
   "source": [
    "from sklearn import metrics\n",
    "import numpy as np\n",
    "print('Mean Absolute Error:', metrics.mean_absolute_error(y_test, y_pred))\n",
    "print('Mean Squared Error:', metrics.mean_squared_error(y_test, y_pred))\n",
    "RMSE= np.sqrt(metrics.mean_squared_error(y_test, y_pred))\n",
    "print('Root Mean Squared Error:',RMSE)"
   ]
  },
  {
   "cell_type": "code",
   "execution_count": 22,
   "metadata": {},
   "outputs": [
    {
     "data": {
      "text/plain": [
       "96201.33300000001"
      ]
     },
     "execution_count": 22,
     "metadata": {},
     "output_type": "execute_result"
    }
   ],
   "source": [
    "y.max()"
   ]
  },
  {
   "cell_type": "code",
   "execution_count": 23,
   "metadata": {},
   "outputs": [
    {
     "data": {
      "text/plain": [
       "376.667"
      ]
     },
     "execution_count": 23,
     "metadata": {},
     "output_type": "execute_result"
    }
   ],
   "source": [
    "y.min()"
   ]
  },
  {
   "cell_type": "code",
   "execution_count": 24,
   "metadata": {},
   "outputs": [
    {
     "name": "stdout",
     "output_type": "stream",
     "text": [
      "0.05881917739882044\n"
     ]
    }
   ],
   "source": [
    "NRMSE=RMSE/(y.max()-y.min())\n",
    "print(NRMSE)"
   ]
  },
  {
   "cell_type": "code",
   "execution_count": null,
   "metadata": {},
   "outputs": [],
   "source": []
  }
 ],
 "metadata": {
  "kernelspec": {
   "display_name": "Python 3",
   "language": "python",
   "name": "python3"
  },
  "language_info": {
   "codemirror_mode": {
    "name": "ipython",
    "version": 3
   },
   "file_extension": ".py",
   "mimetype": "text/x-python",
   "name": "python",
   "nbconvert_exporter": "python",
   "pygments_lexer": "ipython3",
   "version": "3.7.4"
  }
 },
 "nbformat": 4,
 "nbformat_minor": 2
}
