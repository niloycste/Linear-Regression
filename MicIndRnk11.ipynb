{
 "cells": [
  {
   "cell_type": "code",
   "execution_count": 1,
   "metadata": {},
   "outputs": [],
   "source": [
    "import pandas as pd\n",
    "data_df=pd.read_csv(r\"C:\\Users\\Niloy\\Linear Regression\\MicIndRnk11.csv\",header=None)"
   ]
  },
  {
   "cell_type": "code",
   "execution_count": 2,
   "metadata": {},
   "outputs": [],
   "source": [
    "data_df.columns=['independant A','independant B','independant C','independant D','independant E','independant F','independant G','independant H','independant I','independant J ','independant K','independant L','Dependant M']"
   ]
  },
  {
   "cell_type": "code",
   "execution_count": 3,
   "metadata": {},
   "outputs": [
    {
     "data": {
      "text/html": [
       "<div>\n",
       "<style scoped>\n",
       "    .dataframe tbody tr th:only-of-type {\n",
       "        vertical-align: middle;\n",
       "    }\n",
       "\n",
       "    .dataframe tbody tr th {\n",
       "        vertical-align: top;\n",
       "    }\n",
       "\n",
       "    .dataframe thead th {\n",
       "        text-align: right;\n",
       "    }\n",
       "</style>\n",
       "<table border=\"1\" class=\"dataframe\">\n",
       "  <thead>\n",
       "    <tr style=\"text-align: right;\">\n",
       "      <th></th>\n",
       "      <th>independant A</th>\n",
       "      <th>independant B</th>\n",
       "      <th>independant C</th>\n",
       "      <th>independant D</th>\n",
       "      <th>independant E</th>\n",
       "      <th>independant F</th>\n",
       "      <th>independant G</th>\n",
       "      <th>independant H</th>\n",
       "      <th>independant I</th>\n",
       "      <th>independant J</th>\n",
       "      <th>independant K</th>\n",
       "      <th>independant L</th>\n",
       "      <th>Dependant M</th>\n",
       "    </tr>\n",
       "  </thead>\n",
       "  <tbody>\n",
       "    <tr>\n",
       "      <td>0</td>\n",
       "      <td>270675.182</td>\n",
       "      <td>45848.000</td>\n",
       "      <td>4170.182</td>\n",
       "      <td>4630.636</td>\n",
       "      <td>45361.091</td>\n",
       "      <td>1441.273</td>\n",
       "      <td>30920.583</td>\n",
       "      <td>28.000</td>\n",
       "      <td>27.182</td>\n",
       "      <td>45788.818</td>\n",
       "      <td>3491.000</td>\n",
       "      <td>45577.909</td>\n",
       "      <td>45668.818</td>\n",
       "    </tr>\n",
       "    <tr>\n",
       "      <td>1</td>\n",
       "      <td>249111.733</td>\n",
       "      <td>57513.455</td>\n",
       "      <td>2660.364</td>\n",
       "      <td>6001.727</td>\n",
       "      <td>41677.455</td>\n",
       "      <td>1889.750</td>\n",
       "      <td>38956.000</td>\n",
       "      <td>1003.000</td>\n",
       "      <td>804.300</td>\n",
       "      <td>41046.067</td>\n",
       "      <td>3138.125</td>\n",
       "      <td>41045.933</td>\n",
       "      <td>41057.417</td>\n",
       "    </tr>\n",
       "    <tr>\n",
       "      <td>2</td>\n",
       "      <td>299892.727</td>\n",
       "      <td>56794.000</td>\n",
       "      <td>3293.727</td>\n",
       "      <td>4782.273</td>\n",
       "      <td>56410.636</td>\n",
       "      <td>1889.750</td>\n",
       "      <td>32083.455</td>\n",
       "      <td>466.818</td>\n",
       "      <td>484.909</td>\n",
       "      <td>56157.364</td>\n",
       "      <td>4291.455</td>\n",
       "      <td>56099.545</td>\n",
       "      <td>56216.273</td>\n",
       "    </tr>\n",
       "    <tr>\n",
       "      <td>3</td>\n",
       "      <td>168443.733</td>\n",
       "      <td>39099.333</td>\n",
       "      <td>1621.636</td>\n",
       "      <td>3886.364</td>\n",
       "      <td>23537.333</td>\n",
       "      <td>1184.000</td>\n",
       "      <td>25946.250</td>\n",
       "      <td>702.091</td>\n",
       "      <td>705.000</td>\n",
       "      <td>22888.824</td>\n",
       "      <td>1750.588</td>\n",
       "      <td>22940.667</td>\n",
       "      <td>22800.909</td>\n",
       "    </tr>\n",
       "    <tr>\n",
       "      <td>4</td>\n",
       "      <td>175636.091</td>\n",
       "      <td>40356.769</td>\n",
       "      <td>4613.917</td>\n",
       "      <td>4342.455</td>\n",
       "      <td>21803.000</td>\n",
       "      <td>1218.818</td>\n",
       "      <td>28609.818</td>\n",
       "      <td>751.545</td>\n",
       "      <td>1.364</td>\n",
       "      <td>20961.455</td>\n",
       "      <td>1603.091</td>\n",
       "      <td>21015.000</td>\n",
       "      <td>20728.545</td>\n",
       "    </tr>\n",
       "  </tbody>\n",
       "</table>\n",
       "</div>"
      ],
      "text/plain": [
       "   independant A  independant B  independant C  independant D  independant E  \\\n",
       "0     270675.182      45848.000       4170.182       4630.636      45361.091   \n",
       "1     249111.733      57513.455       2660.364       6001.727      41677.455   \n",
       "2     299892.727      56794.000       3293.727       4782.273      56410.636   \n",
       "3     168443.733      39099.333       1621.636       3886.364      23537.333   \n",
       "4     175636.091      40356.769       4613.917       4342.455      21803.000   \n",
       "\n",
       "   independant F  independant G  independant H  independant I  independant J   \\\n",
       "0       1441.273      30920.583         28.000         27.182       45788.818   \n",
       "1       1889.750      38956.000       1003.000        804.300       41046.067   \n",
       "2       1889.750      32083.455        466.818        484.909       56157.364   \n",
       "3       1184.000      25946.250        702.091        705.000       22888.824   \n",
       "4       1218.818      28609.818        751.545          1.364       20961.455   \n",
       "\n",
       "   independant K  independant L  Dependant M  \n",
       "0       3491.000      45577.909    45668.818  \n",
       "1       3138.125      41045.933    41057.417  \n",
       "2       4291.455      56099.545    56216.273  \n",
       "3       1750.588      22940.667    22800.909  \n",
       "4       1603.091      21015.000    20728.545  "
      ]
     },
     "execution_count": 3,
     "metadata": {},
     "output_type": "execute_result"
    }
   ],
   "source": [
    "data_df.head()\n"
   ]
  },
  {
   "cell_type": "code",
   "execution_count": 4,
   "metadata": {},
   "outputs": [],
   "source": [
    "x=data_df.drop(['Dependant M'],axis=1).values\n",
    "y=data_df['Dependant M'].values"
   ]
  },
  {
   "cell_type": "code",
   "execution_count": 5,
   "metadata": {},
   "outputs": [],
   "source": [
    "from sklearn.model_selection import train_test_split\n",
    "x_train, x_test, y_train, y_test= train_test_split(x,y,test_size=0.07,random_state=0)"
   ]
  },
  {
   "cell_type": "code",
   "execution_count": 6,
   "metadata": {},
   "outputs": [
    {
     "data": {
      "text/plain": [
       "LinearRegression(copy_X=True, fit_intercept=True, n_jobs=None, normalize=False)"
      ]
     },
     "execution_count": 6,
     "metadata": {},
     "output_type": "execute_result"
    }
   ],
   "source": [
    "from sklearn.linear_model import LinearRegression\n",
    "ml=LinearRegression()\n",
    "ml.fit(x_train,y_train)"
   ]
  },
  {
   "cell_type": "code",
   "execution_count": 7,
   "metadata": {},
   "outputs": [
    {
     "name": "stdout",
     "output_type": "stream",
     "text": [
      "[73220.74476706 24827.15780827 54577.94543213 57819.94669717\n",
      " 38555.61396841 16128.37159679 18397.90659299 49072.40974841\n",
      " 17060.67756791 14190.70832623  1127.42179806 18106.13997725\n",
      " 21298.88089404 31733.77991866 19791.60815529 13901.55678902\n",
      " 50340.69490519 33040.15463633 29657.54411748 63997.17917506\n",
      "  7955.91629852 45436.41791426 52291.4159941  31322.1567555\n",
      " 31207.50199521 60398.8010662  54959.09030759 45404.94071526\n",
      " 26855.04864443 53765.76287073 31671.88217097 28955.56542537\n",
      " 39954.90618839 45985.27792276  8774.73724167  6594.34132892\n",
      " 50381.75037849  6373.25756641 10215.62521974 68168.14381894\n",
      " 10078.07728389 31887.95178769 23094.95978382 48503.99548396\n",
      " 49596.15440487 47757.33592044 31354.63440512 33210.37071093\n",
      " 46921.42494997 43721.4768611  72045.17083352 44103.91685711\n",
      " 64921.28005249 17232.69071422 52931.15530482 10154.47102955\n",
      " 38400.68832173 39802.72187118 25469.78603256 25143.87669072\n",
      " 17596.62956307 31116.36673089 28641.38870832   484.18931495\n",
      " 53165.00442726 31582.11001923 29470.75383383 41375.59079935\n",
      " 58152.9447128  84495.62232515 45471.06285157 52564.3657681\n",
      " 81128.28252256 70972.81821028 27319.27079504  2705.71443817]\n"
     ]
    }
   ],
   "source": [
    "y_pred=ml.predict(x_test)\n",
    "print(y_pred)"
   ]
  },
  {
   "cell_type": "code",
   "execution_count": 8,
   "metadata": {},
   "outputs": [
    {
     "data": {
      "text/plain": [
       "array([ 5.75735069e-06,  3.40633586e-02,  9.55073072e-02,  7.38205559e-02,\n",
       "       -2.09444237e-04,  1.01979660e-01, -5.94661833e-02, -2.47284058e-02,\n",
       "        6.78826176e-02,  9.99398372e-02,  1.40639201e-01,  8.58099996e-01])"
      ]
     },
     "execution_count": 8,
     "metadata": {},
     "output_type": "execute_result"
    }
   ],
   "source": [
    "ml.coef_\n"
   ]
  },
  {
   "cell_type": "code",
   "execution_count": 9,
   "metadata": {},
   "outputs": [
    {
     "data": {
      "text/plain": [
       "-517.1621239037777"
      ]
     },
     "execution_count": 9,
     "metadata": {},
     "output_type": "execute_result"
    }
   ],
   "source": [
    "ml.intercept_"
   ]
  },
  {
   "cell_type": "code",
   "execution_count": 10,
   "metadata": {},
   "outputs": [
    {
     "data": {
      "text/plain": [
       "0.928232656309238"
      ]
     },
     "execution_count": 10,
     "metadata": {},
     "output_type": "execute_result"
    }
   ],
   "source": [
    "from sklearn.metrics import r2_score\n",
    "r2_score(y_test,y_pred)\n",
    "    "
   ]
  },
  {
   "cell_type": "code",
   "execution_count": 13,
   "metadata": {},
   "outputs": [
    {
     "data": {
      "text/plain": [
       "Text(0.5, 1.0, 'Actual vs. Predicted')"
      ]
     },
     "execution_count": 13,
     "metadata": {},
     "output_type": "execute_result"
    },
    {
     "data": {
      "image/png": "[encoded data removed]",
      "text/plain": [
       "<Figure size 1080x720 with 1 Axes>"
      ]
     },
     "metadata": {
      "needs_background": "light"
     },
     "output_type": "display_data"
    }
   ],
   "source": [
    "import matplotlib.pyplot as plt\n",
    "plt.figure(figsize=(15,10))\n",
    "plt.scatter(y_test,y_pred)\n",
    "plt.xlabel(\"Actual\")\n",
    "plt.ylabel(\"Predicted\")\n",
    "plt.title(\"Actual vs. Predicted\")"
   ]
  },
  {
   "cell_type": "code",
   "execution_count": 12,
   "metadata": {},
   "outputs": [
    {
     "data": {
      "text/html": [
       "<div>\n",
       "<style scoped>\n",
       "    .dataframe tbody tr th:only-of-type {\n",
       "        vertical-align: middle;\n",
       "    }\n",
       "\n",
       "    .dataframe tbody tr th {\n",
       "        vertical-align: top;\n",
       "    }\n",
       "\n",
       "    .dataframe thead th {\n",
       "        text-align: right;\n",
       "    }\n",
       "</style>\n",
       "<table border=\"1\" class=\"dataframe\">\n",
       "  <thead>\n",
       "    <tr style=\"text-align: right;\">\n",
       "      <th></th>\n",
       "      <th>Actual Value</th>\n",
       "      <th>Predicted Value</th>\n",
       "      <th>Difference</th>\n",
       "    </tr>\n",
       "  </thead>\n",
       "  <tbody>\n",
       "    <tr>\n",
       "      <td>0</td>\n",
       "      <td>74998.059</td>\n",
       "      <td>73220.744767</td>\n",
       "      <td>1777.314233</td>\n",
       "    </tr>\n",
       "    <tr>\n",
       "      <td>1</td>\n",
       "      <td>25000.000</td>\n",
       "      <td>24827.157808</td>\n",
       "      <td>172.842192</td>\n",
       "    </tr>\n",
       "    <tr>\n",
       "      <td>2</td>\n",
       "      <td>56216.273</td>\n",
       "      <td>54577.945432</td>\n",
       "      <td>1638.327568</td>\n",
       "    </tr>\n",
       "    <tr>\n",
       "      <td>3</td>\n",
       "      <td>59469.545</td>\n",
       "      <td>57819.946697</td>\n",
       "      <td>1649.598303</td>\n",
       "    </tr>\n",
       "    <tr>\n",
       "      <td>4</td>\n",
       "      <td>36827.182</td>\n",
       "      <td>38555.613968</td>\n",
       "      <td>-1728.431968</td>\n",
       "    </tr>\n",
       "    <tr>\n",
       "      <td>...</td>\n",
       "      <td>...</td>\n",
       "      <td>...</td>\n",
       "      <td>...</td>\n",
       "    </tr>\n",
       "    <tr>\n",
       "      <td>71</td>\n",
       "      <td>53912.182</td>\n",
       "      <td>52564.365768</td>\n",
       "      <td>1347.816232</td>\n",
       "    </tr>\n",
       "    <tr>\n",
       "      <td>72</td>\n",
       "      <td>85357.143</td>\n",
       "      <td>81128.282523</td>\n",
       "      <td>4228.860477</td>\n",
       "    </tr>\n",
       "    <tr>\n",
       "      <td>73</td>\n",
       "      <td>72572.000</td>\n",
       "      <td>70972.818210</td>\n",
       "      <td>1599.181790</td>\n",
       "    </tr>\n",
       "    <tr>\n",
       "      <td>74</td>\n",
       "      <td>28015.000</td>\n",
       "      <td>27319.270795</td>\n",
       "      <td>695.729205</td>\n",
       "    </tr>\n",
       "    <tr>\n",
       "      <td>75</td>\n",
       "      <td>2636.250</td>\n",
       "      <td>2705.714438</td>\n",
       "      <td>-69.464438</td>\n",
       "    </tr>\n",
       "  </tbody>\n",
       "</table>\n",
       "<p>76 rows × 3 columns</p>\n",
       "</div>"
      ],
      "text/plain": [
       "    Actual Value  Predicted Value   Difference\n",
       "0      74998.059     73220.744767  1777.314233\n",
       "1      25000.000     24827.157808   172.842192\n",
       "2      56216.273     54577.945432  1638.327568\n",
       "3      59469.545     57819.946697  1649.598303\n",
       "4      36827.182     38555.613968 -1728.431968\n",
       "..           ...              ...          ...\n",
       "71     53912.182     52564.365768  1347.816232\n",
       "72     85357.143     81128.282523  4228.860477\n",
       "73     72572.000     70972.818210  1599.181790\n",
       "74     28015.000     27319.270795   695.729205\n",
       "75      2636.250      2705.714438   -69.464438\n",
       "\n",
       "[76 rows x 3 columns]"
      ]
     },
     "execution_count": 12,
     "metadata": {},
     "output_type": "execute_result"
    }
   ],
   "source": [
    "pred_y_df=pd.DataFrame({\"Actual Value\":y_test,\"Predicted Value\":y_pred,\"Difference\":y_test-y_pred})\n",
    "pred_y_df[0:76]"
   ]
  },
  {
   "cell_type": "code",
   "execution_count": 14,
   "metadata": {},
   "outputs": [
    {
     "name": "stdout",
     "output_type": "stream",
     "text": [
      "Mean Absolute Error: 2148.6883858152614\n",
      "Mean Squared Error: 30975491.021612708\n",
      "Root Mean Squared Error: 5565.5629563964785\n"
     ]
    }
   ],
   "source": [
    "from sklearn import metrics\n",
    "import numpy as np\n",
    "print('Mean Absolute Error:', metrics.mean_absolute_error(y_test, y_pred))\n",
    "print('Mean Squared Error:', metrics.mean_squared_error(y_test, y_pred))\n",
    "RMSE= np.sqrt(metrics.mean_squared_error(y_test, y_pred))\n",
    "print('Root Mean Squared Error:',RMSE)"
   ]
  },
  {
   "cell_type": "code",
   "execution_count": 15,
   "metadata": {},
   "outputs": [
    {
     "data": {
      "text/plain": [
       "91553.0"
      ]
     },
     "execution_count": 15,
     "metadata": {},
     "output_type": "execute_result"
    }
   ],
   "source": [
    "y.max()"
   ]
  },
  {
   "cell_type": "code",
   "execution_count": 16,
   "metadata": {},
   "outputs": [
    {
     "data": {
      "text/plain": [
       "1154.2730000000001"
      ]
     },
     "execution_count": 16,
     "metadata": {},
     "output_type": "execute_result"
    }
   ],
   "source": [
    "y.min()"
   ]
  },
  {
   "cell_type": "code",
   "execution_count": 17,
   "metadata": {},
   "outputs": [
    {
     "name": "stdout",
     "output_type": "stream",
     "text": [
      "0.06156682888240759\n"
     ]
    }
   ],
   "source": [
    "NRMSE=RMSE/(y.max()-y.min())\n",
    "print(NRMSE)"
   ]
  },
  {
   "cell_type": "code",
   "execution_count": null,
   "metadata": {},
   "outputs": [],
   "source": []
  }
 ],
 "metadata": {
  "kernelspec": {
   "display_name": "Python 3",
   "language": "python",
   "name": "python3"
  },
  "language_info": {
   "codemirror_mode": {
    "name": "ipython",
    "version": 3
   },
   "file_extension": ".py",
   "mimetype": "text/x-python",
   "name": "python",
   "nbconvert_exporter": "python",
   "pygments_lexer": "ipython3",
   "version": "3.7.4"
  }
 },
 "nbformat": 4,
 "nbformat_minor": 2
}
