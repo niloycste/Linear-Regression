{
 "cells": [
  {
   "cell_type": "code",
   "execution_count": 1,
   "metadata": {},
   "outputs": [],
   "source": [
    "import pandas as pd\n",
    "data_df=pd.read_csv(r\"C:\\Users\\Niloy\\Linear Regression\\MicIndRnk9.csv\",header=None)"
   ]
  },
  {
   "cell_type": "code",
   "execution_count": 2,
   "metadata": {},
   "outputs": [],
   "source": [
    "data_df.columns=['independant A','independant B','independant C','independant D','independant E','independant F','independant G','independant H','independant I','independant J ','independant K','independant L','Dependant M']"
   ]
  },
  {
   "cell_type": "code",
   "execution_count": 3,
   "metadata": {},
   "outputs": [
    {
     "data": {
      "text/html": [
       "<div>\n",
       "<style scoped>\n",
       "    .dataframe tbody tr th:only-of-type {\n",
       "        vertical-align: middle;\n",
       "    }\n",
       "\n",
       "    .dataframe tbody tr th {\n",
       "        vertical-align: top;\n",
       "    }\n",
       "\n",
       "    .dataframe thead th {\n",
       "        text-align: right;\n",
       "    }\n",
       "</style>\n",
       "<table border=\"1\" class=\"dataframe\">\n",
       "  <thead>\n",
       "    <tr style=\"text-align: right;\">\n",
       "      <th></th>\n",
       "      <th>independant A</th>\n",
       "      <th>independant B</th>\n",
       "      <th>independant C</th>\n",
       "      <th>independant D</th>\n",
       "      <th>independant E</th>\n",
       "      <th>independant F</th>\n",
       "      <th>independant G</th>\n",
       "      <th>independant H</th>\n",
       "      <th>independant I</th>\n",
       "      <th>independant J</th>\n",
       "      <th>independant K</th>\n",
       "      <th>independant L</th>\n",
       "      <th>Dependant M</th>\n",
       "    </tr>\n",
       "  </thead>\n",
       "  <tbody>\n",
       "    <tr>\n",
       "      <td>0</td>\n",
       "      <td>270281.778</td>\n",
       "      <td>45755.000</td>\n",
       "      <td>4181.556</td>\n",
       "      <td>4616.364</td>\n",
       "      <td>45303.000</td>\n",
       "      <td>1414.333</td>\n",
       "      <td>31002.444</td>\n",
       "      <td>23.000</td>\n",
       "      <td>27.444</td>\n",
       "      <td>45845.700</td>\n",
       "      <td>3501.000</td>\n",
       "      <td>45706.333</td>\n",
       "      <td>45806.333</td>\n",
       "    </tr>\n",
       "    <tr>\n",
       "      <td>1</td>\n",
       "      <td>251905.800</td>\n",
       "      <td>57595.556</td>\n",
       "      <td>2636.111</td>\n",
       "      <td>6022.889</td>\n",
       "      <td>42212.111</td>\n",
       "      <td>1903.800</td>\n",
       "      <td>39073.667</td>\n",
       "      <td>1012.500</td>\n",
       "      <td>808.000</td>\n",
       "      <td>41046.067</td>\n",
       "      <td>3138.125</td>\n",
       "      <td>41045.933</td>\n",
       "      <td>41057.417</td>\n",
       "    </tr>\n",
       "    <tr>\n",
       "      <td>2</td>\n",
       "      <td>303493.556</td>\n",
       "      <td>56247.111</td>\n",
       "      <td>3296.889</td>\n",
       "      <td>4769.000</td>\n",
       "      <td>56335.545</td>\n",
       "      <td>1903.800</td>\n",
       "      <td>32030.333</td>\n",
       "      <td>466.667</td>\n",
       "      <td>484.909</td>\n",
       "      <td>56157.364</td>\n",
       "      <td>4297.100</td>\n",
       "      <td>56173.100</td>\n",
       "      <td>56417.917</td>\n",
       "    </tr>\n",
       "    <tr>\n",
       "      <td>3</td>\n",
       "      <td>168332.833</td>\n",
       "      <td>38992.778</td>\n",
       "      <td>1625.667</td>\n",
       "      <td>3946.889</td>\n",
       "      <td>23643.200</td>\n",
       "      <td>1193.100</td>\n",
       "      <td>26164.000</td>\n",
       "      <td>690.556</td>\n",
       "      <td>699.000</td>\n",
       "      <td>22790.000</td>\n",
       "      <td>1743.111</td>\n",
       "      <td>22678.889</td>\n",
       "      <td>22756.667</td>\n",
       "    </tr>\n",
       "    <tr>\n",
       "      <td>4</td>\n",
       "      <td>175897.444</td>\n",
       "      <td>40662.111</td>\n",
       "      <td>4590.556</td>\n",
       "      <td>4352.500</td>\n",
       "      <td>21755.000</td>\n",
       "      <td>1224.100</td>\n",
       "      <td>29246.600</td>\n",
       "      <td>767.778</td>\n",
       "      <td>1.500</td>\n",
       "      <td>20962.778</td>\n",
       "      <td>1603.222</td>\n",
       "      <td>20966.500</td>\n",
       "      <td>20890.444</td>\n",
       "    </tr>\n",
       "  </tbody>\n",
       "</table>\n",
       "</div>"
      ],
      "text/plain": [
       "   independant A  independant B  independant C  independant D  independant E  \\\n",
       "0     270281.778      45755.000       4181.556       4616.364      45303.000   \n",
       "1     251905.800      57595.556       2636.111       6022.889      42212.111   \n",
       "2     303493.556      56247.111       3296.889       4769.000      56335.545   \n",
       "3     168332.833      38992.778       1625.667       3946.889      23643.200   \n",
       "4     175897.444      40662.111       4590.556       4352.500      21755.000   \n",
       "\n",
       "   independant F  independant G  independant H  independant I  independant J   \\\n",
       "0       1414.333      31002.444         23.000         27.444       45845.700   \n",
       "1       1903.800      39073.667       1012.500        808.000       41046.067   \n",
       "2       1903.800      32030.333        466.667        484.909       56157.364   \n",
       "3       1193.100      26164.000        690.556        699.000       22790.000   \n",
       "4       1224.100      29246.600        767.778          1.500       20962.778   \n",
       "\n",
       "   independant K  independant L  Dependant M  \n",
       "0       3501.000      45706.333    45806.333  \n",
       "1       3138.125      41045.933    41057.417  \n",
       "2       4297.100      56173.100    56417.917  \n",
       "3       1743.111      22678.889    22756.667  \n",
       "4       1603.222      20966.500    20890.444  "
      ]
     },
     "execution_count": 3,
     "metadata": {},
     "output_type": "execute_result"
    }
   ],
   "source": [
    "data_df.head()\n"
   ]
  },
  {
   "cell_type": "code",
   "execution_count": 4,
   "metadata": {},
   "outputs": [],
   "source": [
    "x=data_df.drop(['Dependant M'],axis=1).values\n",
    "y=data_df['Dependant M'].values"
   ]
  },
  {
   "cell_type": "code",
   "execution_count": 5,
   "metadata": {},
   "outputs": [],
   "source": [
    "from sklearn.model_selection import train_test_split\n",
    "x_train, x_test, y_train, y_test= train_test_split(x,y,test_size=0.07,random_state=0)"
   ]
  },
  {
   "cell_type": "code",
   "execution_count": 6,
   "metadata": {},
   "outputs": [
    {
     "data": {
      "text/plain": [
       "LinearRegression(copy_X=True, fit_intercept=True, n_jobs=None, normalize=False)"
      ]
     },
     "execution_count": 6,
     "metadata": {},
     "output_type": "execute_result"
    }
   ],
   "source": [
    "from sklearn.linear_model import LinearRegression\n",
    "ml=LinearRegression()\n",
    "ml.fit(x_train,y_train)"
   ]
  },
  {
   "cell_type": "code",
   "execution_count": 7,
   "metadata": {},
   "outputs": [
    {
     "name": "stdout",
     "output_type": "stream",
     "text": [
      "[73122.10095374 24718.95263711 54677.26036911 57708.24256896\n",
      " 38545.6259895  17005.67411414 18406.1204     49081.24232314\n",
      " 17232.81785769 14026.81614705  1625.86943488 18086.99350089\n",
      " 21155.31208881 31731.23956235 19811.54806634 13848.14744407\n",
      " 50374.00876464 33054.21097203 29622.96011638 63867.92946732\n",
      "  8028.27465652 45451.82558183 52245.58273145 31316.95856038\n",
      " 31178.54077559 60386.04250195 55040.48719083 45335.08197967\n",
      " 26893.61817115 53769.77227801 31700.87286172 29910.74268829\n",
      " 39968.78220964 46024.93089634  9699.9250051   6764.69762307\n",
      " 50401.50019815  5850.04476348 10277.65238475 68229.71524155\n",
      " 10088.04415789 31992.98312638 23018.23608189 48546.04251602\n",
      " 49569.04647645 47721.96616469 31354.12384247 33237.7465712\n",
      " 46935.14733982 43727.35889873 71498.88245726 44154.63628771\n",
      " 62939.20683711 16995.40413261 53000.62597892 10178.28000424\n",
      " 38354.15817318 39780.82362871 25568.35241972 25224.33887687\n",
      " 17849.24711432 31083.41751243 28607.35674414   356.60821423\n",
      " 53175.75143401 31625.74848798 29345.74297108 41457.87670563\n",
      " 58716.58975825 82807.16730184 45394.15750871 52623.18835034\n",
      " 82811.14296048 71002.15305905 27313.95133541  2366.74824958]\n"
     ]
    }
   ],
   "source": [
    "y_pred=ml.predict(x_test)\n",
    "print(y_pred)"
   ]
  },
  {
   "cell_type": "code",
   "execution_count": 8,
   "metadata": {},
   "outputs": [
    {
     "data": {
      "text/plain": [
       "array([-1.93581589e-04,  3.56985349e-02,  9.64086573e-02,  8.33910636e-02,\n",
       "       -2.18797621e-02,  1.04061145e-01, -6.26514876e-02, -4.11886451e-03,\n",
       "        6.67734797e-02,  1.13375074e-01,  1.87809247e-01,  8.62204288e-01])"
      ]
     },
     "execution_count": 8,
     "metadata": {},
     "output_type": "execute_result"
    }
   ],
   "source": [
    "ml.coef_\n"
   ]
  },
  {
   "cell_type": "code",
   "execution_count": 9,
   "metadata": {},
   "outputs": [
    {
     "data": {
      "text/plain": [
       "-492.1171757505799"
      ]
     },
     "execution_count": 9,
     "metadata": {},
     "output_type": "execute_result"
    }
   ],
   "source": [
    "ml.intercept_"
   ]
  },
  {
   "cell_type": "code",
   "execution_count": 10,
   "metadata": {},
   "outputs": [
    {
     "data": {
      "text/plain": [
       "0.9281941851067396"
      ]
     },
     "execution_count": 10,
     "metadata": {},
     "output_type": "execute_result"
    }
   ],
   "source": [
    "from sklearn.metrics import r2_score\n",
    "r2_score(y_test,y_pred)\n",
    "    "
   ]
  },
  {
   "cell_type": "code",
   "execution_count": 12,
   "metadata": {},
   "outputs": [
    {
     "data": {
      "text/plain": [
       "Text(0.5, 1.0, 'Actual vs. Predicted')"
      ]
     },
     "execution_count": 12,
     "metadata": {},
     "output_type": "execute_result"
    },
    {
     "data": {
      "image/png": "[encoded data removed]",
      "text/plain": [
       "<Figure size 1080x720 with 1 Axes>"
      ]
     },
     "metadata": {
      "needs_background": "light"
     },
     "output_type": "display_data"
    }
   ],
   "source": [
    "import matplotlib.pyplot as plt\n",
    "plt.figure(figsize=(15,10))\n",
    "plt.scatter(y_test,y_pred)\n",
    "plt.xlabel(\"Actual\")\n",
    "plt.ylabel(\"Predicted\")\n",
    "plt.title(\"Actual vs. Predicted\")"
   ]
  },
  {
   "cell_type": "code",
   "execution_count": 13,
   "metadata": {},
   "outputs": [
    {
     "data": {
      "text/html": [
       "<div>\n",
       "<style scoped>\n",
       "    .dataframe tbody tr th:only-of-type {\n",
       "        vertical-align: middle;\n",
       "    }\n",
       "\n",
       "    .dataframe tbody tr th {\n",
       "        vertical-align: top;\n",
       "    }\n",
       "\n",
       "    .dataframe thead th {\n",
       "        text-align: right;\n",
       "    }\n",
       "</style>\n",
       "<table border=\"1\" class=\"dataframe\">\n",
       "  <thead>\n",
       "    <tr style=\"text-align: right;\">\n",
       "      <th></th>\n",
       "      <th>Actual Value</th>\n",
       "      <th>Predicted Value</th>\n",
       "      <th>Difference</th>\n",
       "    </tr>\n",
       "  </thead>\n",
       "  <tbody>\n",
       "    <tr>\n",
       "      <td>0</td>\n",
       "      <td>75206.800</td>\n",
       "      <td>73122.100954</td>\n",
       "      <td>2084.699046</td>\n",
       "    </tr>\n",
       "    <tr>\n",
       "      <td>1</td>\n",
       "      <td>25000.000</td>\n",
       "      <td>24718.952637</td>\n",
       "      <td>281.047363</td>\n",
       "    </tr>\n",
       "    <tr>\n",
       "      <td>2</td>\n",
       "      <td>56417.917</td>\n",
       "      <td>54677.260369</td>\n",
       "      <td>1740.656631</td>\n",
       "    </tr>\n",
       "    <tr>\n",
       "      <td>3</td>\n",
       "      <td>59351.667</td>\n",
       "      <td>57708.242569</td>\n",
       "      <td>1643.424431</td>\n",
       "    </tr>\n",
       "    <tr>\n",
       "      <td>4</td>\n",
       "      <td>36966.556</td>\n",
       "      <td>38545.625989</td>\n",
       "      <td>-1579.069989</td>\n",
       "    </tr>\n",
       "    <tr>\n",
       "      <td>...</td>\n",
       "      <td>...</td>\n",
       "      <td>...</td>\n",
       "      <td>...</td>\n",
       "    </tr>\n",
       "    <tr>\n",
       "      <td>71</td>\n",
       "      <td>53912.182</td>\n",
       "      <td>52623.188350</td>\n",
       "      <td>1288.993650</td>\n",
       "    </tr>\n",
       "    <tr>\n",
       "      <td>72</td>\n",
       "      <td>83545.455</td>\n",
       "      <td>82811.142960</td>\n",
       "      <td>734.312040</td>\n",
       "    </tr>\n",
       "    <tr>\n",
       "      <td>73</td>\n",
       "      <td>72299.111</td>\n",
       "      <td>71002.153059</td>\n",
       "      <td>1296.957941</td>\n",
       "    </tr>\n",
       "    <tr>\n",
       "      <td>74</td>\n",
       "      <td>28024.545</td>\n",
       "      <td>27313.951335</td>\n",
       "      <td>710.593665</td>\n",
       "    </tr>\n",
       "    <tr>\n",
       "      <td>75</td>\n",
       "      <td>2249.222</td>\n",
       "      <td>2366.748250</td>\n",
       "      <td>-117.526250</td>\n",
       "    </tr>\n",
       "  </tbody>\n",
       "</table>\n",
       "<p>76 rows × 3 columns</p>\n",
       "</div>"
      ],
      "text/plain": [
       "    Actual Value  Predicted Value   Difference\n",
       "0      75206.800     73122.100954  2084.699046\n",
       "1      25000.000     24718.952637   281.047363\n",
       "2      56417.917     54677.260369  1740.656631\n",
       "3      59351.667     57708.242569  1643.424431\n",
       "4      36966.556     38545.625989 -1579.069989\n",
       "..           ...              ...          ...\n",
       "71     53912.182     52623.188350  1288.993650\n",
       "72     83545.455     82811.142960   734.312040\n",
       "73     72299.111     71002.153059  1296.957941\n",
       "74     28024.545     27313.951335   710.593665\n",
       "75      2249.222      2366.748250  -117.526250\n",
       "\n",
       "[76 rows x 3 columns]"
      ]
     },
     "execution_count": 13,
     "metadata": {},
     "output_type": "execute_result"
    }
   ],
   "source": [
    "pred_y_df=pd.DataFrame({\"Actual Value\":y_test,\"Predicted Value\":y_pred,\"Difference\":y_test-y_pred})\n",
    "pred_y_df[0:76]"
   ]
  },
  {
   "cell_type": "code",
   "execution_count": 14,
   "metadata": {},
   "outputs": [
    {
     "name": "stdout",
     "output_type": "stream",
     "text": [
      "Mean Absolute Error: 2110.0802329232574\n",
      "Mean Squared Error: 30823060.692770727\n",
      "Root Mean Squared Error: 5551.85200566178\n"
     ]
    }
   ],
   "source": [
    "from sklearn import metrics\n",
    "import numpy as np\n",
    "print('Mean Absolute Error:', metrics.mean_absolute_error(y_test, y_pred))\n",
    "print('Mean Squared Error:', metrics.mean_squared_error(y_test, y_pred))\n",
    "RMSE= np.sqrt(metrics.mean_squared_error(y_test, y_pred))\n",
    "print('Root Mean Squared Error:',RMSE)"
   ]
  },
  {
   "cell_type": "code",
   "execution_count": 15,
   "metadata": {},
   "outputs": [
    {
     "data": {
      "text/plain": [
       "92017.18199999999"
      ]
     },
     "execution_count": 15,
     "metadata": {},
     "output_type": "execute_result"
    }
   ],
   "source": [
    "y.max()"
   ]
  },
  {
   "cell_type": "code",
   "execution_count": 16,
   "metadata": {},
   "outputs": [
    {
     "data": {
      "text/plain": [
       "966.3330000000001"
      ]
     },
     "execution_count": 16,
     "metadata": {},
     "output_type": "execute_result"
    }
   ],
   "source": [
    "y.min()"
   ]
  },
  {
   "cell_type": "code",
   "execution_count": 17,
   "metadata": {},
   "outputs": [
    {
     "name": "stdout",
     "output_type": "stream",
     "text": [
      "0.06097529091312241\n"
     ]
    }
   ],
   "source": [
    "NRMSE=RMSE/(y.max()-y.min())\n",
    "print(NRMSE)"
   ]
  },
  {
   "cell_type": "code",
   "execution_count": null,
   "metadata": {},
   "outputs": [],
   "source": []
  }
 ],
 "metadata": {
  "kernelspec": {
   "display_name": "Python 3",
   "language": "python",
   "name": "python3"
  },
  "language_info": {
   "codemirror_mode": {
    "name": "ipython",
    "version": 3
   },
   "file_extension": ".py",
   "mimetype": "text/x-python",
   "name": "python",
   "nbconvert_exporter": "python",
   "pygments_lexer": "ipython3",
   "version": "3.7.4"
  }
 },
 "nbformat": 4,
 "nbformat_minor": 2
}
