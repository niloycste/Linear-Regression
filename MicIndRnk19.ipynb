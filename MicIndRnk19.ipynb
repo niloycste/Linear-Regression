{
 "cells": [
  {
   "cell_type": "code",
   "execution_count": 1,
   "metadata": {},
   "outputs": [],
   "source": [
    "import pandas as pd\n",
    "data_df=pd.read_csv(r\"C:\\Users\\Niloy\\Linear Regression\\MicIndRnk19.csv\",header=None)"
   ]
  },
  {
   "cell_type": "code",
   "execution_count": 2,
   "metadata": {},
   "outputs": [],
   "source": [
    "data_df.columns=['independant A','independant B','independant C','independant D','independant E','independant F','independant G','independant H','independant I','independant J ','independant K','independant L','Dependant M']"
   ]
  },
  {
   "cell_type": "code",
   "execution_count": 3,
   "metadata": {},
   "outputs": [
    {
     "data": {
      "text/html": [
       "<div>\n",
       "<style scoped>\n",
       "    .dataframe tbody tr th:only-of-type {\n",
       "        vertical-align: middle;\n",
       "    }\n",
       "\n",
       "    .dataframe tbody tr th {\n",
       "        vertical-align: top;\n",
       "    }\n",
       "\n",
       "    .dataframe thead th {\n",
       "        text-align: right;\n",
       "    }\n",
       "</style>\n",
       "<table border=\"1\" class=\"dataframe\">\n",
       "  <thead>\n",
       "    <tr style=\"text-align: right;\">\n",
       "      <th></th>\n",
       "      <th>independant A</th>\n",
       "      <th>independant B</th>\n",
       "      <th>independant C</th>\n",
       "      <th>independant D</th>\n",
       "      <th>independant E</th>\n",
       "      <th>independant F</th>\n",
       "      <th>independant G</th>\n",
       "      <th>independant H</th>\n",
       "      <th>independant I</th>\n",
       "      <th>independant J</th>\n",
       "      <th>independant K</th>\n",
       "      <th>independant L</th>\n",
       "      <th>Dependant M</th>\n",
       "    </tr>\n",
       "  </thead>\n",
       "  <tbody>\n",
       "    <tr>\n",
       "      <td>0</td>\n",
       "      <td>272844.158</td>\n",
       "      <td>46127.421</td>\n",
       "      <td>4180.474</td>\n",
       "      <td>4633.895</td>\n",
       "      <td>45126.684</td>\n",
       "      <td>1393.684</td>\n",
       "      <td>30728.368</td>\n",
       "      <td>33.909</td>\n",
       "      <td>25.433</td>\n",
       "      <td>46298.789</td>\n",
       "      <td>3457.333</td>\n",
       "      <td>46481.947</td>\n",
       "      <td>46429.316</td>\n",
       "    </tr>\n",
       "    <tr>\n",
       "      <td>1</td>\n",
       "      <td>247034.053</td>\n",
       "      <td>58079.053</td>\n",
       "      <td>2644.476</td>\n",
       "      <td>5994.158</td>\n",
       "      <td>42515.632</td>\n",
       "      <td>1887.368</td>\n",
       "      <td>38769.105</td>\n",
       "      <td>1004.850</td>\n",
       "      <td>804.300</td>\n",
       "      <td>41050.368</td>\n",
       "      <td>3136.053</td>\n",
       "      <td>41050.263</td>\n",
       "      <td>40700.737</td>\n",
       "    </tr>\n",
       "    <tr>\n",
       "      <td>2</td>\n",
       "      <td>299519.842</td>\n",
       "      <td>56683.632</td>\n",
       "      <td>3279.095</td>\n",
       "      <td>4911.737</td>\n",
       "      <td>56633.500</td>\n",
       "      <td>1887.368</td>\n",
       "      <td>32357.550</td>\n",
       "      <td>446.000</td>\n",
       "      <td>489.316</td>\n",
       "      <td>56945.053</td>\n",
       "      <td>4349.143</td>\n",
       "      <td>56855.000</td>\n",
       "      <td>55334.947</td>\n",
       "    </tr>\n",
       "    <tr>\n",
       "      <td>3</td>\n",
       "      <td>168485.000</td>\n",
       "      <td>38824.316</td>\n",
       "      <td>1611.947</td>\n",
       "      <td>3845.789</td>\n",
       "      <td>24012.632</td>\n",
       "      <td>1150.211</td>\n",
       "      <td>26420.368</td>\n",
       "      <td>671.474</td>\n",
       "      <td>675.211</td>\n",
       "      <td>22953.158</td>\n",
       "      <td>1755.895</td>\n",
       "      <td>22847.895</td>\n",
       "      <td>22895.714</td>\n",
       "    </tr>\n",
       "    <tr>\n",
       "      <td>4</td>\n",
       "      <td>176175.053</td>\n",
       "      <td>40690.211</td>\n",
       "      <td>4637.583</td>\n",
       "      <td>4382.158</td>\n",
       "      <td>22075.316</td>\n",
       "      <td>1228.200</td>\n",
       "      <td>29518.579</td>\n",
       "      <td>754.368</td>\n",
       "      <td>2.261</td>\n",
       "      <td>20336.607</td>\n",
       "      <td>1556.519</td>\n",
       "      <td>20372.321</td>\n",
       "      <td>20267.133</td>\n",
       "    </tr>\n",
       "  </tbody>\n",
       "</table>\n",
       "</div>"
      ],
      "text/plain": [
       "   independant A  independant B  independant C  independant D  independant E  \\\n",
       "0     272844.158      46127.421       4180.474       4633.895      45126.684   \n",
       "1     247034.053      58079.053       2644.476       5994.158      42515.632   \n",
       "2     299519.842      56683.632       3279.095       4911.737      56633.500   \n",
       "3     168485.000      38824.316       1611.947       3845.789      24012.632   \n",
       "4     176175.053      40690.211       4637.583       4382.158      22075.316   \n",
       "\n",
       "   independant F  independant G  independant H  independant I  independant J   \\\n",
       "0       1393.684      30728.368         33.909         25.433       46298.789   \n",
       "1       1887.368      38769.105       1004.850        804.300       41050.368   \n",
       "2       1887.368      32357.550        446.000        489.316       56945.053   \n",
       "3       1150.211      26420.368        671.474        675.211       22953.158   \n",
       "4       1228.200      29518.579        754.368          2.261       20336.607   \n",
       "\n",
       "   independant K  independant L  Dependant M  \n",
       "0       3457.333      46481.947    46429.316  \n",
       "1       3136.053      41050.263    40700.737  \n",
       "2       4349.143      56855.000    55334.947  \n",
       "3       1755.895      22847.895    22895.714  \n",
       "4       1556.519      20372.321    20267.133  "
      ]
     },
     "execution_count": 3,
     "metadata": {},
     "output_type": "execute_result"
    }
   ],
   "source": [
    "data_df.head()\n"
   ]
  },
  {
   "cell_type": "code",
   "execution_count": 4,
   "metadata": {},
   "outputs": [],
   "source": [
    "x=data_df.drop(['Dependant M'],axis=1).values\n",
    "y=data_df['Dependant M'].values\n"
   ]
  },
  {
   "cell_type": "code",
   "execution_count": 5,
   "metadata": {},
   "outputs": [],
   "source": [
    "from sklearn.model_selection import train_test_split\n",
    "x_train, x_test, y_train, y_test= train_test_split(x,y,test_size=0.07,random_state=0)"
   ]
  },
  {
   "cell_type": "code",
   "execution_count": 6,
   "metadata": {},
   "outputs": [
    {
     "data": {
      "text/plain": [
       "LinearRegression(copy_X=True, fit_intercept=True, n_jobs=None, normalize=False)"
      ]
     },
     "execution_count": 6,
     "metadata": {},
     "output_type": "execute_result"
    }
   ],
   "source": [
    "from sklearn.linear_model import LinearRegression\n",
    "ml=LinearRegression()\n",
    "ml.fit(x_train,y_train)"
   ]
  },
  {
   "cell_type": "code",
   "execution_count": 7,
   "metadata": {},
   "outputs": [
    {
     "name": "stdout",
     "output_type": "stream",
     "text": [
      "[73555.05620092 24687.94271806 55302.07006214 58273.84762977\n",
      " 39338.87461637 17203.64627162 18755.09245572 48570.35086144\n",
      " 17184.62517775 14034.81913004  2743.69456998 18379.51533293\n",
      " 21096.44242526 32212.50819662 20044.70265668 13447.54377079\n",
      " 50432.85415245 32659.5955269  29803.88535056 63836.22776116\n",
      "  8911.36633031 45048.62003853 52806.04526669 31315.24568102\n",
      " 31213.369141   59926.86606811 55637.27226221 45110.59778103\n",
      " 27016.06314265 53826.55086719 32146.59346779 29080.67120329\n",
      " 40035.54484366 45536.24768965  9447.05522721  5805.17186805\n",
      " 50539.14297953  5440.27358562 10922.92337131 67664.644475\n",
      "  9705.76715134 31801.57260711 23295.82341151 48510.39753268\n",
      " 49418.68234619 48025.03873416 31281.80737251 33844.13755798\n",
      " 47257.11119435 43850.90979544 71810.85712554 43999.627023\n",
      " 63595.46863719 17399.1165201  52944.6684302  10796.2267187\n",
      " 38616.10148463 39893.93818272 25676.98572013 25451.97216485\n",
      " 17631.69519409 31162.46676479 29351.2304916   1236.13025773\n",
      " 53219.18579891 31489.62913682 29290.99459074 41265.94879854\n",
      " 58523.8598871  80435.96536914 45229.50412227 52258.38787929\n",
      " 80153.73951385 71761.62659796 27380.07250289  1506.40778379]\n"
     ]
    }
   ],
   "source": [
    "y_pred=ml.predict(x_test)\n",
    "print(y_pred)"
   ]
  },
  {
   "cell_type": "code",
   "execution_count": 8,
   "metadata": {},
   "outputs": [
    {
     "data": {
      "text/plain": [
       "array([ 3.84958454e-04,  2.50762740e-02,  9.30026406e-02,  7.11441849e-02,\n",
       "        2.68948632e-02,  9.78433379e-02, -4.73465425e-02, -5.30681274e-02,\n",
       "        5.24393331e-02,  4.97509389e-02,  4.50527139e-01,  8.59330517e-01])"
      ]
     },
     "execution_count": 8,
     "metadata": {},
     "output_type": "execute_result"
    }
   ],
   "source": [
    "ml.coef_\n"
   ]
  },
  {
   "cell_type": "code",
   "execution_count": 9,
   "metadata": {},
   "outputs": [
    {
     "data": {
      "text/plain": [
       "-542.2605719860876"
      ]
     },
     "execution_count": 9,
     "metadata": {},
     "output_type": "execute_result"
    }
   ],
   "source": [
    "ml.intercept_"
   ]
  },
  {
   "cell_type": "code",
   "execution_count": 10,
   "metadata": {},
   "outputs": [
    {
     "data": {
      "text/plain": [
       "0.9273144308133883"
      ]
     },
     "execution_count": 10,
     "metadata": {},
     "output_type": "execute_result"
    }
   ],
   "source": [
    "from sklearn.metrics import r2_score\n",
    "r2_score(y_test,y_pred)\n",
    "    "
   ]
  },
  {
   "cell_type": "code",
   "execution_count": 12,
   "metadata": {},
   "outputs": [
    {
     "data": {
      "text/plain": [
       "Text(0.5, 1.0, 'Actual vs. Predicted')"
      ]
     },
     "execution_count": 12,
     "metadata": {},
     "output_type": "execute_result"
    },
    {
     "data": {
      "image/png": "[encoded data removed]",
      "text/plain": [
       "<Figure size 1080x720 with 1 Axes>"
      ]
     },
     "metadata": {
      "needs_background": "light"
     },
     "output_type": "display_data"
    }
   ],
   "source": [
    "import matplotlib.pyplot as plt\n",
    "plt.figure(figsize=(15,10))\n",
    "plt.scatter(y_test,y_pred)\n",
    "plt.xlabel(\"Actual\")\n",
    "plt.ylabel(\"Predicted\")\n",
    "plt.title(\"Actual vs. Predicted\")"
   ]
  },
  {
   "cell_type": "code",
   "execution_count": 13,
   "metadata": {},
   "outputs": [
    {
     "data": {
      "text/html": [
       "<div>\n",
       "<style scoped>\n",
       "    .dataframe tbody tr th:only-of-type {\n",
       "        vertical-align: middle;\n",
       "    }\n",
       "\n",
       "    .dataframe tbody tr th {\n",
       "        vertical-align: top;\n",
       "    }\n",
       "\n",
       "    .dataframe thead th {\n",
       "        text-align: right;\n",
       "    }\n",
       "</style>\n",
       "<table border=\"1\" class=\"dataframe\">\n",
       "  <thead>\n",
       "    <tr style=\"text-align: right;\">\n",
       "      <th></th>\n",
       "      <th>Actual Value</th>\n",
       "      <th>Predicted Value</th>\n",
       "      <th>Difference</th>\n",
       "    </tr>\n",
       "  </thead>\n",
       "  <tbody>\n",
       "    <tr>\n",
       "      <td>0</td>\n",
       "      <td>74837.136</td>\n",
       "      <td>73555.056201</td>\n",
       "      <td>1282.079799</td>\n",
       "    </tr>\n",
       "    <tr>\n",
       "      <td>1</td>\n",
       "      <td>24996.467</td>\n",
       "      <td>24687.942718</td>\n",
       "      <td>308.524282</td>\n",
       "    </tr>\n",
       "    <tr>\n",
       "      <td>2</td>\n",
       "      <td>55334.947</td>\n",
       "      <td>55302.070062</td>\n",
       "      <td>32.876938</td>\n",
       "    </tr>\n",
       "    <tr>\n",
       "      <td>3</td>\n",
       "      <td>57746.684</td>\n",
       "      <td>58273.847630</td>\n",
       "      <td>-527.163630</td>\n",
       "    </tr>\n",
       "    <tr>\n",
       "      <td>4</td>\n",
       "      <td>36413.591</td>\n",
       "      <td>39338.874616</td>\n",
       "      <td>-2925.283616</td>\n",
       "    </tr>\n",
       "    <tr>\n",
       "      <td>...</td>\n",
       "      <td>...</td>\n",
       "      <td>...</td>\n",
       "      <td>...</td>\n",
       "    </tr>\n",
       "    <tr>\n",
       "      <td>71</td>\n",
       "      <td>53541.789</td>\n",
       "      <td>52258.387879</td>\n",
       "      <td>1283.401121</td>\n",
       "    </tr>\n",
       "    <tr>\n",
       "      <td>72</td>\n",
       "      <td>81929.238</td>\n",
       "      <td>80153.739514</td>\n",
       "      <td>1775.498486</td>\n",
       "    </tr>\n",
       "    <tr>\n",
       "      <td>73</td>\n",
       "      <td>74837.136</td>\n",
       "      <td>71761.626598</td>\n",
       "      <td>3075.509402</td>\n",
       "    </tr>\n",
       "    <tr>\n",
       "      <td>74</td>\n",
       "      <td>28379.474</td>\n",
       "      <td>27380.072503</td>\n",
       "      <td>999.401497</td>\n",
       "    </tr>\n",
       "    <tr>\n",
       "      <td>75</td>\n",
       "      <td>1681.053</td>\n",
       "      <td>1506.407784</td>\n",
       "      <td>174.645216</td>\n",
       "    </tr>\n",
       "  </tbody>\n",
       "</table>\n",
       "<p>76 rows × 3 columns</p>\n",
       "</div>"
      ],
      "text/plain": [
       "    Actual Value  Predicted Value   Difference\n",
       "0      74837.136     73555.056201  1282.079799\n",
       "1      24996.467     24687.942718   308.524282\n",
       "2      55334.947     55302.070062    32.876938\n",
       "3      57746.684     58273.847630  -527.163630\n",
       "4      36413.591     39338.874616 -2925.283616\n",
       "..           ...              ...          ...\n",
       "71     53541.789     52258.387879  1283.401121\n",
       "72     81929.238     80153.739514  1775.498486\n",
       "73     74837.136     71761.626598  3075.509402\n",
       "74     28379.474     27380.072503   999.401497\n",
       "75      1681.053      1506.407784   174.645216\n",
       "\n",
       "[76 rows x 3 columns]"
      ]
     },
     "execution_count": 13,
     "metadata": {},
     "output_type": "execute_result"
    }
   ],
   "source": [
    "pred_y_df=pd.DataFrame({\"Actual Value\":y_test,\"Predicted Value\":y_pred,\"Difference\":y_test-y_pred})\n",
    "pred_y_df[0:76]"
   ]
  },
  {
   "cell_type": "code",
   "execution_count": 14,
   "metadata": {},
   "outputs": [
    {
     "name": "stdout",
     "output_type": "stream",
     "text": [
      "Mean Absolute Error: 2213.143179150683\n",
      "Mean Squared Error: 31503468.172741797\n",
      "Root Mean Squared Error: 5612.795041041655\n"
     ]
    }
   ],
   "source": [
    "from sklearn import metrics\n",
    "import numpy as np\n",
    "print('Mean Absolute Error:', metrics.mean_absolute_error(y_test, y_pred))\n",
    "print('Mean Squared Error:', metrics.mean_squared_error(y_test, y_pred))\n",
    "RMSE= np.sqrt(metrics.mean_squared_error(y_test, y_pred))\n",
    "print('Root Mean Squared Error:',RMSE)"
   ]
  },
  {
   "cell_type": "code",
   "execution_count": 15,
   "metadata": {},
   "outputs": [
    {
     "data": {
      "text/plain": [
       "89957.31599999999"
      ]
     },
     "execution_count": 15,
     "metadata": {},
     "output_type": "execute_result"
    }
   ],
   "source": [
    "y.max()"
   ]
  },
  {
   "cell_type": "code",
   "execution_count": 16,
   "metadata": {},
   "outputs": [
    {
     "data": {
      "text/plain": [
       "1681.0529999999999"
      ]
     },
     "execution_count": 16,
     "metadata": {},
     "output_type": "execute_result"
    }
   ],
   "source": [
    "y.min()"
   ]
  },
  {
   "cell_type": "code",
   "execution_count": 17,
   "metadata": {},
   "outputs": [
    {
     "name": "stdout",
     "output_type": "stream",
     "text": [
      "0.06358215504706691\n"
     ]
    }
   ],
   "source": [
    "NRMSE=RMSE/(y.max()-y.min())\n",
    "print(NRMSE)"
   ]
  },
  {
   "cell_type": "code",
   "execution_count": null,
   "metadata": {},
   "outputs": [],
   "source": []
  }
 ],
 "metadata": {
  "kernelspec": {
   "display_name": "Python 3",
   "language": "python",
   "name": "python3"
  },
  "language_info": {
   "codemirror_mode": {
    "name": "ipython",
    "version": 3
   },
   "file_extension": ".py",
   "mimetype": "text/x-python",
   "name": "python",
   "nbconvert_exporter": "python",
   "pygments_lexer": "ipython3",
   "version": "3.7.4"
  }
 },
 "nbformat": 4,
 "nbformat_minor": 2
}
