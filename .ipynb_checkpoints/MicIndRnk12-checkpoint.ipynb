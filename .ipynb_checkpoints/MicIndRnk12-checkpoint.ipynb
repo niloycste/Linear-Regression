{
 "cells": [
  {
   "cell_type": "code",
   "execution_count": 1,
   "metadata": {},
   "outputs": [],
   "source": [
    "import pandas as pd\n",
    "data_df=pd.read_csv(r\"C:\\Users\\Niloy\\Linear Regression\\MicIndRnk12.csv\",header=None)"
   ]
  },
  {
   "cell_type": "code",
   "execution_count": 2,
   "metadata": {},
   "outputs": [],
   "source": [
    "data_df.columns=['independant A','independant B','independant C','independant D','independant E','independant F','independant G','independant H','independant I','independant J ','independant K','independant L','Dependant M']"
   ]
  },
  {
   "cell_type": "code",
   "execution_count": 3,
   "metadata": {},
   "outputs": [
    {
     "data": {
      "text/html": [
       "<div>\n",
       "<style scoped>\n",
       "    .dataframe tbody tr th:only-of-type {\n",
       "        vertical-align: middle;\n",
       "    }\n",
       "\n",
       "    .dataframe tbody tr th {\n",
       "        vertical-align: top;\n",
       "    }\n",
       "\n",
       "    .dataframe thead th {\n",
       "        text-align: right;\n",
       "    }\n",
       "</style>\n",
       "<table border=\"1\" class=\"dataframe\">\n",
       "  <thead>\n",
       "    <tr style=\"text-align: right;\">\n",
       "      <th></th>\n",
       "      <th>independant A</th>\n",
       "      <th>independant B</th>\n",
       "      <th>independant C</th>\n",
       "      <th>independant D</th>\n",
       "      <th>independant E</th>\n",
       "      <th>independant F</th>\n",
       "      <th>independant G</th>\n",
       "      <th>independant H</th>\n",
       "      <th>independant I</th>\n",
       "      <th>independant J</th>\n",
       "      <th>independant K</th>\n",
       "      <th>independant L</th>\n",
       "      <th>Dependant M</th>\n",
       "    </tr>\n",
       "  </thead>\n",
       "  <tbody>\n",
       "    <tr>\n",
       "      <td>0</td>\n",
       "      <td>269543.750</td>\n",
       "      <td>45038.167</td>\n",
       "      <td>4182.083</td>\n",
       "      <td>4624.500</td>\n",
       "      <td>45565.769</td>\n",
       "      <td>1443.250</td>\n",
       "      <td>30920.583</td>\n",
       "      <td>33.077</td>\n",
       "      <td>25.647</td>\n",
       "      <td>45731.417</td>\n",
       "      <td>3486.917</td>\n",
       "      <td>45446.417</td>\n",
       "      <td>45613.083</td>\n",
       "    </tr>\n",
       "    <tr>\n",
       "      <td>1</td>\n",
       "      <td>252644.583</td>\n",
       "      <td>57477.750</td>\n",
       "      <td>2618.667</td>\n",
       "      <td>5991.917</td>\n",
       "      <td>42316.077</td>\n",
       "      <td>1909.857</td>\n",
       "      <td>39508.471</td>\n",
       "      <td>1006.375</td>\n",
       "      <td>803.889</td>\n",
       "      <td>41046.067</td>\n",
       "      <td>3138.125</td>\n",
       "      <td>41045.933</td>\n",
       "      <td>41057.417</td>\n",
       "    </tr>\n",
       "    <tr>\n",
       "      <td>2</td>\n",
       "      <td>299415.167</td>\n",
       "      <td>56682.500</td>\n",
       "      <td>3342.583</td>\n",
       "      <td>4790.333</td>\n",
       "      <td>56433.500</td>\n",
       "      <td>1909.857</td>\n",
       "      <td>32118.167</td>\n",
       "      <td>479.333</td>\n",
       "      <td>483.083</td>\n",
       "      <td>56005.333</td>\n",
       "      <td>4275.583</td>\n",
       "      <td>56028.750</td>\n",
       "      <td>56417.917</td>\n",
       "    </tr>\n",
       "    <tr>\n",
       "      <td>3</td>\n",
       "      <td>166374.333</td>\n",
       "      <td>39099.333</td>\n",
       "      <td>1604.750</td>\n",
       "      <td>3949.500</td>\n",
       "      <td>23591.083</td>\n",
       "      <td>1193.083</td>\n",
       "      <td>26410.692</td>\n",
       "      <td>675.647</td>\n",
       "      <td>705.000</td>\n",
       "      <td>22888.824</td>\n",
       "      <td>1750.588</td>\n",
       "      <td>22847.895</td>\n",
       "      <td>22895.714</td>\n",
       "    </tr>\n",
       "    <tr>\n",
       "      <td>4</td>\n",
       "      <td>176323.250</td>\n",
       "      <td>40324.750</td>\n",
       "      <td>4605.417</td>\n",
       "      <td>4298.833</td>\n",
       "      <td>21766.500</td>\n",
       "      <td>1232.385</td>\n",
       "      <td>29415.333</td>\n",
       "      <td>745.154</td>\n",
       "      <td>1.500</td>\n",
       "      <td>20910.417</td>\n",
       "      <td>1599.167</td>\n",
       "      <td>20964.667</td>\n",
       "      <td>20667.833</td>\n",
       "    </tr>\n",
       "  </tbody>\n",
       "</table>\n",
       "</div>"
      ],
      "text/plain": [
       "   independant A  independant B  independant C  independant D  independant E  \\\n",
       "0     269543.750      45038.167       4182.083       4624.500      45565.769   \n",
       "1     252644.583      57477.750       2618.667       5991.917      42316.077   \n",
       "2     299415.167      56682.500       3342.583       4790.333      56433.500   \n",
       "3     166374.333      39099.333       1604.750       3949.500      23591.083   \n",
       "4     176323.250      40324.750       4605.417       4298.833      21766.500   \n",
       "\n",
       "   independant F  independant G  independant H  independant I  independant J   \\\n",
       "0       1443.250      30920.583         33.077         25.647       45731.417   \n",
       "1       1909.857      39508.471       1006.375        803.889       41046.067   \n",
       "2       1909.857      32118.167        479.333        483.083       56005.333   \n",
       "3       1193.083      26410.692        675.647        705.000       22888.824   \n",
       "4       1232.385      29415.333        745.154          1.500       20910.417   \n",
       "\n",
       "   independant K  independant L  Dependant M  \n",
       "0       3486.917      45446.417    45613.083  \n",
       "1       3138.125      41045.933    41057.417  \n",
       "2       4275.583      56028.750    56417.917  \n",
       "3       1750.588      22847.895    22895.714  \n",
       "4       1599.167      20964.667    20667.833  "
      ]
     },
     "execution_count": 3,
     "metadata": {},
     "output_type": "execute_result"
    }
   ],
   "source": [
    "data_df.head()\n"
   ]
  },
  {
   "cell_type": "code",
   "execution_count": 4,
   "metadata": {},
   "outputs": [],
   "source": [
    "x=data_df.drop(['Dependant M'],axis=1).values\n",
    "y=data_df['Dependant M'].values"
   ]
  },
  {
   "cell_type": "code",
   "execution_count": 5,
   "metadata": {},
   "outputs": [],
   "source": [
    "from sklearn.model_selection import train_test_split\n",
    "x_train, x_test, y_train, y_test= train_test_split(x,y,test_size=0.10,random_state=0)"
   ]
  },
  {
   "cell_type": "code",
   "execution_count": 6,
   "metadata": {},
   "outputs": [
    {
     "data": {
      "text/plain": [
       "LinearRegression(copy_X=True, fit_intercept=True, n_jobs=None, normalize=False)"
      ]
     },
     "execution_count": 6,
     "metadata": {},
     "output_type": "execute_result"
    }
   ],
   "source": [
    "from sklearn.linear_model import LinearRegression\n",
    "ml=LinearRegression()\n",
    "ml.fit(x_train,y_train)"
   ]
  },
  {
   "cell_type": "code",
   "execution_count": 7,
   "metadata": {},
   "outputs": [
    {
     "name": "stdout",
     "output_type": "stream",
     "text": [
      "[72786.79241493 24668.95074195 54270.26612423 57731.09264516\n",
      " 38496.43683067 15924.80520999 18308.30734245 48962.61201518\n",
      " 17055.37270208 14154.70862906  1542.68685886 18056.05055985\n",
      " 21135.59779262 31669.32743363 19640.24287974 13851.2564947\n",
      " 50173.0850158  33064.66098511 29708.04655451 63950.57702\n",
      "  8472.16858323 45380.67432951 52234.09737227 31248.10858515\n",
      " 31159.13246088 60475.75558087 54921.92393895 45336.0423714\n",
      " 26125.44161318 53630.25274556 31614.76765898 29213.08860111\n",
      " 39821.10870326 45749.74830586  8935.04022558  7099.05741971\n",
      " 50220.68043113  5530.95223698 11023.97516504 68292.87723973\n",
      " 10478.23459969 31706.32762399 23121.45203493 48571.02376608\n",
      " 49513.16047348 47772.06377035 31410.15506495 33308.60661266\n",
      " 46678.94731203 43496.92836056 72810.82576747 44055.46883909\n",
      " 62415.1329126  17177.74014771 52817.94416719  9687.15432242\n",
      " 38414.03774755 39865.45236257 25450.62362661 25247.36866073\n",
      " 17599.26210983 30996.7779651  28464.86322566   862.71380798\n",
      " 53216.93916738 31483.6729192  29573.40531401 41352.74387857\n",
      " 58185.16485552 84232.67451012 45390.74602638 52575.76944148\n",
      " 80483.32985238 71036.64866163 27216.71674897  2613.12012743\n",
      " 55717.36609173 63472.00252603 46920.28551938 29059.16460853\n",
      "  9591.85006667 14499.93182724 14103.25696545 40005.13471004\n",
      " 42865.82332336 21172.28947215 11421.76148086 58881.4873419\n",
      " 59014.80800126 63382.03035597 89245.94556071 61526.58500826\n",
      " 41550.77065689  8731.82579395 70472.43130219 67799.5034116\n",
      " 11163.50818954 44320.98091211 21545.01420553 30788.00444876\n",
      " 72569.26433906 41978.12838316 24735.46435542 48192.18449983\n",
      " 29107.93316599 33193.06593029 28492.81862517 18698.10528893]\n"
     ]
    }
   ],
   "source": [
    "y_pred=ml.predict(x_test)\n",
    "print(y_pred)"
   ]
  },
  {
   "cell_type": "code",
   "execution_count": 8,
   "metadata": {},
   "outputs": [
    {
     "data": {
      "text/plain": [
       "array([ 1.76923403e-04,  4.04138575e-02,  6.75159181e-02, -1.45923244e-02,\n",
       "        3.40823840e-03,  9.78008032e-02, -4.79151940e-02, -2.26505960e-02,\n",
       "        7.64040435e-02,  1.05793169e-01,  3.66093010e-02,  8.56398919e-01])"
      ]
     },
     "execution_count": 8,
     "metadata": {},
     "output_type": "execute_result"
    }
   ],
   "source": [
    "ml.coef_\n"
   ]
  },
  {
   "cell_type": "code",
   "execution_count": 9,
   "metadata": {},
   "outputs": [
    {
     "data": {
      "text/plain": [
       "-677.0585603920699"
      ]
     },
     "execution_count": 9,
     "metadata": {},
     "output_type": "execute_result"
    }
   ],
   "source": [
    "ml.intercept_"
   ]
  },
  {
   "cell_type": "code",
   "execution_count": 10,
   "metadata": {},
   "outputs": [
    {
     "data": {
      "text/plain": [
       "0.9498654555824204"
      ]
     },
     "execution_count": 10,
     "metadata": {},
     "output_type": "execute_result"
    }
   ],
   "source": [
    "from sklearn.metrics import r2_score\n",
    "r2_score(y_test,y_pred)\n",
    "    "
   ]
  },
  {
   "cell_type": "code",
   "execution_count": 13,
   "metadata": {},
   "outputs": [
    {
     "data": {
      "text/plain": [
       "Text(0.5, 1.0, 'Actual vs. Predicted')"
      ]
     },
     "execution_count": 13,
     "metadata": {},
     "output_type": "execute_result"
    },
    {
     "data": {
      "image/png": "[encoded data removed]",
      "text/plain": [
       "<Figure size 1080x720 with 1 Axes>"
      ]
     },
     "metadata": {
      "needs_background": "light"
     },
     "output_type": "display_data"
    }
   ],
   "source": [
    "import matplotlib.pyplot as plt\n",
    "plt.figure(figsize=(15,10))\n",
    "plt.scatter(y_test,y_pred)\n",
    "plt.xlabel(\"Actual\")\n",
    "plt.ylabel(\"Predicted\")\n",
    "plt.title(\"Actual vs. Predicted\")"
   ]
  },
  {
   "cell_type": "code",
   "execution_count": 12,
   "metadata": {},
   "outputs": [
    {
     "data": {
      "text/html": [
       "<div>\n",
       "<style scoped>\n",
       "    .dataframe tbody tr th:only-of-type {\n",
       "        vertical-align: middle;\n",
       "    }\n",
       "\n",
       "    .dataframe tbody tr th {\n",
       "        vertical-align: top;\n",
       "    }\n",
       "\n",
       "    .dataframe thead th {\n",
       "        text-align: right;\n",
       "    }\n",
       "</style>\n",
       "<table border=\"1\" class=\"dataframe\">\n",
       "  <thead>\n",
       "    <tr style=\"text-align: right;\">\n",
       "      <th></th>\n",
       "      <th>Actual Value</th>\n",
       "      <th>Predicted Value</th>\n",
       "      <th>Difference</th>\n",
       "    </tr>\n",
       "  </thead>\n",
       "  <tbody>\n",
       "    <tr>\n",
       "      <td>0</td>\n",
       "      <td>75060.438</td>\n",
       "      <td>72786.792415</td>\n",
       "      <td>2273.645585</td>\n",
       "    </tr>\n",
       "    <tr>\n",
       "      <td>1</td>\n",
       "      <td>24988.364</td>\n",
       "      <td>24668.950742</td>\n",
       "      <td>319.413258</td>\n",
       "    </tr>\n",
       "    <tr>\n",
       "      <td>2</td>\n",
       "      <td>56417.917</td>\n",
       "      <td>54270.266124</td>\n",
       "      <td>2147.650876</td>\n",
       "    </tr>\n",
       "    <tr>\n",
       "      <td>3</td>\n",
       "      <td>58167.077</td>\n",
       "      <td>57731.092645</td>\n",
       "      <td>435.984355</td>\n",
       "    </tr>\n",
       "    <tr>\n",
       "      <td>4</td>\n",
       "      <td>37024.917</td>\n",
       "      <td>38496.436831</td>\n",
       "      <td>-1471.519831</td>\n",
       "    </tr>\n",
       "    <tr>\n",
       "      <td>...</td>\n",
       "      <td>...</td>\n",
       "      <td>...</td>\n",
       "      <td>...</td>\n",
       "    </tr>\n",
       "    <tr>\n",
       "      <td>103</td>\n",
       "      <td>50000.000</td>\n",
       "      <td>48192.184500</td>\n",
       "      <td>1807.815500</td>\n",
       "    </tr>\n",
       "    <tr>\n",
       "      <td>104</td>\n",
       "      <td>30000.000</td>\n",
       "      <td>29107.933166</td>\n",
       "      <td>892.066834</td>\n",
       "    </tr>\n",
       "    <tr>\n",
       "      <td>105</td>\n",
       "      <td>28847.250</td>\n",
       "      <td>33193.065930</td>\n",
       "      <td>-4345.815930</td>\n",
       "    </tr>\n",
       "    <tr>\n",
       "      <td>106</td>\n",
       "      <td>28847.250</td>\n",
       "      <td>28492.818625</td>\n",
       "      <td>354.431375</td>\n",
       "    </tr>\n",
       "    <tr>\n",
       "      <td>107</td>\n",
       "      <td>19978.550</td>\n",
       "      <td>18698.105289</td>\n",
       "      <td>1280.444711</td>\n",
       "    </tr>\n",
       "  </tbody>\n",
       "</table>\n",
       "<p>108 rows × 3 columns</p>\n",
       "</div>"
      ],
      "text/plain": [
       "     Actual Value  Predicted Value   Difference\n",
       "0       75060.438     72786.792415  2273.645585\n",
       "1       24988.364     24668.950742   319.413258\n",
       "2       56417.917     54270.266124  2147.650876\n",
       "3       58167.077     57731.092645   435.984355\n",
       "4       37024.917     38496.436831 -1471.519831\n",
       "..            ...              ...          ...\n",
       "103     50000.000     48192.184500  1807.815500\n",
       "104     30000.000     29107.933166   892.066834\n",
       "105     28847.250     33193.065930 -4345.815930\n",
       "106     28847.250     28492.818625   354.431375\n",
       "107     19978.550     18698.105289  1280.444711\n",
       "\n",
       "[108 rows x 3 columns]"
      ]
     },
     "execution_count": 12,
     "metadata": {},
     "output_type": "execute_result"
    }
   ],
   "source": [
    "pred_y_df=pd.DataFrame({\"Actual Value\":y_test,\"Predicted Value\":y_pred,\"Difference\":y_test-y_pred})\n",
    "pred_y_df[0:108]"
   ]
  },
  {
   "cell_type": "code",
   "execution_count": null,
   "metadata": {},
   "outputs": [],
   "source": []
  }
 ],
 "metadata": {
  "kernelspec": {
   "display_name": "Python 3",
   "language": "python",
   "name": "python3"
  },
  "language_info": {
   "codemirror_mode": {
    "name": "ipython",
    "version": 3
   },
   "file_extension": ".py",
   "mimetype": "text/x-python",
   "name": "python",
   "nbconvert_exporter": "python",
   "pygments_lexer": "ipython3",
   "version": "3.7.4"
  }
 },
 "nbformat": 4,
 "nbformat_minor": 2
}
