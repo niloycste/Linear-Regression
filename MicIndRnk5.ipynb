{
 "cells": [
  {
   "cell_type": "code",
   "execution_count": 1,
   "metadata": {},
   "outputs": [],
   "source": [
    "import pandas as pd\n",
    "data_df=pd.read_csv(r\"C:\\Users\\Niloy\\Linear Regression\\MicIndRnk5.csv\",header=None)"
   ]
  },
  {
   "cell_type": "code",
   "execution_count": 2,
   "metadata": {},
   "outputs": [],
   "source": [
    "data_df.columns=['independant A','independant B','independant C','independant D','independant E','independant F','independant G','independant H','independant I','independant J ','independant K','independant L','Dependant M']"
   ]
  },
  {
   "cell_type": "code",
   "execution_count": 3,
   "metadata": {},
   "outputs": [
    {
     "data": {
      "text/html": [
       "<div>\n",
       "<style scoped>\n",
       "    .dataframe tbody tr th:only-of-type {\n",
       "        vertical-align: middle;\n",
       "    }\n",
       "\n",
       "    .dataframe tbody tr th {\n",
       "        vertical-align: top;\n",
       "    }\n",
       "\n",
       "    .dataframe thead th {\n",
       "        text-align: right;\n",
       "    }\n",
       "</style>\n",
       "<table border=\"1\" class=\"dataframe\">\n",
       "  <thead>\n",
       "    <tr style=\"text-align: right;\">\n",
       "      <th></th>\n",
       "      <th>independant A</th>\n",
       "      <th>independant B</th>\n",
       "      <th>independant C</th>\n",
       "      <th>independant D</th>\n",
       "      <th>independant E</th>\n",
       "      <th>independant F</th>\n",
       "      <th>independant G</th>\n",
       "      <th>independant H</th>\n",
       "      <th>independant I</th>\n",
       "      <th>independant J</th>\n",
       "      <th>independant K</th>\n",
       "      <th>independant L</th>\n",
       "      <th>Dependant M</th>\n",
       "    </tr>\n",
       "  </thead>\n",
       "  <tbody>\n",
       "    <tr>\n",
       "      <td>0</td>\n",
       "      <td>270518.333</td>\n",
       "      <td>45724.375</td>\n",
       "      <td>4174.000</td>\n",
       "      <td>4638.600</td>\n",
       "      <td>45552.800</td>\n",
       "      <td>1432.286</td>\n",
       "      <td>30743.2</td>\n",
       "      <td>28.000</td>\n",
       "      <td>26.40</td>\n",
       "      <td>45651.400</td>\n",
       "      <td>3480.000</td>\n",
       "      <td>45782.125</td>\n",
       "      <td>45511.400</td>\n",
       "    </tr>\n",
       "    <tr>\n",
       "      <td>1</td>\n",
       "      <td>251009.000</td>\n",
       "      <td>57640.500</td>\n",
       "      <td>2648.571</td>\n",
       "      <td>6030.875</td>\n",
       "      <td>42078.400</td>\n",
       "      <td>1907.800</td>\n",
       "      <td>39220.2</td>\n",
       "      <td>1009.875</td>\n",
       "      <td>808.00</td>\n",
       "      <td>40979.400</td>\n",
       "      <td>3148.200</td>\n",
       "      <td>40979.400</td>\n",
       "      <td>40985.286</td>\n",
       "    </tr>\n",
       "    <tr>\n",
       "      <td>2</td>\n",
       "      <td>297793.000</td>\n",
       "      <td>56552.000</td>\n",
       "      <td>3303.500</td>\n",
       "      <td>4775.600</td>\n",
       "      <td>56495.333</td>\n",
       "      <td>1907.800</td>\n",
       "      <td>31940.2</td>\n",
       "      <td>475.800</td>\n",
       "      <td>482.40</td>\n",
       "      <td>56000.000</td>\n",
       "      <td>4284.000</td>\n",
       "      <td>56000.000</td>\n",
       "      <td>56000.000</td>\n",
       "    </tr>\n",
       "    <tr>\n",
       "      <td>3</td>\n",
       "      <td>167784.800</td>\n",
       "      <td>38950.143</td>\n",
       "      <td>1614.000</td>\n",
       "      <td>3937.600</td>\n",
       "      <td>23530.600</td>\n",
       "      <td>1182.200</td>\n",
       "      <td>26274.6</td>\n",
       "      <td>694.857</td>\n",
       "      <td>696.75</td>\n",
       "      <td>22976.000</td>\n",
       "      <td>1757.200</td>\n",
       "      <td>22896.000</td>\n",
       "      <td>22976.000</td>\n",
       "    </tr>\n",
       "    <tr>\n",
       "      <td>4</td>\n",
       "      <td>177525.600</td>\n",
       "      <td>40581.444</td>\n",
       "      <td>4606.400</td>\n",
       "      <td>4321.400</td>\n",
       "      <td>21660.167</td>\n",
       "      <td>1217.600</td>\n",
       "      <td>29153.2</td>\n",
       "      <td>752.889</td>\n",
       "      <td>1.00</td>\n",
       "      <td>20962.778</td>\n",
       "      <td>1603.222</td>\n",
       "      <td>21000.000</td>\n",
       "      <td>20958.125</td>\n",
       "    </tr>\n",
       "  </tbody>\n",
       "</table>\n",
       "</div>"
      ],
      "text/plain": [
       "   independant A  independant B  independant C  independant D  independant E  \\\n",
       "0     270518.333      45724.375       4174.000       4638.600      45552.800   \n",
       "1     251009.000      57640.500       2648.571       6030.875      42078.400   \n",
       "2     297793.000      56552.000       3303.500       4775.600      56495.333   \n",
       "3     167784.800      38950.143       1614.000       3937.600      23530.600   \n",
       "4     177525.600      40581.444       4606.400       4321.400      21660.167   \n",
       "\n",
       "   independant F  independant G  independant H  independant I  independant J   \\\n",
       "0       1432.286        30743.2         28.000          26.40       45651.400   \n",
       "1       1907.800        39220.2       1009.875         808.00       40979.400   \n",
       "2       1907.800        31940.2        475.800         482.40       56000.000   \n",
       "3       1182.200        26274.6        694.857         696.75       22976.000   \n",
       "4       1217.600        29153.2        752.889           1.00       20962.778   \n",
       "\n",
       "   independant K  independant L  Dependant M  \n",
       "0       3480.000      45782.125    45511.400  \n",
       "1       3148.200      40979.400    40985.286  \n",
       "2       4284.000      56000.000    56000.000  \n",
       "3       1757.200      22896.000    22976.000  \n",
       "4       1603.222      21000.000    20958.125  "
      ]
     },
     "execution_count": 3,
     "metadata": {},
     "output_type": "execute_result"
    }
   ],
   "source": [
    "data_df.head()\n"
   ]
  },
  {
   "cell_type": "code",
   "execution_count": 4,
   "metadata": {},
   "outputs": [],
   "source": [
    "x=data_df.drop(['Dependant M'],axis=1).values\n",
    "y=data_df['Dependant M'].values"
   ]
  },
  {
   "cell_type": "code",
   "execution_count": 5,
   "metadata": {},
   "outputs": [],
   "source": [
    "from sklearn.model_selection import train_test_split\n",
    "x_train, x_test, y_train, y_test= train_test_split(x,y,test_size=0.07,random_state=0)"
   ]
  },
  {
   "cell_type": "code",
   "execution_count": 6,
   "metadata": {},
   "outputs": [
    {
     "data": {
      "text/plain": [
       "LinearRegression(copy_X=True, fit_intercept=True, n_jobs=None, normalize=False)"
      ]
     },
     "execution_count": 6,
     "metadata": {},
     "output_type": "execute_result"
    }
   ],
   "source": [
    "from sklearn.linear_model import LinearRegression\n",
    "ml=LinearRegression()\n",
    "ml.fit(x_train,y_train)"
   ]
  },
  {
   "cell_type": "code",
   "execution_count": 7,
   "metadata": {},
   "outputs": [
    {
     "name": "stdout",
     "output_type": "stream",
     "text": [
      "[72722.40191001 24820.82591731 54680.88465677 57597.93846633\n",
      " 38872.56748656 17019.41211802 18386.59822849 49168.62331763\n",
      " 17070.45606374 14076.64120942   316.47408066 18084.73189284\n",
      " 21160.14895433 31815.21880178 19783.71887723 13718.63778502\n",
      " 50506.29643232 33142.04477787 29716.34307213 63863.03658696\n",
      "  8192.86948906 45440.78877893 52069.00604979 31254.94653604\n",
      " 31147.42063092 60532.78728788 55611.84829136 45393.35584745\n",
      " 26633.98828393 53874.88942056 31737.07801282 29102.91556169\n",
      " 39991.65665124 46097.76429118  9427.59076972  6558.96758551\n",
      " 50521.3976021   5847.08662795 10428.13595398 67958.44870966\n",
      " 10108.7867582  32483.5151199  23146.08175009 48531.83897502\n",
      " 49734.41138601 47733.23609583 31347.66532339 33501.28114167\n",
      " 47111.96902697 43857.81697141 70986.03449693 44149.3034416\n",
      " 63350.56047504 17080.00566567 53147.63584415  9878.8376381\n",
      " 38498.87668413 39684.95006523 25405.62259389 25210.09356684\n",
      " 17622.80184415 31491.0771499  28975.16455509   887.03478297\n",
      " 53238.07657199 31432.07674351 29168.33868936 41259.90347085\n",
      " 58756.27306603 83579.34475587 45533.77875218 52407.19570724\n",
      " 82012.53574174 71954.60639922 27028.50655421  2213.0470256 ]\n"
     ]
    }
   ],
   "source": [
    "y_pred=ml.predict(x_test)\n",
    "print(y_pred)"
   ]
  },
  {
   "cell_type": "code",
   "execution_count": 8,
   "metadata": {},
   "outputs": [
    {
     "data": {
      "text/plain": [
       "array([-1.03770793e-04,  2.59836658e-02,  1.11928949e-01,  1.11365440e-01,\n",
       "       -3.82035685e-02,  1.11449037e-01, -5.74593999e-02,  1.38908261e-02,\n",
       "        5.84827691e-02,  9.73945769e-02,  4.57122588e-01,  8.76140263e-01])"
      ]
     },
     "execution_count": 8,
     "metadata": {},
     "output_type": "execute_result"
    }
   ],
   "source": [
    "ml.coef_"
   ]
  },
  {
   "cell_type": "code",
   "execution_count": 9,
   "metadata": {},
   "outputs": [
    {
     "data": {
      "text/plain": [
       "-501.5741487678242"
      ]
     },
     "execution_count": 9,
     "metadata": {},
     "output_type": "execute_result"
    }
   ],
   "source": [
    "ml.intercept_"
   ]
  },
  {
   "cell_type": "code",
   "execution_count": 10,
   "metadata": {},
   "outputs": [
    {
     "data": {
      "text/plain": [
       "0.9297087396834511"
      ]
     },
     "execution_count": 10,
     "metadata": {},
     "output_type": "execute_result"
    }
   ],
   "source": [
    "from sklearn.metrics import r2_score\n",
    "r2_score(y_test,y_pred)\n",
    "    "
   ]
  },
  {
   "cell_type": "code",
   "execution_count": 12,
   "metadata": {},
   "outputs": [
    {
     "data": {
      "text/plain": [
       "Text(0.5, 1.0, 'Actual vs. Predicted')"
      ]
     },
     "execution_count": 12,
     "metadata": {},
     "output_type": "execute_result"
    },
    {
     "data": {
      "image/png": "[encoded data removed]",
      "text/plain": [
       "<Figure size 1080x720 with 1 Axes>"
      ]
     },
     "metadata": {
      "needs_background": "light"
     },
     "output_type": "display_data"
    }
   ],
   "source": [
    "import matplotlib.pyplot as plt\n",
    "plt.figure(figsize=(15,10))\n",
    "plt.scatter(y_test,y_pred)\n",
    "plt.xlabel(\"Actual\")\n",
    "plt.ylabel(\"Predicted\")\n",
    "plt.title(\"Actual vs. Predicted\")"
   ]
  },
  {
   "cell_type": "code",
   "execution_count": 13,
   "metadata": {},
   "outputs": [
    {
     "data": {
      "text/html": [
       "<div>\n",
       "<style scoped>\n",
       "    .dataframe tbody tr th:only-of-type {\n",
       "        vertical-align: middle;\n",
       "    }\n",
       "\n",
       "    .dataframe tbody tr th {\n",
       "        vertical-align: top;\n",
       "    }\n",
       "\n",
       "    .dataframe thead th {\n",
       "        text-align: right;\n",
       "    }\n",
       "</style>\n",
       "<table border=\"1\" class=\"dataframe\">\n",
       "  <thead>\n",
       "    <tr style=\"text-align: right;\">\n",
       "      <th></th>\n",
       "      <th>Actual Value</th>\n",
       "      <th>Predicted Value</th>\n",
       "      <th>Difference</th>\n",
       "    </tr>\n",
       "  </thead>\n",
       "  <tbody>\n",
       "    <tr>\n",
       "      <td>0</td>\n",
       "      <td>75000.000</td>\n",
       "      <td>72722.401910</td>\n",
       "      <td>2277.598090</td>\n",
       "    </tr>\n",
       "    <tr>\n",
       "      <td>1</td>\n",
       "      <td>25000.000</td>\n",
       "      <td>24820.825917</td>\n",
       "      <td>179.174083</td>\n",
       "    </tr>\n",
       "    <tr>\n",
       "      <td>2</td>\n",
       "      <td>56000.000</td>\n",
       "      <td>54680.884657</td>\n",
       "      <td>1319.115343</td>\n",
       "    </tr>\n",
       "    <tr>\n",
       "      <td>3</td>\n",
       "      <td>59053.000</td>\n",
       "      <td>57597.938466</td>\n",
       "      <td>1455.061534</td>\n",
       "    </tr>\n",
       "    <tr>\n",
       "      <td>4</td>\n",
       "      <td>36966.556</td>\n",
       "      <td>38872.567487</td>\n",
       "      <td>-1906.011487</td>\n",
       "    </tr>\n",
       "    <tr>\n",
       "      <td>...</td>\n",
       "      <td>...</td>\n",
       "      <td>...</td>\n",
       "      <td>...</td>\n",
       "    </tr>\n",
       "    <tr>\n",
       "      <td>71</td>\n",
       "      <td>53763.400</td>\n",
       "      <td>52407.195707</td>\n",
       "      <td>1356.204293</td>\n",
       "    </tr>\n",
       "    <tr>\n",
       "      <td>72</td>\n",
       "      <td>84714.286</td>\n",
       "      <td>82012.535742</td>\n",
       "      <td>2701.750258</td>\n",
       "    </tr>\n",
       "    <tr>\n",
       "      <td>73</td>\n",
       "      <td>73600.000</td>\n",
       "      <td>71954.606399</td>\n",
       "      <td>1645.393601</td>\n",
       "    </tr>\n",
       "    <tr>\n",
       "      <td>74</td>\n",
       "      <td>28000.000</td>\n",
       "      <td>27028.506554</td>\n",
       "      <td>971.493446</td>\n",
       "    </tr>\n",
       "    <tr>\n",
       "      <td>75</td>\n",
       "      <td>3023.857</td>\n",
       "      <td>2213.047026</td>\n",
       "      <td>810.809974</td>\n",
       "    </tr>\n",
       "  </tbody>\n",
       "</table>\n",
       "<p>76 rows × 3 columns</p>\n",
       "</div>"
      ],
      "text/plain": [
       "    Actual Value  Predicted Value   Difference\n",
       "0      75000.000     72722.401910  2277.598090\n",
       "1      25000.000     24820.825917   179.174083\n",
       "2      56000.000     54680.884657  1319.115343\n",
       "3      59053.000     57597.938466  1455.061534\n",
       "4      36966.556     38872.567487 -1906.011487\n",
       "..           ...              ...          ...\n",
       "71     53763.400     52407.195707  1356.204293\n",
       "72     84714.286     82012.535742  2701.750258\n",
       "73     73600.000     71954.606399  1645.393601\n",
       "74     28000.000     27028.506554   971.493446\n",
       "75      3023.857      2213.047026   810.809974\n",
       "\n",
       "[76 rows x 3 columns]"
      ]
     },
     "execution_count": 13,
     "metadata": {},
     "output_type": "execute_result"
    }
   ],
   "source": [
    "pred_y_df=pd.DataFrame({\"Actual Value\":y_test,\"Predicted Value\":y_pred,\"Difference\":y_test-y_pred})\n",
    "pred_y_df[0:76]"
   ]
  },
  {
   "cell_type": "code",
   "execution_count": 14,
   "metadata": {},
   "outputs": [
    {
     "name": "stdout",
     "output_type": "stream",
     "text": [
      "Mean Absolute Error: 2132.031562296723\n",
      "Mean Squared Error: 30361270.75476258\n",
      "Root Mean Squared Error: 5510.106238064977\n"
     ]
    }
   ],
   "source": [
    "from sklearn import metrics\n",
    "import numpy as np\n",
    "print('Mean Absolute Error:', metrics.mean_absolute_error(y_test, y_pred))\n",
    "print('Mean Squared Error:', metrics.mean_squared_error(y_test, y_pred))\n",
    "RMSE= np.sqrt(metrics.mean_squared_error(y_test, y_pred))\n",
    "print('Root Mean Squared Error:',RMSE)"
   ]
  },
  {
   "cell_type": "code",
   "execution_count": 15,
   "metadata": {},
   "outputs": [
    {
     "data": {
      "text/plain": [
       "94437.8"
      ]
     },
     "execution_count": 15,
     "metadata": {},
     "output_type": "execute_result"
    }
   ],
   "source": [
    "y.max()"
   ]
  },
  {
   "cell_type": "code",
   "execution_count": 16,
   "metadata": {},
   "outputs": [
    {
     "data": {
      "text/plain": [
       "601.0"
      ]
     },
     "execution_count": 16,
     "metadata": {},
     "output_type": "execute_result"
    }
   ],
   "source": [
    "y.min()"
   ]
  },
  {
   "cell_type": "code",
   "execution_count": 17,
   "metadata": {},
   "outputs": [
    {
     "name": "stdout",
     "output_type": "stream",
     "text": [
      "0.05872009955651703\n"
     ]
    }
   ],
   "source": [
    "NRMSE=RMSE/(y.max()-y.min())\n",
    "print(NRMSE)"
   ]
  },
  {
   "cell_type": "code",
   "execution_count": null,
   "metadata": {},
   "outputs": [],
   "source": []
  }
 ],
 "metadata": {
  "kernelspec": {
   "display_name": "Python 3",
   "language": "python",
   "name": "python3"
  },
  "language_info": {
   "codemirror_mode": {
    "name": "ipython",
    "version": 3
   },
   "file_extension": ".py",
   "mimetype": "text/x-python",
   "name": "python",
   "nbconvert_exporter": "python",
   "pygments_lexer": "ipython3",
   "version": "3.7.4"
  }
 },
 "nbformat": 4,
 "nbformat_minor": 2
}
